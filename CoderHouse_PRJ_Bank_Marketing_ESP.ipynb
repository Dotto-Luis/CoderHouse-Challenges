{
  "cells": [
    {
      "cell_type": "markdown",
      "metadata": {
        "id": "view-in-github",
        "colab_type": "text"
      },
      "source": [
        "<a href=\"https://colab.research.google.com/github/Dotto-Luis/CoderHouse-Challenges/blob/main/CoderHouse_PRJ_Bank_Marketing_ESP.ipynb\" target=\"_parent\"><img src=\"https://colab.research.google.com/assets/colab-badge.svg\" alt=\"Open In Colab\"/></a>"
      ]
    },
    {
      "cell_type": "markdown",
      "metadata": {
        "id": "x2QnWZehp-uP"
      },
      "source": [
        "<h1 style=\"text-align: center;\">BANK MARKETING\n",
        "</h1>"
      ]
    },
    {
      "cell_type": "markdown",
      "source": [
        "![pic](https://raw.githubusercontent.com/Dotto-Luis/Projects/main/Finance/Bank%20Marketing/pics/Finance-and-Retail-Banking-Blog-Post-1080x628.jpg)"
      ],
      "metadata": {
        "id": "iy4TwPA0SLUV"
      }
    },
    {
      "cell_type": "markdown",
      "source": [
        "[Presentacion GOOGLE SLIDES ](https://docs.google.com/presentation/d/1plDnCdAgN3u0ZqzlMlQQA4PmtBiDu6JWa_olPPSH4A4/edit?usp=sharing)\n",
        "\n",
        "↑↑↑↑ Tocando el link los lleva a la presentacion. \n",
        "\n",
        "\n",
        "- [x] 01 - Portada \n",
        "- [x] 01 - Tabla de contenido \n",
        "- [ ] 01 - Descripción del caso \n",
        "- [ ] 02 - Tabla de versionado\n",
        "- [ ] 03 - Objetivo del modelo\n",
        "- [ ] 04 - Descripción de los datos.\n",
        "- [ ] 05 - Hallazgos EDA\n",
        "- [ ] 06 - Algoritmo elegido\n",
        "- [ ] 07 - Métricas de desempeño\n",
        "- [ ] 08 - Iteraciones de Optimización. \n",
        "- [ ] 09 - Métricas finales del Modelo Optimizado. \n",
        "- [ ] 10 - Futuras líneas\n",
        "- [ ] 11 - Conclusiones.\n",
        "\n"
      ],
      "metadata": {
        "id": "M21H2hkC6MxX"
      }
    },
    {
      "cell_type": "markdown",
      "source": [
        "---"
      ],
      "metadata": {
        "id": "DVik1usXmI9p"
      }
    },
    {
      "cell_type": "markdown",
      "source": [
        "### Indice Notebook\n",
        "\n",
        "\n",
        "- [ ] 01 - Introduccion\n",
        "- [ ] 02 - Preguntas y objetivos de la investigacion\n",
        "- [ ] 03 - Conformacion del equipo de trabajo\n",
        "- [ ] 04 - Data Acquisition\n",
        "- [ ] 05 - Data Wrangling\n",
        "- [ ] 06 - EDA\n",
        "- [ ] 07 - Modelos\n",
        "- [ ] 08 - Mejora de modelos\n",
        "- [ ] 09 - Conclusiones"
      ],
      "metadata": {
        "id": "w5jntz0O8yRk"
      }
    },
    {
      "cell_type": "markdown",
      "source": [
        "ver clase 19 hoja 47 para guiarse en las secciones del indice\n",
        "\n",
        "clase 27 hoja 20"
      ],
      "metadata": {
        "id": "QhP57oFNsVfR"
      }
    },
    {
      "cell_type": "markdown",
      "source": [
        "## 1. Intro"
      ],
      "metadata": {
        "id": "eCmBUpw12xkG"
      }
    },
    {
      "cell_type": "markdown",
      "source": [
        "El dataset elegido es de [UCI](https://archive.ics.uci.edu/ml/datasets/Bank+Marketing#) y [Kaggle](https://www.kaggle.com/code/henriqueyamahata/bank-marketing-classification-roc-f1-recall/notebook). La variable target es \n",
        "**y**, lo que significa si el cliente suscribio o no a un deposito a plazo."
      ],
      "metadata": {
        "id": "xut27gqvHKrx"
      }
    },
    {
      "cell_type": "markdown",
      "source": [
        "## 2. Preguntas y objetivos de la investigacion"
      ],
      "metadata": {
        "id": "GgXXHLCj7M1s"
      }
    },
    {
      "cell_type": "markdown",
      "source": [
        "Los datos están relacionados con campañas de marketing directo (llamadas telefónicas) de una institución bancaria portuguesa. El objetivo de la clasificación es predecir si el cliente suscribirá un depósito a plazo (variable y).\n",
        "\n",
        "A menudo, se requería más de un contacto con el mismo cliente, para poder acceder si el producto (depósito bancario a plazo) estaría ('sí') o no ('no') suscrito."
      ],
      "metadata": {
        "id": "Lk89UyuwQGSZ"
      }
    },
    {
      "cell_type": "markdown",
      "source": [
        "## 3. Conformacion del equipo de trabajo"
      ],
      "metadata": {
        "id": "wMpsKcR93M0B"
      }
    },
    {
      "cell_type": "markdown",
      "source": [
        "- Correa Bravo Alexis\n",
        "- Castro Ignacio Joaquin\n",
        "- Dotto Luis"
      ],
      "metadata": {
        "id": "d8dO1A3B3nKi"
      }
    },
    {
      "cell_type": "markdown",
      "source": [
        "## 4. Data Acquisition"
      ],
      "metadata": {
        "id": "ZcsAPkNy3sap"
      }
    },
    {
      "cell_type": "code",
      "source": [
        "dataset = 'https://raw.githubusercontent.com/Dotto-Luis/Projects/main/Finance/Bank%20Marketing/bank-additional-full2.csv'"
      ],
      "metadata": {
        "id": "1LWs38qUB6vn"
      },
      "execution_count": null,
      "outputs": []
    },
    {
      "cell_type": "markdown",
      "source": [
        "#### Importando librerias y estableciendo conexion con Google Drive para utilizar Collab"
      ],
      "metadata": {
        "id": "q-6bh8M7G-VK"
      }
    },
    {
      "cell_type": "code",
      "execution_count": null,
      "metadata": {
        "id": "kZS3PSnGp-uz",
        "colab": {
          "base_uri": "https://localhost:8080/"
        },
        "outputId": "c3592f87-8ded-4cc0-aafb-9aab6a989b0f"
      },
      "outputs": [
        {
          "output_type": "stream",
          "name": "stdout",
          "text": [
            "Mounted at /content/gdrive\n",
            "/content\n"
          ]
        }
      ],
      "source": [
        "import pandas as pd\n",
        "import seaborn as sns #pip install -U seaborn\n",
        "import plotly.express as px\n",
        "from matplotlib import pyplot as plt\n",
        "import numpy as np\n",
        "import scipy \n",
        "#from funpymodeling.exploratory import profiling_num #pip install funpymodeling==0.1.7\n",
        "import csv\n",
        "from google.colab import drive\n",
        "import os\n",
        "drive.mount('/content/gdrive')\n",
        "# Establecer ruta de acceso en drive\n",
        "import os\n",
        "print(os.getcwd())\n",
        "os.chdir('/content/gdrive/My Drive')\n",
        "# Corran esto en vez de lo anterior -----  cada uno tenga en su drive de inicio el csv (cori)\n",
        "# no me acuerdo si es colab notebooks o colabnotebooks.. miren\n",
        "#ruta = '/content/gdrive/MyDrive/Colab Notebooks' #Tengo gdrive en vez de drive para poner cargar el archivo desde mi drive (luis)\n",
        "#rutadf= ruta + '/bank-additional-full.csv'\n",
        "#bank= pd.read_csv(rutadf, sep = \",\")"
      ]
    },
    {
      "cell_type": "markdown",
      "source": [
        "#### Carga del dataset"
      ],
      "metadata": {
        "id": "N6TPZ0QWIFB9"
      }
    },
    {
      "cell_type": "code",
      "source": [
        "bank= pd.read_csv(dataset)"
      ],
      "metadata": {
        "id": "vZjCllNL9Q6T"
      },
      "execution_count": null,
      "outputs": []
    },
    {
      "cell_type": "code",
      "execution_count": null,
      "metadata": {
        "id": "gmv7AJ0ip-u1",
        "outputId": "bee31faa-f572-4205-c6bc-f59bff814246",
        "colab": {
          "base_uri": "https://localhost:8080/",
          "height": 299
        }
      },
      "outputs": [
        {
          "output_type": "execute_result",
          "data": {
            "text/plain": [
              "   age        job  marital    education  default housing loan    contact  \\\n",
              "0   56  housemaid  married     basic.4y       no      no   no  telephone   \n",
              "1   57   services  married  high.school  unknown      no   no  telephone   \n",
              "2   37   services  married  high.school       no     yes   no  telephone   \n",
              "3   40     admin.  married     basic.6y       no      no   no  telephone   \n",
              "4   56   services  married  high.school       no      no  yes  telephone   \n",
              "\n",
              "  month day_of_week  ...  campaign  pdays  previous     poutcome emp.var.rate  \\\n",
              "0   may         mon  ...         1    999         0  nonexistent          1.1   \n",
              "1   may         mon  ...         1    999         0  nonexistent          1.1   \n",
              "2   may         mon  ...         1    999         0  nonexistent          1.1   \n",
              "3   may         mon  ...         1    999         0  nonexistent          1.1   \n",
              "4   may         mon  ...         1    999         0  nonexistent          1.1   \n",
              "\n",
              "   cons.price.idx  cons.conf.idx  euribor3m  nr.employed   y  \n",
              "0          93.994          -36.4      4.857       5191.0  no  \n",
              "1          93.994          -36.4      4.857       5191.0  no  \n",
              "2          93.994          -36.4      4.857       5191.0  no  \n",
              "3          93.994          -36.4      4.857       5191.0  no  \n",
              "4          93.994          -36.4      4.857       5191.0  no  \n",
              "\n",
              "[5 rows x 21 columns]"
            ],
            "text/html": [
              "\n",
              "  <div id=\"df-877598aa-f57d-4a1f-8c11-18374ff4fa4a\">\n",
              "    <div class=\"colab-df-container\">\n",
              "      <div>\n",
              "<style scoped>\n",
              "    .dataframe tbody tr th:only-of-type {\n",
              "        vertical-align: middle;\n",
              "    }\n",
              "\n",
              "    .dataframe tbody tr th {\n",
              "        vertical-align: top;\n",
              "    }\n",
              "\n",
              "    .dataframe thead th {\n",
              "        text-align: right;\n",
              "    }\n",
              "</style>\n",
              "<table border=\"1\" class=\"dataframe\">\n",
              "  <thead>\n",
              "    <tr style=\"text-align: right;\">\n",
              "      <th></th>\n",
              "      <th>age</th>\n",
              "      <th>job</th>\n",
              "      <th>marital</th>\n",
              "      <th>education</th>\n",
              "      <th>default</th>\n",
              "      <th>housing</th>\n",
              "      <th>loan</th>\n",
              "      <th>contact</th>\n",
              "      <th>month</th>\n",
              "      <th>day_of_week</th>\n",
              "      <th>...</th>\n",
              "      <th>campaign</th>\n",
              "      <th>pdays</th>\n",
              "      <th>previous</th>\n",
              "      <th>poutcome</th>\n",
              "      <th>emp.var.rate</th>\n",
              "      <th>cons.price.idx</th>\n",
              "      <th>cons.conf.idx</th>\n",
              "      <th>euribor3m</th>\n",
              "      <th>nr.employed</th>\n",
              "      <th>y</th>\n",
              "    </tr>\n",
              "  </thead>\n",
              "  <tbody>\n",
              "    <tr>\n",
              "      <th>0</th>\n",
              "      <td>56</td>\n",
              "      <td>housemaid</td>\n",
              "      <td>married</td>\n",
              "      <td>basic.4y</td>\n",
              "      <td>no</td>\n",
              "      <td>no</td>\n",
              "      <td>no</td>\n",
              "      <td>telephone</td>\n",
              "      <td>may</td>\n",
              "      <td>mon</td>\n",
              "      <td>...</td>\n",
              "      <td>1</td>\n",
              "      <td>999</td>\n",
              "      <td>0</td>\n",
              "      <td>nonexistent</td>\n",
              "      <td>1.1</td>\n",
              "      <td>93.994</td>\n",
              "      <td>-36.4</td>\n",
              "      <td>4.857</td>\n",
              "      <td>5191.0</td>\n",
              "      <td>no</td>\n",
              "    </tr>\n",
              "    <tr>\n",
              "      <th>1</th>\n",
              "      <td>57</td>\n",
              "      <td>services</td>\n",
              "      <td>married</td>\n",
              "      <td>high.school</td>\n",
              "      <td>unknown</td>\n",
              "      <td>no</td>\n",
              "      <td>no</td>\n",
              "      <td>telephone</td>\n",
              "      <td>may</td>\n",
              "      <td>mon</td>\n",
              "      <td>...</td>\n",
              "      <td>1</td>\n",
              "      <td>999</td>\n",
              "      <td>0</td>\n",
              "      <td>nonexistent</td>\n",
              "      <td>1.1</td>\n",
              "      <td>93.994</td>\n",
              "      <td>-36.4</td>\n",
              "      <td>4.857</td>\n",
              "      <td>5191.0</td>\n",
              "      <td>no</td>\n",
              "    </tr>\n",
              "    <tr>\n",
              "      <th>2</th>\n",
              "      <td>37</td>\n",
              "      <td>services</td>\n",
              "      <td>married</td>\n",
              "      <td>high.school</td>\n",
              "      <td>no</td>\n",
              "      <td>yes</td>\n",
              "      <td>no</td>\n",
              "      <td>telephone</td>\n",
              "      <td>may</td>\n",
              "      <td>mon</td>\n",
              "      <td>...</td>\n",
              "      <td>1</td>\n",
              "      <td>999</td>\n",
              "      <td>0</td>\n",
              "      <td>nonexistent</td>\n",
              "      <td>1.1</td>\n",
              "      <td>93.994</td>\n",
              "      <td>-36.4</td>\n",
              "      <td>4.857</td>\n",
              "      <td>5191.0</td>\n",
              "      <td>no</td>\n",
              "    </tr>\n",
              "    <tr>\n",
              "      <th>3</th>\n",
              "      <td>40</td>\n",
              "      <td>admin.</td>\n",
              "      <td>married</td>\n",
              "      <td>basic.6y</td>\n",
              "      <td>no</td>\n",
              "      <td>no</td>\n",
              "      <td>no</td>\n",
              "      <td>telephone</td>\n",
              "      <td>may</td>\n",
              "      <td>mon</td>\n",
              "      <td>...</td>\n",
              "      <td>1</td>\n",
              "      <td>999</td>\n",
              "      <td>0</td>\n",
              "      <td>nonexistent</td>\n",
              "      <td>1.1</td>\n",
              "      <td>93.994</td>\n",
              "      <td>-36.4</td>\n",
              "      <td>4.857</td>\n",
              "      <td>5191.0</td>\n",
              "      <td>no</td>\n",
              "    </tr>\n",
              "    <tr>\n",
              "      <th>4</th>\n",
              "      <td>56</td>\n",
              "      <td>services</td>\n",
              "      <td>married</td>\n",
              "      <td>high.school</td>\n",
              "      <td>no</td>\n",
              "      <td>no</td>\n",
              "      <td>yes</td>\n",
              "      <td>telephone</td>\n",
              "      <td>may</td>\n",
              "      <td>mon</td>\n",
              "      <td>...</td>\n",
              "      <td>1</td>\n",
              "      <td>999</td>\n",
              "      <td>0</td>\n",
              "      <td>nonexistent</td>\n",
              "      <td>1.1</td>\n",
              "      <td>93.994</td>\n",
              "      <td>-36.4</td>\n",
              "      <td>4.857</td>\n",
              "      <td>5191.0</td>\n",
              "      <td>no</td>\n",
              "    </tr>\n",
              "  </tbody>\n",
              "</table>\n",
              "<p>5 rows × 21 columns</p>\n",
              "</div>\n",
              "      <button class=\"colab-df-convert\" onclick=\"convertToInteractive('df-877598aa-f57d-4a1f-8c11-18374ff4fa4a')\"\n",
              "              title=\"Convert this dataframe to an interactive table.\"\n",
              "              style=\"display:none;\">\n",
              "        \n",
              "  <svg xmlns=\"http://www.w3.org/2000/svg\" height=\"24px\"viewBox=\"0 0 24 24\"\n",
              "       width=\"24px\">\n",
              "    <path d=\"M0 0h24v24H0V0z\" fill=\"none\"/>\n",
              "    <path d=\"M18.56 5.44l.94 2.06.94-2.06 2.06-.94-2.06-.94-.94-2.06-.94 2.06-2.06.94zm-11 1L8.5 8.5l.94-2.06 2.06-.94-2.06-.94L8.5 2.5l-.94 2.06-2.06.94zm10 10l.94 2.06.94-2.06 2.06-.94-2.06-.94-.94-2.06-.94 2.06-2.06.94z\"/><path d=\"M17.41 7.96l-1.37-1.37c-.4-.4-.92-.59-1.43-.59-.52 0-1.04.2-1.43.59L10.3 9.45l-7.72 7.72c-.78.78-.78 2.05 0 2.83L4 21.41c.39.39.9.59 1.41.59.51 0 1.02-.2 1.41-.59l7.78-7.78 2.81-2.81c.8-.78.8-2.07 0-2.86zM5.41 20L4 18.59l7.72-7.72 1.47 1.35L5.41 20z\"/>\n",
              "  </svg>\n",
              "      </button>\n",
              "      \n",
              "  <style>\n",
              "    .colab-df-container {\n",
              "      display:flex;\n",
              "      flex-wrap:wrap;\n",
              "      gap: 12px;\n",
              "    }\n",
              "\n",
              "    .colab-df-convert {\n",
              "      background-color: #E8F0FE;\n",
              "      border: none;\n",
              "      border-radius: 50%;\n",
              "      cursor: pointer;\n",
              "      display: none;\n",
              "      fill: #1967D2;\n",
              "      height: 32px;\n",
              "      padding: 0 0 0 0;\n",
              "      width: 32px;\n",
              "    }\n",
              "\n",
              "    .colab-df-convert:hover {\n",
              "      background-color: #E2EBFA;\n",
              "      box-shadow: 0px 1px 2px rgba(60, 64, 67, 0.3), 0px 1px 3px 1px rgba(60, 64, 67, 0.15);\n",
              "      fill: #174EA6;\n",
              "    }\n",
              "\n",
              "    [theme=dark] .colab-df-convert {\n",
              "      background-color: #3B4455;\n",
              "      fill: #D2E3FC;\n",
              "    }\n",
              "\n",
              "    [theme=dark] .colab-df-convert:hover {\n",
              "      background-color: #434B5C;\n",
              "      box-shadow: 0px 1px 3px 1px rgba(0, 0, 0, 0.15);\n",
              "      filter: drop-shadow(0px 1px 2px rgba(0, 0, 0, 0.3));\n",
              "      fill: #FFFFFF;\n",
              "    }\n",
              "  </style>\n",
              "\n",
              "      <script>\n",
              "        const buttonEl =\n",
              "          document.querySelector('#df-877598aa-f57d-4a1f-8c11-18374ff4fa4a button.colab-df-convert');\n",
              "        buttonEl.style.display =\n",
              "          google.colab.kernel.accessAllowed ? 'block' : 'none';\n",
              "\n",
              "        async function convertToInteractive(key) {\n",
              "          const element = document.querySelector('#df-877598aa-f57d-4a1f-8c11-18374ff4fa4a');\n",
              "          const dataTable =\n",
              "            await google.colab.kernel.invokeFunction('convertToInteractive',\n",
              "                                                     [key], {});\n",
              "          if (!dataTable) return;\n",
              "\n",
              "          const docLinkHtml = 'Like what you see? Visit the ' +\n",
              "            '<a target=\"_blank\" href=https://colab.research.google.com/notebooks/data_table.ipynb>data table notebook</a>'\n",
              "            + ' to learn more about interactive tables.';\n",
              "          element.innerHTML = '';\n",
              "          dataTable['output_type'] = 'display_data';\n",
              "          await google.colab.output.renderOutput(dataTable, element);\n",
              "          const docLink = document.createElement('div');\n",
              "          docLink.innerHTML = docLinkHtml;\n",
              "          element.appendChild(docLink);\n",
              "        }\n",
              "      </script>\n",
              "    </div>\n",
              "  </div>\n",
              "  "
            ]
          },
          "metadata": {},
          "execution_count": 4
        }
      ],
      "source": [
        "bank.head()"
      ]
    },
    {
      "cell_type": "markdown",
      "source": [
        "## 5. Data Wrangling"
      ],
      "metadata": {
        "id": "3N2DWPLh38Ms"
      }
    },
    {
      "cell_type": "markdown",
      "source": [
        "#### 5.1 Informacion del dataset\n",
        "\n"
      ],
      "metadata": {
        "id": "2CRZYe9jRlCL"
      }
    },
    {
      "cell_type": "markdown",
      "source": [
        "##### Datos del cliente:\n",
        "- Age (numeric)\n",
        "- Job : type of job (categorical: 'admin.', 'blue-collar', 'entrepreneur', 'housemaid', 'management', 'retired', 'self-employed', 'services', 'student', 'technician', 'unemployed', 'unknown')\n",
        "- Marital : marital status (categorical: 'divorced', 'married', 'single', 'unknown' ; note: 'divorced' means divorced or widowed)\n",
        "- Education (categorical: 'basic.4y', 'basic.6y', 'basic.9y', 'high.school', 'illiterate', 'professional.course', 'university.degree', 'unknown')\n",
        "- Default: has credit in default? (categorical: 'no', 'yes', 'unknown')\n",
        "- Housing: has housing loan? (categorical: 'no', 'yes', 'unknown')\n",
        "- Loan: has personal loan? (categorical: 'no', 'yes', 'unknown')\n",
        "\n",
        "##### Relativo al ultimo contacto con el cliente en la actual campania:\n",
        "- Contact: contact communication type (categorical: 'cellular','telephone')\n",
        "- Month: last contact month of year (categorical: 'jan', 'feb', 'mar', ..., 'nov', 'dec')\n",
        "- Day_of_week: last contact day of the week (categorical: 'mon','tue','wed','thu','fri')\n",
        "- Duration: last contact duration, in seconds (numeric). Important note: this attribute highly affects the output target (e.g., if duration=0 then y='no'). Yet, the duration is not known before a call is performed. Also, after the end of the call y is obviously known. Thus, this input should only be included for benchmark purposes and should be discarded if the intention is to have a realistic predictive model.\n",
        "\n",
        "##### Otros atributos:\n",
        "- Campaign: number of contacts performed during this campaign and for this client (numeric, includes last contact)\n",
        "- Pdays: number of days that passed by after the client was last contacted from a previous campaign (numeric; 999 means client was not previously contacted)\n",
        "- Previous: number of contacts performed before this campaign and for this client (numeric)\n",
        "- Poutcome: outcome of the previous marketing campaign (categorical: 'failure','nonexistent','success')\n",
        "\n",
        "##### Atributos Sociales y economicos\n",
        "- Emp.var.rate: employment variation rate - quarterly indicator (numeric)\n",
        "- Cons.price.idx: consumer price index - monthly indicator (numeric)\n",
        "- Cons.conf.idx: consumer confidence index - monthly indicator (numeric)\n",
        "- Euribor3m: euribor 3 month rate - daily indicator (numeric)\n",
        "- Nr.employed: number of employees - quarterly indicator (numeric)\n",
        "\n",
        "##### Variable de Salida - Target:\n",
        "- y - has the client subscribed a term deposit? (binary: 'yes', 'no')"
      ],
      "metadata": {
        "id": "VSZC9agSQ1SG"
      }
    },
    {
      "cell_type": "markdown",
      "source": [
        "#### 5.2 Descubrimiento\n",
        "\n",
        "Antes de empezar cualquier análisis, es importante comprender los datos, la estructura, tipos y cantidad. También lo es conocer por qué una compañía los utiliza y cómo. Ésto sirve para tomar decisiones posteriores con un rumbo claro. "
      ],
      "metadata": {
        "id": "smSmGjTrJnC4"
      }
    },
    {
      "cell_type": "markdown",
      "source": [
        "Analicemos las dimensiones de nuestro dataset.."
      ],
      "metadata": {
        "id": "pfhHo2-gK5QO"
      }
    },
    {
      "cell_type": "code",
      "source": [
        "bank.shape"
      ],
      "metadata": {
        "colab": {
          "base_uri": "https://localhost:8080/"
        },
        "id": "HGeu45jQKfCk",
        "outputId": "8d0a7c05-0017-4433-c7b7-6be7298c02b1"
      },
      "execution_count": null,
      "outputs": [
        {
          "output_type": "execute_result",
          "data": {
            "text/plain": [
              "(41188, 21)"
            ]
          },
          "metadata": {},
          "execution_count": 6
        }
      ]
    },
    {
      "cell_type": "markdown",
      "source": [
        "Tambien veamos las variables y su tipo"
      ],
      "metadata": {
        "id": "ULzSanTMK7QA"
      }
    },
    {
      "cell_type": "code",
      "source": [
        "bank.info()"
      ],
      "metadata": {
        "colab": {
          "base_uri": "https://localhost:8080/"
        },
        "id": "iii_j3UO0QIQ",
        "outputId": "e3b8232e-9466-4d86-dda5-f52815b4e066"
      },
      "execution_count": null,
      "outputs": [
        {
          "output_type": "stream",
          "name": "stdout",
          "text": [
            "<class 'pandas.core.frame.DataFrame'>\n",
            "RangeIndex: 41188 entries, 0 to 41187\n",
            "Data columns (total 21 columns):\n",
            " #   Column          Non-Null Count  Dtype  \n",
            "---  ------          --------------  -----  \n",
            " 0   age             41188 non-null  int64  \n",
            " 1   job             41188 non-null  object \n",
            " 2   marital         41188 non-null  object \n",
            " 3   education       41188 non-null  object \n",
            " 4   default         41188 non-null  object \n",
            " 5   housing         41188 non-null  object \n",
            " 6   loan            41188 non-null  object \n",
            " 7   contact         41188 non-null  object \n",
            " 8   month           41188 non-null  object \n",
            " 9   day_of_week     41188 non-null  object \n",
            " 10  duration        41188 non-null  int64  \n",
            " 11  campaign        41188 non-null  int64  \n",
            " 12  pdays           41188 non-null  int64  \n",
            " 13  previous        41188 non-null  int64  \n",
            " 14  poutcome        41188 non-null  object \n",
            " 15  emp.var.rate    41188 non-null  float64\n",
            " 16  cons.price.idx  41188 non-null  float64\n",
            " 17  cons.conf.idx   41188 non-null  float64\n",
            " 18  euribor3m       41188 non-null  float64\n",
            " 19  nr.employed     41188 non-null  float64\n",
            " 20  y               41188 non-null  object \n",
            "dtypes: float64(5), int64(5), object(11)\n",
            "memory usage: 6.6+ MB\n"
          ]
        }
      ]
    },
    {
      "cell_type": "code",
      "source": [
        "columnsu = ['job','marital','education','default','housing','loan','contact','month','day_of_week']"
      ],
      "metadata": {
        "id": "Qmq3ljcEATOD"
      },
      "execution_count": null,
      "outputs": []
    },
    {
      "cell_type": "code",
      "source": [
        "bank.head(11)"
      ],
      "metadata": {
        "colab": {
          "base_uri": "https://localhost:8080/",
          "height": 488
        },
        "id": "XR1cHYDuBGzE",
        "outputId": "dd92062f-e239-406c-fd35-5a582a24933e"
      },
      "execution_count": null,
      "outputs": [
        {
          "output_type": "execute_result",
          "data": {
            "text/plain": [
              "    age          job  marital            education  default housing loan  \\\n",
              "0    56    housemaid  married             basic.4y       no      no   no   \n",
              "1    57     services  married          high.school  unknown      no   no   \n",
              "2    37     services  married          high.school       no     yes   no   \n",
              "3    40       admin.  married             basic.6y       no      no   no   \n",
              "4    56     services  married          high.school       no      no  yes   \n",
              "5    45     services  married             basic.9y  unknown      no   no   \n",
              "6    59       admin.  married  professional.course       no      no   no   \n",
              "7    41  blue-collar  married              unknown  unknown      no   no   \n",
              "8    24   technician   single  professional.course       no     yes   no   \n",
              "9    25     services   single          high.school       no     yes   no   \n",
              "10   41  blue-collar  married              unknown  unknown      no   no   \n",
              "\n",
              "      contact month day_of_week  ...  campaign  pdays  previous     poutcome  \\\n",
              "0   telephone   may         mon  ...         1    999         0  nonexistent   \n",
              "1   telephone   may         mon  ...         1    999         0  nonexistent   \n",
              "2   telephone   may         mon  ...         1    999         0  nonexistent   \n",
              "3   telephone   may         mon  ...         1    999         0  nonexistent   \n",
              "4   telephone   may         mon  ...         1    999         0  nonexistent   \n",
              "5   telephone   may         mon  ...         1    999         0  nonexistent   \n",
              "6   telephone   may         mon  ...         1    999         0  nonexistent   \n",
              "7   telephone   may         mon  ...         1    999         0  nonexistent   \n",
              "8   telephone   may         mon  ...         1    999         0  nonexistent   \n",
              "9   telephone   may         mon  ...         1    999         0  nonexistent   \n",
              "10  telephone   may         mon  ...         1    999         0  nonexistent   \n",
              "\n",
              "   emp.var.rate  cons.price.idx  cons.conf.idx  euribor3m  nr.employed   y  \n",
              "0           1.1          93.994          -36.4      4.857       5191.0  no  \n",
              "1           1.1          93.994          -36.4      4.857       5191.0  no  \n",
              "2           1.1          93.994          -36.4      4.857       5191.0  no  \n",
              "3           1.1          93.994          -36.4      4.857       5191.0  no  \n",
              "4           1.1          93.994          -36.4      4.857       5191.0  no  \n",
              "5           1.1          93.994          -36.4      4.857       5191.0  no  \n",
              "6           1.1          93.994          -36.4      4.857       5191.0  no  \n",
              "7           1.1          93.994          -36.4      4.857       5191.0  no  \n",
              "8           1.1          93.994          -36.4      4.857       5191.0  no  \n",
              "9           1.1          93.994          -36.4      4.857       5191.0  no  \n",
              "10          1.1          93.994          -36.4      4.857       5191.0  no  \n",
              "\n",
              "[11 rows x 21 columns]"
            ],
            "text/html": [
              "\n",
              "  <div id=\"df-d15220e2-577e-4662-b5a0-82ad5b8f7a15\">\n",
              "    <div class=\"colab-df-container\">\n",
              "      <div>\n",
              "<style scoped>\n",
              "    .dataframe tbody tr th:only-of-type {\n",
              "        vertical-align: middle;\n",
              "    }\n",
              "\n",
              "    .dataframe tbody tr th {\n",
              "        vertical-align: top;\n",
              "    }\n",
              "\n",
              "    .dataframe thead th {\n",
              "        text-align: right;\n",
              "    }\n",
              "</style>\n",
              "<table border=\"1\" class=\"dataframe\">\n",
              "  <thead>\n",
              "    <tr style=\"text-align: right;\">\n",
              "      <th></th>\n",
              "      <th>age</th>\n",
              "      <th>job</th>\n",
              "      <th>marital</th>\n",
              "      <th>education</th>\n",
              "      <th>default</th>\n",
              "      <th>housing</th>\n",
              "      <th>loan</th>\n",
              "      <th>contact</th>\n",
              "      <th>month</th>\n",
              "      <th>day_of_week</th>\n",
              "      <th>...</th>\n",
              "      <th>campaign</th>\n",
              "      <th>pdays</th>\n",
              "      <th>previous</th>\n",
              "      <th>poutcome</th>\n",
              "      <th>emp.var.rate</th>\n",
              "      <th>cons.price.idx</th>\n",
              "      <th>cons.conf.idx</th>\n",
              "      <th>euribor3m</th>\n",
              "      <th>nr.employed</th>\n",
              "      <th>y</th>\n",
              "    </tr>\n",
              "  </thead>\n",
              "  <tbody>\n",
              "    <tr>\n",
              "      <th>0</th>\n",
              "      <td>56</td>\n",
              "      <td>housemaid</td>\n",
              "      <td>married</td>\n",
              "      <td>basic.4y</td>\n",
              "      <td>no</td>\n",
              "      <td>no</td>\n",
              "      <td>no</td>\n",
              "      <td>telephone</td>\n",
              "      <td>may</td>\n",
              "      <td>mon</td>\n",
              "      <td>...</td>\n",
              "      <td>1</td>\n",
              "      <td>999</td>\n",
              "      <td>0</td>\n",
              "      <td>nonexistent</td>\n",
              "      <td>1.1</td>\n",
              "      <td>93.994</td>\n",
              "      <td>-36.4</td>\n",
              "      <td>4.857</td>\n",
              "      <td>5191.0</td>\n",
              "      <td>no</td>\n",
              "    </tr>\n",
              "    <tr>\n",
              "      <th>1</th>\n",
              "      <td>57</td>\n",
              "      <td>services</td>\n",
              "      <td>married</td>\n",
              "      <td>high.school</td>\n",
              "      <td>unknown</td>\n",
              "      <td>no</td>\n",
              "      <td>no</td>\n",
              "      <td>telephone</td>\n",
              "      <td>may</td>\n",
              "      <td>mon</td>\n",
              "      <td>...</td>\n",
              "      <td>1</td>\n",
              "      <td>999</td>\n",
              "      <td>0</td>\n",
              "      <td>nonexistent</td>\n",
              "      <td>1.1</td>\n",
              "      <td>93.994</td>\n",
              "      <td>-36.4</td>\n",
              "      <td>4.857</td>\n",
              "      <td>5191.0</td>\n",
              "      <td>no</td>\n",
              "    </tr>\n",
              "    <tr>\n",
              "      <th>2</th>\n",
              "      <td>37</td>\n",
              "      <td>services</td>\n",
              "      <td>married</td>\n",
              "      <td>high.school</td>\n",
              "      <td>no</td>\n",
              "      <td>yes</td>\n",
              "      <td>no</td>\n",
              "      <td>telephone</td>\n",
              "      <td>may</td>\n",
              "      <td>mon</td>\n",
              "      <td>...</td>\n",
              "      <td>1</td>\n",
              "      <td>999</td>\n",
              "      <td>0</td>\n",
              "      <td>nonexistent</td>\n",
              "      <td>1.1</td>\n",
              "      <td>93.994</td>\n",
              "      <td>-36.4</td>\n",
              "      <td>4.857</td>\n",
              "      <td>5191.0</td>\n",
              "      <td>no</td>\n",
              "    </tr>\n",
              "    <tr>\n",
              "      <th>3</th>\n",
              "      <td>40</td>\n",
              "      <td>admin.</td>\n",
              "      <td>married</td>\n",
              "      <td>basic.6y</td>\n",
              "      <td>no</td>\n",
              "      <td>no</td>\n",
              "      <td>no</td>\n",
              "      <td>telephone</td>\n",
              "      <td>may</td>\n",
              "      <td>mon</td>\n",
              "      <td>...</td>\n",
              "      <td>1</td>\n",
              "      <td>999</td>\n",
              "      <td>0</td>\n",
              "      <td>nonexistent</td>\n",
              "      <td>1.1</td>\n",
              "      <td>93.994</td>\n",
              "      <td>-36.4</td>\n",
              "      <td>4.857</td>\n",
              "      <td>5191.0</td>\n",
              "      <td>no</td>\n",
              "    </tr>\n",
              "    <tr>\n",
              "      <th>4</th>\n",
              "      <td>56</td>\n",
              "      <td>services</td>\n",
              "      <td>married</td>\n",
              "      <td>high.school</td>\n",
              "      <td>no</td>\n",
              "      <td>no</td>\n",
              "      <td>yes</td>\n",
              "      <td>telephone</td>\n",
              "      <td>may</td>\n",
              "      <td>mon</td>\n",
              "      <td>...</td>\n",
              "      <td>1</td>\n",
              "      <td>999</td>\n",
              "      <td>0</td>\n",
              "      <td>nonexistent</td>\n",
              "      <td>1.1</td>\n",
              "      <td>93.994</td>\n",
              "      <td>-36.4</td>\n",
              "      <td>4.857</td>\n",
              "      <td>5191.0</td>\n",
              "      <td>no</td>\n",
              "    </tr>\n",
              "    <tr>\n",
              "      <th>5</th>\n",
              "      <td>45</td>\n",
              "      <td>services</td>\n",
              "      <td>married</td>\n",
              "      <td>basic.9y</td>\n",
              "      <td>unknown</td>\n",
              "      <td>no</td>\n",
              "      <td>no</td>\n",
              "      <td>telephone</td>\n",
              "      <td>may</td>\n",
              "      <td>mon</td>\n",
              "      <td>...</td>\n",
              "      <td>1</td>\n",
              "      <td>999</td>\n",
              "      <td>0</td>\n",
              "      <td>nonexistent</td>\n",
              "      <td>1.1</td>\n",
              "      <td>93.994</td>\n",
              "      <td>-36.4</td>\n",
              "      <td>4.857</td>\n",
              "      <td>5191.0</td>\n",
              "      <td>no</td>\n",
              "    </tr>\n",
              "    <tr>\n",
              "      <th>6</th>\n",
              "      <td>59</td>\n",
              "      <td>admin.</td>\n",
              "      <td>married</td>\n",
              "      <td>professional.course</td>\n",
              "      <td>no</td>\n",
              "      <td>no</td>\n",
              "      <td>no</td>\n",
              "      <td>telephone</td>\n",
              "      <td>may</td>\n",
              "      <td>mon</td>\n",
              "      <td>...</td>\n",
              "      <td>1</td>\n",
              "      <td>999</td>\n",
              "      <td>0</td>\n",
              "      <td>nonexistent</td>\n",
              "      <td>1.1</td>\n",
              "      <td>93.994</td>\n",
              "      <td>-36.4</td>\n",
              "      <td>4.857</td>\n",
              "      <td>5191.0</td>\n",
              "      <td>no</td>\n",
              "    </tr>\n",
              "    <tr>\n",
              "      <th>7</th>\n",
              "      <td>41</td>\n",
              "      <td>blue-collar</td>\n",
              "      <td>married</td>\n",
              "      <td>unknown</td>\n",
              "      <td>unknown</td>\n",
              "      <td>no</td>\n",
              "      <td>no</td>\n",
              "      <td>telephone</td>\n",
              "      <td>may</td>\n",
              "      <td>mon</td>\n",
              "      <td>...</td>\n",
              "      <td>1</td>\n",
              "      <td>999</td>\n",
              "      <td>0</td>\n",
              "      <td>nonexistent</td>\n",
              "      <td>1.1</td>\n",
              "      <td>93.994</td>\n",
              "      <td>-36.4</td>\n",
              "      <td>4.857</td>\n",
              "      <td>5191.0</td>\n",
              "      <td>no</td>\n",
              "    </tr>\n",
              "    <tr>\n",
              "      <th>8</th>\n",
              "      <td>24</td>\n",
              "      <td>technician</td>\n",
              "      <td>single</td>\n",
              "      <td>professional.course</td>\n",
              "      <td>no</td>\n",
              "      <td>yes</td>\n",
              "      <td>no</td>\n",
              "      <td>telephone</td>\n",
              "      <td>may</td>\n",
              "      <td>mon</td>\n",
              "      <td>...</td>\n",
              "      <td>1</td>\n",
              "      <td>999</td>\n",
              "      <td>0</td>\n",
              "      <td>nonexistent</td>\n",
              "      <td>1.1</td>\n",
              "      <td>93.994</td>\n",
              "      <td>-36.4</td>\n",
              "      <td>4.857</td>\n",
              "      <td>5191.0</td>\n",
              "      <td>no</td>\n",
              "    </tr>\n",
              "    <tr>\n",
              "      <th>9</th>\n",
              "      <td>25</td>\n",
              "      <td>services</td>\n",
              "      <td>single</td>\n",
              "      <td>high.school</td>\n",
              "      <td>no</td>\n",
              "      <td>yes</td>\n",
              "      <td>no</td>\n",
              "      <td>telephone</td>\n",
              "      <td>may</td>\n",
              "      <td>mon</td>\n",
              "      <td>...</td>\n",
              "      <td>1</td>\n",
              "      <td>999</td>\n",
              "      <td>0</td>\n",
              "      <td>nonexistent</td>\n",
              "      <td>1.1</td>\n",
              "      <td>93.994</td>\n",
              "      <td>-36.4</td>\n",
              "      <td>4.857</td>\n",
              "      <td>5191.0</td>\n",
              "      <td>no</td>\n",
              "    </tr>\n",
              "    <tr>\n",
              "      <th>10</th>\n",
              "      <td>41</td>\n",
              "      <td>blue-collar</td>\n",
              "      <td>married</td>\n",
              "      <td>unknown</td>\n",
              "      <td>unknown</td>\n",
              "      <td>no</td>\n",
              "      <td>no</td>\n",
              "      <td>telephone</td>\n",
              "      <td>may</td>\n",
              "      <td>mon</td>\n",
              "      <td>...</td>\n",
              "      <td>1</td>\n",
              "      <td>999</td>\n",
              "      <td>0</td>\n",
              "      <td>nonexistent</td>\n",
              "      <td>1.1</td>\n",
              "      <td>93.994</td>\n",
              "      <td>-36.4</td>\n",
              "      <td>4.857</td>\n",
              "      <td>5191.0</td>\n",
              "      <td>no</td>\n",
              "    </tr>\n",
              "  </tbody>\n",
              "</table>\n",
              "<p>11 rows × 21 columns</p>\n",
              "</div>\n",
              "      <button class=\"colab-df-convert\" onclick=\"convertToInteractive('df-d15220e2-577e-4662-b5a0-82ad5b8f7a15')\"\n",
              "              title=\"Convert this dataframe to an interactive table.\"\n",
              "              style=\"display:none;\">\n",
              "        \n",
              "  <svg xmlns=\"http://www.w3.org/2000/svg\" height=\"24px\"viewBox=\"0 0 24 24\"\n",
              "       width=\"24px\">\n",
              "    <path d=\"M0 0h24v24H0V0z\" fill=\"none\"/>\n",
              "    <path d=\"M18.56 5.44l.94 2.06.94-2.06 2.06-.94-2.06-.94-.94-2.06-.94 2.06-2.06.94zm-11 1L8.5 8.5l.94-2.06 2.06-.94-2.06-.94L8.5 2.5l-.94 2.06-2.06.94zm10 10l.94 2.06.94-2.06 2.06-.94-2.06-.94-.94-2.06-.94 2.06-2.06.94z\"/><path d=\"M17.41 7.96l-1.37-1.37c-.4-.4-.92-.59-1.43-.59-.52 0-1.04.2-1.43.59L10.3 9.45l-7.72 7.72c-.78.78-.78 2.05 0 2.83L4 21.41c.39.39.9.59 1.41.59.51 0 1.02-.2 1.41-.59l7.78-7.78 2.81-2.81c.8-.78.8-2.07 0-2.86zM5.41 20L4 18.59l7.72-7.72 1.47 1.35L5.41 20z\"/>\n",
              "  </svg>\n",
              "      </button>\n",
              "      \n",
              "  <style>\n",
              "    .colab-df-container {\n",
              "      display:flex;\n",
              "      flex-wrap:wrap;\n",
              "      gap: 12px;\n",
              "    }\n",
              "\n",
              "    .colab-df-convert {\n",
              "      background-color: #E8F0FE;\n",
              "      border: none;\n",
              "      border-radius: 50%;\n",
              "      cursor: pointer;\n",
              "      display: none;\n",
              "      fill: #1967D2;\n",
              "      height: 32px;\n",
              "      padding: 0 0 0 0;\n",
              "      width: 32px;\n",
              "    }\n",
              "\n",
              "    .colab-df-convert:hover {\n",
              "      background-color: #E2EBFA;\n",
              "      box-shadow: 0px 1px 2px rgba(60, 64, 67, 0.3), 0px 1px 3px 1px rgba(60, 64, 67, 0.15);\n",
              "      fill: #174EA6;\n",
              "    }\n",
              "\n",
              "    [theme=dark] .colab-df-convert {\n",
              "      background-color: #3B4455;\n",
              "      fill: #D2E3FC;\n",
              "    }\n",
              "\n",
              "    [theme=dark] .colab-df-convert:hover {\n",
              "      background-color: #434B5C;\n",
              "      box-shadow: 0px 1px 3px 1px rgba(0, 0, 0, 0.15);\n",
              "      filter: drop-shadow(0px 1px 2px rgba(0, 0, 0, 0.3));\n",
              "      fill: #FFFFFF;\n",
              "    }\n",
              "  </style>\n",
              "\n",
              "      <script>\n",
              "        const buttonEl =\n",
              "          document.querySelector('#df-d15220e2-577e-4662-b5a0-82ad5b8f7a15 button.colab-df-convert');\n",
              "        buttonEl.style.display =\n",
              "          google.colab.kernel.accessAllowed ? 'block' : 'none';\n",
              "\n",
              "        async function convertToInteractive(key) {\n",
              "          const element = document.querySelector('#df-d15220e2-577e-4662-b5a0-82ad5b8f7a15');\n",
              "          const dataTable =\n",
              "            await google.colab.kernel.invokeFunction('convertToInteractive',\n",
              "                                                     [key], {});\n",
              "          if (!dataTable) return;\n",
              "\n",
              "          const docLinkHtml = 'Like what you see? Visit the ' +\n",
              "            '<a target=\"_blank\" href=https://colab.research.google.com/notebooks/data_table.ipynb>data table notebook</a>'\n",
              "            + ' to learn more about interactive tables.';\n",
              "          element.innerHTML = '';\n",
              "          dataTable['output_type'] = 'display_data';\n",
              "          await google.colab.output.renderOutput(dataTable, element);\n",
              "          const docLink = document.createElement('div');\n",
              "          docLink.innerHTML = docLinkHtml;\n",
              "          element.appendChild(docLink);\n",
              "        }\n",
              "      </script>\n",
              "    </div>\n",
              "  </div>\n",
              "  "
            ]
          },
          "metadata": {},
          "execution_count": 9
        }
      ]
    },
    {
      "cell_type": "code",
      "source": [
        "bank.describe()"
      ],
      "metadata": {
        "colab": {
          "base_uri": "https://localhost:8080/",
          "height": 300
        },
        "id": "GHIY_dnuKfRq",
        "outputId": "26e9b740-88c2-4f8d-bafa-d9440bad9928"
      },
      "execution_count": null,
      "outputs": [
        {
          "output_type": "execute_result",
          "data": {
            "text/plain": [
              "               age      duration      campaign         pdays      previous  \\\n",
              "count  41188.00000  41188.000000  41188.000000  41188.000000  41188.000000   \n",
              "mean      40.02406    258.285010      2.567593    962.475454      0.172963   \n",
              "std       10.42125    259.279249      2.770014    186.910907      0.494901   \n",
              "min       17.00000      0.000000      1.000000      0.000000      0.000000   \n",
              "25%       32.00000    102.000000      1.000000    999.000000      0.000000   \n",
              "50%       38.00000    180.000000      2.000000    999.000000      0.000000   \n",
              "75%       47.00000    319.000000      3.000000    999.000000      0.000000   \n",
              "max       98.00000   4918.000000     56.000000    999.000000      7.000000   \n",
              "\n",
              "       emp.var.rate  cons.price.idx  cons.conf.idx     euribor3m   nr.employed  \n",
              "count  41188.000000    41188.000000   41188.000000  41188.000000  41188.000000  \n",
              "mean       0.081886       93.575664     -40.502600      3.621291   5167.035911  \n",
              "std        1.570960        0.578840       4.628198      1.734447     72.251528  \n",
              "min       -3.400000       92.201000     -50.800000      0.634000   4963.600000  \n",
              "25%       -1.800000       93.075000     -42.700000      1.344000   5099.100000  \n",
              "50%        1.100000       93.749000     -41.800000      4.857000   5191.000000  \n",
              "75%        1.400000       93.994000     -36.400000      4.961000   5228.100000  \n",
              "max        1.400000       94.767000     -26.900000      5.045000   5228.100000  "
            ],
            "text/html": [
              "\n",
              "  <div id=\"df-3936e621-fc3e-47bc-bc10-ad73f762492e\">\n",
              "    <div class=\"colab-df-container\">\n",
              "      <div>\n",
              "<style scoped>\n",
              "    .dataframe tbody tr th:only-of-type {\n",
              "        vertical-align: middle;\n",
              "    }\n",
              "\n",
              "    .dataframe tbody tr th {\n",
              "        vertical-align: top;\n",
              "    }\n",
              "\n",
              "    .dataframe thead th {\n",
              "        text-align: right;\n",
              "    }\n",
              "</style>\n",
              "<table border=\"1\" class=\"dataframe\">\n",
              "  <thead>\n",
              "    <tr style=\"text-align: right;\">\n",
              "      <th></th>\n",
              "      <th>age</th>\n",
              "      <th>duration</th>\n",
              "      <th>campaign</th>\n",
              "      <th>pdays</th>\n",
              "      <th>previous</th>\n",
              "      <th>emp.var.rate</th>\n",
              "      <th>cons.price.idx</th>\n",
              "      <th>cons.conf.idx</th>\n",
              "      <th>euribor3m</th>\n",
              "      <th>nr.employed</th>\n",
              "    </tr>\n",
              "  </thead>\n",
              "  <tbody>\n",
              "    <tr>\n",
              "      <th>count</th>\n",
              "      <td>41188.00000</td>\n",
              "      <td>41188.000000</td>\n",
              "      <td>41188.000000</td>\n",
              "      <td>41188.000000</td>\n",
              "      <td>41188.000000</td>\n",
              "      <td>41188.000000</td>\n",
              "      <td>41188.000000</td>\n",
              "      <td>41188.000000</td>\n",
              "      <td>41188.000000</td>\n",
              "      <td>41188.000000</td>\n",
              "    </tr>\n",
              "    <tr>\n",
              "      <th>mean</th>\n",
              "      <td>40.02406</td>\n",
              "      <td>258.285010</td>\n",
              "      <td>2.567593</td>\n",
              "      <td>962.475454</td>\n",
              "      <td>0.172963</td>\n",
              "      <td>0.081886</td>\n",
              "      <td>93.575664</td>\n",
              "      <td>-40.502600</td>\n",
              "      <td>3.621291</td>\n",
              "      <td>5167.035911</td>\n",
              "    </tr>\n",
              "    <tr>\n",
              "      <th>std</th>\n",
              "      <td>10.42125</td>\n",
              "      <td>259.279249</td>\n",
              "      <td>2.770014</td>\n",
              "      <td>186.910907</td>\n",
              "      <td>0.494901</td>\n",
              "      <td>1.570960</td>\n",
              "      <td>0.578840</td>\n",
              "      <td>4.628198</td>\n",
              "      <td>1.734447</td>\n",
              "      <td>72.251528</td>\n",
              "    </tr>\n",
              "    <tr>\n",
              "      <th>min</th>\n",
              "      <td>17.00000</td>\n",
              "      <td>0.000000</td>\n",
              "      <td>1.000000</td>\n",
              "      <td>0.000000</td>\n",
              "      <td>0.000000</td>\n",
              "      <td>-3.400000</td>\n",
              "      <td>92.201000</td>\n",
              "      <td>-50.800000</td>\n",
              "      <td>0.634000</td>\n",
              "      <td>4963.600000</td>\n",
              "    </tr>\n",
              "    <tr>\n",
              "      <th>25%</th>\n",
              "      <td>32.00000</td>\n",
              "      <td>102.000000</td>\n",
              "      <td>1.000000</td>\n",
              "      <td>999.000000</td>\n",
              "      <td>0.000000</td>\n",
              "      <td>-1.800000</td>\n",
              "      <td>93.075000</td>\n",
              "      <td>-42.700000</td>\n",
              "      <td>1.344000</td>\n",
              "      <td>5099.100000</td>\n",
              "    </tr>\n",
              "    <tr>\n",
              "      <th>50%</th>\n",
              "      <td>38.00000</td>\n",
              "      <td>180.000000</td>\n",
              "      <td>2.000000</td>\n",
              "      <td>999.000000</td>\n",
              "      <td>0.000000</td>\n",
              "      <td>1.100000</td>\n",
              "      <td>93.749000</td>\n",
              "      <td>-41.800000</td>\n",
              "      <td>4.857000</td>\n",
              "      <td>5191.000000</td>\n",
              "    </tr>\n",
              "    <tr>\n",
              "      <th>75%</th>\n",
              "      <td>47.00000</td>\n",
              "      <td>319.000000</td>\n",
              "      <td>3.000000</td>\n",
              "      <td>999.000000</td>\n",
              "      <td>0.000000</td>\n",
              "      <td>1.400000</td>\n",
              "      <td>93.994000</td>\n",
              "      <td>-36.400000</td>\n",
              "      <td>4.961000</td>\n",
              "      <td>5228.100000</td>\n",
              "    </tr>\n",
              "    <tr>\n",
              "      <th>max</th>\n",
              "      <td>98.00000</td>\n",
              "      <td>4918.000000</td>\n",
              "      <td>56.000000</td>\n",
              "      <td>999.000000</td>\n",
              "      <td>7.000000</td>\n",
              "      <td>1.400000</td>\n",
              "      <td>94.767000</td>\n",
              "      <td>-26.900000</td>\n",
              "      <td>5.045000</td>\n",
              "      <td>5228.100000</td>\n",
              "    </tr>\n",
              "  </tbody>\n",
              "</table>\n",
              "</div>\n",
              "      <button class=\"colab-df-convert\" onclick=\"convertToInteractive('df-3936e621-fc3e-47bc-bc10-ad73f762492e')\"\n",
              "              title=\"Convert this dataframe to an interactive table.\"\n",
              "              style=\"display:none;\">\n",
              "        \n",
              "  <svg xmlns=\"http://www.w3.org/2000/svg\" height=\"24px\"viewBox=\"0 0 24 24\"\n",
              "       width=\"24px\">\n",
              "    <path d=\"M0 0h24v24H0V0z\" fill=\"none\"/>\n",
              "    <path d=\"M18.56 5.44l.94 2.06.94-2.06 2.06-.94-2.06-.94-.94-2.06-.94 2.06-2.06.94zm-11 1L8.5 8.5l.94-2.06 2.06-.94-2.06-.94L8.5 2.5l-.94 2.06-2.06.94zm10 10l.94 2.06.94-2.06 2.06-.94-2.06-.94-.94-2.06-.94 2.06-2.06.94z\"/><path d=\"M17.41 7.96l-1.37-1.37c-.4-.4-.92-.59-1.43-.59-.52 0-1.04.2-1.43.59L10.3 9.45l-7.72 7.72c-.78.78-.78 2.05 0 2.83L4 21.41c.39.39.9.59 1.41.59.51 0 1.02-.2 1.41-.59l7.78-7.78 2.81-2.81c.8-.78.8-2.07 0-2.86zM5.41 20L4 18.59l7.72-7.72 1.47 1.35L5.41 20z\"/>\n",
              "  </svg>\n",
              "      </button>\n",
              "      \n",
              "  <style>\n",
              "    .colab-df-container {\n",
              "      display:flex;\n",
              "      flex-wrap:wrap;\n",
              "      gap: 12px;\n",
              "    }\n",
              "\n",
              "    .colab-df-convert {\n",
              "      background-color: #E8F0FE;\n",
              "      border: none;\n",
              "      border-radius: 50%;\n",
              "      cursor: pointer;\n",
              "      display: none;\n",
              "      fill: #1967D2;\n",
              "      height: 32px;\n",
              "      padding: 0 0 0 0;\n",
              "      width: 32px;\n",
              "    }\n",
              "\n",
              "    .colab-df-convert:hover {\n",
              "      background-color: #E2EBFA;\n",
              "      box-shadow: 0px 1px 2px rgba(60, 64, 67, 0.3), 0px 1px 3px 1px rgba(60, 64, 67, 0.15);\n",
              "      fill: #174EA6;\n",
              "    }\n",
              "\n",
              "    [theme=dark] .colab-df-convert {\n",
              "      background-color: #3B4455;\n",
              "      fill: #D2E3FC;\n",
              "    }\n",
              "\n",
              "    [theme=dark] .colab-df-convert:hover {\n",
              "      background-color: #434B5C;\n",
              "      box-shadow: 0px 1px 3px 1px rgba(0, 0, 0, 0.15);\n",
              "      filter: drop-shadow(0px 1px 2px rgba(0, 0, 0, 0.3));\n",
              "      fill: #FFFFFF;\n",
              "    }\n",
              "  </style>\n",
              "\n",
              "      <script>\n",
              "        const buttonEl =\n",
              "          document.querySelector('#df-3936e621-fc3e-47bc-bc10-ad73f762492e button.colab-df-convert');\n",
              "        buttonEl.style.display =\n",
              "          google.colab.kernel.accessAllowed ? 'block' : 'none';\n",
              "\n",
              "        async function convertToInteractive(key) {\n",
              "          const element = document.querySelector('#df-3936e621-fc3e-47bc-bc10-ad73f762492e');\n",
              "          const dataTable =\n",
              "            await google.colab.kernel.invokeFunction('convertToInteractive',\n",
              "                                                     [key], {});\n",
              "          if (!dataTable) return;\n",
              "\n",
              "          const docLinkHtml = 'Like what you see? Visit the ' +\n",
              "            '<a target=\"_blank\" href=https://colab.research.google.com/notebooks/data_table.ipynb>data table notebook</a>'\n",
              "            + ' to learn more about interactive tables.';\n",
              "          element.innerHTML = '';\n",
              "          dataTable['output_type'] = 'display_data';\n",
              "          await google.colab.output.renderOutput(dataTable, element);\n",
              "          const docLink = document.createElement('div');\n",
              "          docLink.innerHTML = docLinkHtml;\n",
              "          element.appendChild(docLink);\n",
              "        }\n",
              "      </script>\n",
              "    </div>\n",
              "  </div>\n",
              "  "
            ]
          },
          "metadata": {},
          "execution_count": 10
        }
      ]
    },
    {
      "cell_type": "markdown",
      "source": [
        "Como vimos anteriormente con la funsion shape, nuestro dataset tiene 41188 registros y 21 columnas. Veamos con la libreria missingno si hay valores ausentes en alguna columna.."
      ],
      "metadata": {
        "id": "2oLCUtgULE1e"
      }
    },
    {
      "cell_type": "code",
      "source": [
        "bank.duplicated()"
      ],
      "metadata": {
        "colab": {
          "base_uri": "https://localhost:8080/"
        },
        "id": "CT9Ph8L4kW0r",
        "outputId": "3bcd5d73-fd17-4969-e9a7-c23bc5aef151"
      },
      "execution_count": null,
      "outputs": [
        {
          "output_type": "execute_result",
          "data": {
            "text/plain": [
              "0        False\n",
              "1        False\n",
              "2        False\n",
              "3        False\n",
              "4        False\n",
              "         ...  \n",
              "41183    False\n",
              "41184    False\n",
              "41185    False\n",
              "41186    False\n",
              "41187    False\n",
              "Length: 41188, dtype: bool"
            ]
          },
          "metadata": {},
          "execution_count": 11
        }
      ]
    },
    {
      "cell_type": "code",
      "source": [
        "bank.duplicated().sum()"
      ],
      "metadata": {
        "colab": {
          "base_uri": "https://localhost:8080/"
        },
        "id": "TALHAyitlXBb",
        "outputId": "b2b68555-f4d6-4adc-ee8f-ee57f3badd7f"
      },
      "execution_count": null,
      "outputs": [
        {
          "output_type": "execute_result",
          "data": {
            "text/plain": [
              "12"
            ]
          },
          "metadata": {},
          "execution_count": 12
        }
      ]
    },
    {
      "cell_type": "markdown",
      "source": [
        "Hay 12 filas duplicadas en el dataset. Vamos a ver que lineas son:"
      ],
      "metadata": {
        "id": "FZMTX8PSlc4A"
      }
    },
    {
      "cell_type": "code",
      "source": [
        "bank[bank.duplicated(keep=False)]"
      ],
      "metadata": {
        "colab": {
          "base_uri": "https://localhost:8080/",
          "height": 930
        },
        "id": "BS6dGyi7lMnB",
        "outputId": "ee0a8982-d667-4796-ed02-ab3c197610c2"
      },
      "execution_count": null,
      "outputs": [
        {
          "output_type": "execute_result",
          "data": {
            "text/plain": [
              "       age          job   marital            education  default housing loan  \\\n",
              "1265    39  blue-collar   married             basic.6y       no      no   no   \n",
              "1266    39  blue-collar   married             basic.6y       no      no   no   \n",
              "12260   36      retired   married              unknown       no      no   no   \n",
              "12261   36      retired   married              unknown       no      no   no   \n",
              "14155   27   technician    single  professional.course       no      no   no   \n",
              "14234   27   technician    single  professional.course       no      no   no   \n",
              "16819   47   technician  divorced          high.school       no     yes   no   \n",
              "16956   47   technician  divorced          high.school       no     yes   no   \n",
              "18464   32   technician    single  professional.course       no     yes   no   \n",
              "18465   32   technician    single  professional.course       no     yes   no   \n",
              "20072   55     services   married          high.school  unknown      no   no   \n",
              "20216   55     services   married          high.school  unknown      no   no   \n",
              "20531   41   technician   married  professional.course       no     yes   no   \n",
              "20534   41   technician   married  professional.course       no     yes   no   \n",
              "25183   39       admin.   married    university.degree       no      no   no   \n",
              "25217   39       admin.   married    university.degree       no      no   no   \n",
              "28476   24     services    single          high.school       no     yes   no   \n",
              "28477   24     services    single          high.school       no     yes   no   \n",
              "32505   35       admin.   married    university.degree       no     yes   no   \n",
              "32516   35       admin.   married    university.degree       no     yes   no   \n",
              "36950   45       admin.   married    university.degree       no      no   no   \n",
              "36951   45       admin.   married    university.degree       no      no   no   \n",
              "38255   71      retired    single    university.degree       no      no   no   \n",
              "38281   71      retired    single    university.degree       no      no   no   \n",
              "\n",
              "         contact month day_of_week  ...  campaign  pdays  previous  \\\n",
              "1265   telephone   may         thu  ...         1    999         0   \n",
              "1266   telephone   may         thu  ...         1    999         0   \n",
              "12260  telephone   jul         thu  ...         1    999         0   \n",
              "12261  telephone   jul         thu  ...         1    999         0   \n",
              "14155   cellular   jul         mon  ...         2    999         0   \n",
              "14234   cellular   jul         mon  ...         2    999         0   \n",
              "16819   cellular   jul         thu  ...         3    999         0   \n",
              "16956   cellular   jul         thu  ...         3    999         0   \n",
              "18464   cellular   jul         thu  ...         1    999         0   \n",
              "18465   cellular   jul         thu  ...         1    999         0   \n",
              "20072   cellular   aug         mon  ...         1    999         0   \n",
              "20216   cellular   aug         mon  ...         1    999         0   \n",
              "20531   cellular   aug         tue  ...         1    999         0   \n",
              "20534   cellular   aug         tue  ...         1    999         0   \n",
              "25183   cellular   nov         tue  ...         2    999         0   \n",
              "25217   cellular   nov         tue  ...         2    999         0   \n",
              "28476   cellular   apr         tue  ...         1    999         0   \n",
              "28477   cellular   apr         tue  ...         1    999         0   \n",
              "32505   cellular   may         fri  ...         4    999         0   \n",
              "32516   cellular   may         fri  ...         4    999         0   \n",
              "36950   cellular   jul         thu  ...         1    999         0   \n",
              "36951   cellular   jul         thu  ...         1    999         0   \n",
              "38255  telephone   oct         tue  ...         1    999         0   \n",
              "38281  telephone   oct         tue  ...         1    999         0   \n",
              "\n",
              "          poutcome emp.var.rate  cons.price.idx  cons.conf.idx  euribor3m  \\\n",
              "1265   nonexistent          1.1          93.994          -36.4      4.855   \n",
              "1266   nonexistent          1.1          93.994          -36.4      4.855   \n",
              "12260  nonexistent          1.4          93.918          -42.7      4.966   \n",
              "12261  nonexistent          1.4          93.918          -42.7      4.966   \n",
              "14155  nonexistent          1.4          93.918          -42.7      4.962   \n",
              "14234  nonexistent          1.4          93.918          -42.7      4.962   \n",
              "16819  nonexistent          1.4          93.918          -42.7      4.962   \n",
              "16956  nonexistent          1.4          93.918          -42.7      4.962   \n",
              "18464  nonexistent          1.4          93.918          -42.7      4.968   \n",
              "18465  nonexistent          1.4          93.918          -42.7      4.968   \n",
              "20072  nonexistent          1.4          93.444          -36.1      4.965   \n",
              "20216  nonexistent          1.4          93.444          -36.1      4.965   \n",
              "20531  nonexistent          1.4          93.444          -36.1      4.966   \n",
              "20534  nonexistent          1.4          93.444          -36.1      4.966   \n",
              "25183  nonexistent         -0.1          93.200          -42.0      4.153   \n",
              "25217  nonexistent         -0.1          93.200          -42.0      4.153   \n",
              "28476  nonexistent         -1.8          93.075          -47.1      1.423   \n",
              "28477  nonexistent         -1.8          93.075          -47.1      1.423   \n",
              "32505  nonexistent         -1.8          92.893          -46.2      1.313   \n",
              "32516  nonexistent         -1.8          92.893          -46.2      1.313   \n",
              "36950  nonexistent         -2.9          92.469          -33.6      1.072   \n",
              "36951  nonexistent         -2.9          92.469          -33.6      1.072   \n",
              "38255  nonexistent         -3.4          92.431          -26.9      0.742   \n",
              "38281  nonexistent         -3.4          92.431          -26.9      0.742   \n",
              "\n",
              "       nr.employed    y  \n",
              "1265        5191.0   no  \n",
              "1266        5191.0   no  \n",
              "12260       5228.1   no  \n",
              "12261       5228.1   no  \n",
              "14155       5228.1   no  \n",
              "14234       5228.1   no  \n",
              "16819       5228.1   no  \n",
              "16956       5228.1   no  \n",
              "18464       5228.1   no  \n",
              "18465       5228.1   no  \n",
              "20072       5228.1   no  \n",
              "20216       5228.1   no  \n",
              "20531       5228.1   no  \n",
              "20534       5228.1   no  \n",
              "25183       5195.8   no  \n",
              "25217       5195.8   no  \n",
              "28476       5099.1   no  \n",
              "28477       5099.1   no  \n",
              "32505       5099.1   no  \n",
              "32516       5099.1   no  \n",
              "36950       5076.2  yes  \n",
              "36951       5076.2  yes  \n",
              "38255       5017.5   no  \n",
              "38281       5017.5   no  \n",
              "\n",
              "[24 rows x 21 columns]"
            ],
            "text/html": [
              "\n",
              "  <div id=\"df-3c66f50c-bee9-44fa-b744-6f339dd3ee3f\">\n",
              "    <div class=\"colab-df-container\">\n",
              "      <div>\n",
              "<style scoped>\n",
              "    .dataframe tbody tr th:only-of-type {\n",
              "        vertical-align: middle;\n",
              "    }\n",
              "\n",
              "    .dataframe tbody tr th {\n",
              "        vertical-align: top;\n",
              "    }\n",
              "\n",
              "    .dataframe thead th {\n",
              "        text-align: right;\n",
              "    }\n",
              "</style>\n",
              "<table border=\"1\" class=\"dataframe\">\n",
              "  <thead>\n",
              "    <tr style=\"text-align: right;\">\n",
              "      <th></th>\n",
              "      <th>age</th>\n",
              "      <th>job</th>\n",
              "      <th>marital</th>\n",
              "      <th>education</th>\n",
              "      <th>default</th>\n",
              "      <th>housing</th>\n",
              "      <th>loan</th>\n",
              "      <th>contact</th>\n",
              "      <th>month</th>\n",
              "      <th>day_of_week</th>\n",
              "      <th>...</th>\n",
              "      <th>campaign</th>\n",
              "      <th>pdays</th>\n",
              "      <th>previous</th>\n",
              "      <th>poutcome</th>\n",
              "      <th>emp.var.rate</th>\n",
              "      <th>cons.price.idx</th>\n",
              "      <th>cons.conf.idx</th>\n",
              "      <th>euribor3m</th>\n",
              "      <th>nr.employed</th>\n",
              "      <th>y</th>\n",
              "    </tr>\n",
              "  </thead>\n",
              "  <tbody>\n",
              "    <tr>\n",
              "      <th>1265</th>\n",
              "      <td>39</td>\n",
              "      <td>blue-collar</td>\n",
              "      <td>married</td>\n",
              "      <td>basic.6y</td>\n",
              "      <td>no</td>\n",
              "      <td>no</td>\n",
              "      <td>no</td>\n",
              "      <td>telephone</td>\n",
              "      <td>may</td>\n",
              "      <td>thu</td>\n",
              "      <td>...</td>\n",
              "      <td>1</td>\n",
              "      <td>999</td>\n",
              "      <td>0</td>\n",
              "      <td>nonexistent</td>\n",
              "      <td>1.1</td>\n",
              "      <td>93.994</td>\n",
              "      <td>-36.4</td>\n",
              "      <td>4.855</td>\n",
              "      <td>5191.0</td>\n",
              "      <td>no</td>\n",
              "    </tr>\n",
              "    <tr>\n",
              "      <th>1266</th>\n",
              "      <td>39</td>\n",
              "      <td>blue-collar</td>\n",
              "      <td>married</td>\n",
              "      <td>basic.6y</td>\n",
              "      <td>no</td>\n",
              "      <td>no</td>\n",
              "      <td>no</td>\n",
              "      <td>telephone</td>\n",
              "      <td>may</td>\n",
              "      <td>thu</td>\n",
              "      <td>...</td>\n",
              "      <td>1</td>\n",
              "      <td>999</td>\n",
              "      <td>0</td>\n",
              "      <td>nonexistent</td>\n",
              "      <td>1.1</td>\n",
              "      <td>93.994</td>\n",
              "      <td>-36.4</td>\n",
              "      <td>4.855</td>\n",
              "      <td>5191.0</td>\n",
              "      <td>no</td>\n",
              "    </tr>\n",
              "    <tr>\n",
              "      <th>12260</th>\n",
              "      <td>36</td>\n",
              "      <td>retired</td>\n",
              "      <td>married</td>\n",
              "      <td>unknown</td>\n",
              "      <td>no</td>\n",
              "      <td>no</td>\n",
              "      <td>no</td>\n",
              "      <td>telephone</td>\n",
              "      <td>jul</td>\n",
              "      <td>thu</td>\n",
              "      <td>...</td>\n",
              "      <td>1</td>\n",
              "      <td>999</td>\n",
              "      <td>0</td>\n",
              "      <td>nonexistent</td>\n",
              "      <td>1.4</td>\n",
              "      <td>93.918</td>\n",
              "      <td>-42.7</td>\n",
              "      <td>4.966</td>\n",
              "      <td>5228.1</td>\n",
              "      <td>no</td>\n",
              "    </tr>\n",
              "    <tr>\n",
              "      <th>12261</th>\n",
              "      <td>36</td>\n",
              "      <td>retired</td>\n",
              "      <td>married</td>\n",
              "      <td>unknown</td>\n",
              "      <td>no</td>\n",
              "      <td>no</td>\n",
              "      <td>no</td>\n",
              "      <td>telephone</td>\n",
              "      <td>jul</td>\n",
              "      <td>thu</td>\n",
              "      <td>...</td>\n",
              "      <td>1</td>\n",
              "      <td>999</td>\n",
              "      <td>0</td>\n",
              "      <td>nonexistent</td>\n",
              "      <td>1.4</td>\n",
              "      <td>93.918</td>\n",
              "      <td>-42.7</td>\n",
              "      <td>4.966</td>\n",
              "      <td>5228.1</td>\n",
              "      <td>no</td>\n",
              "    </tr>\n",
              "    <tr>\n",
              "      <th>14155</th>\n",
              "      <td>27</td>\n",
              "      <td>technician</td>\n",
              "      <td>single</td>\n",
              "      <td>professional.course</td>\n",
              "      <td>no</td>\n",
              "      <td>no</td>\n",
              "      <td>no</td>\n",
              "      <td>cellular</td>\n",
              "      <td>jul</td>\n",
              "      <td>mon</td>\n",
              "      <td>...</td>\n",
              "      <td>2</td>\n",
              "      <td>999</td>\n",
              "      <td>0</td>\n",
              "      <td>nonexistent</td>\n",
              "      <td>1.4</td>\n",
              "      <td>93.918</td>\n",
              "      <td>-42.7</td>\n",
              "      <td>4.962</td>\n",
              "      <td>5228.1</td>\n",
              "      <td>no</td>\n",
              "    </tr>\n",
              "    <tr>\n",
              "      <th>14234</th>\n",
              "      <td>27</td>\n",
              "      <td>technician</td>\n",
              "      <td>single</td>\n",
              "      <td>professional.course</td>\n",
              "      <td>no</td>\n",
              "      <td>no</td>\n",
              "      <td>no</td>\n",
              "      <td>cellular</td>\n",
              "      <td>jul</td>\n",
              "      <td>mon</td>\n",
              "      <td>...</td>\n",
              "      <td>2</td>\n",
              "      <td>999</td>\n",
              "      <td>0</td>\n",
              "      <td>nonexistent</td>\n",
              "      <td>1.4</td>\n",
              "      <td>93.918</td>\n",
              "      <td>-42.7</td>\n",
              "      <td>4.962</td>\n",
              "      <td>5228.1</td>\n",
              "      <td>no</td>\n",
              "    </tr>\n",
              "    <tr>\n",
              "      <th>16819</th>\n",
              "      <td>47</td>\n",
              "      <td>technician</td>\n",
              "      <td>divorced</td>\n",
              "      <td>high.school</td>\n",
              "      <td>no</td>\n",
              "      <td>yes</td>\n",
              "      <td>no</td>\n",
              "      <td>cellular</td>\n",
              "      <td>jul</td>\n",
              "      <td>thu</td>\n",
              "      <td>...</td>\n",
              "      <td>3</td>\n",
              "      <td>999</td>\n",
              "      <td>0</td>\n",
              "      <td>nonexistent</td>\n",
              "      <td>1.4</td>\n",
              "      <td>93.918</td>\n",
              "      <td>-42.7</td>\n",
              "      <td>4.962</td>\n",
              "      <td>5228.1</td>\n",
              "      <td>no</td>\n",
              "    </tr>\n",
              "    <tr>\n",
              "      <th>16956</th>\n",
              "      <td>47</td>\n",
              "      <td>technician</td>\n",
              "      <td>divorced</td>\n",
              "      <td>high.school</td>\n",
              "      <td>no</td>\n",
              "      <td>yes</td>\n",
              "      <td>no</td>\n",
              "      <td>cellular</td>\n",
              "      <td>jul</td>\n",
              "      <td>thu</td>\n",
              "      <td>...</td>\n",
              "      <td>3</td>\n",
              "      <td>999</td>\n",
              "      <td>0</td>\n",
              "      <td>nonexistent</td>\n",
              "      <td>1.4</td>\n",
              "      <td>93.918</td>\n",
              "      <td>-42.7</td>\n",
              "      <td>4.962</td>\n",
              "      <td>5228.1</td>\n",
              "      <td>no</td>\n",
              "    </tr>\n",
              "    <tr>\n",
              "      <th>18464</th>\n",
              "      <td>32</td>\n",
              "      <td>technician</td>\n",
              "      <td>single</td>\n",
              "      <td>professional.course</td>\n",
              "      <td>no</td>\n",
              "      <td>yes</td>\n",
              "      <td>no</td>\n",
              "      <td>cellular</td>\n",
              "      <td>jul</td>\n",
              "      <td>thu</td>\n",
              "      <td>...</td>\n",
              "      <td>1</td>\n",
              "      <td>999</td>\n",
              "      <td>0</td>\n",
              "      <td>nonexistent</td>\n",
              "      <td>1.4</td>\n",
              "      <td>93.918</td>\n",
              "      <td>-42.7</td>\n",
              "      <td>4.968</td>\n",
              "      <td>5228.1</td>\n",
              "      <td>no</td>\n",
              "    </tr>\n",
              "    <tr>\n",
              "      <th>18465</th>\n",
              "      <td>32</td>\n",
              "      <td>technician</td>\n",
              "      <td>single</td>\n",
              "      <td>professional.course</td>\n",
              "      <td>no</td>\n",
              "      <td>yes</td>\n",
              "      <td>no</td>\n",
              "      <td>cellular</td>\n",
              "      <td>jul</td>\n",
              "      <td>thu</td>\n",
              "      <td>...</td>\n",
              "      <td>1</td>\n",
              "      <td>999</td>\n",
              "      <td>0</td>\n",
              "      <td>nonexistent</td>\n",
              "      <td>1.4</td>\n",
              "      <td>93.918</td>\n",
              "      <td>-42.7</td>\n",
              "      <td>4.968</td>\n",
              "      <td>5228.1</td>\n",
              "      <td>no</td>\n",
              "    </tr>\n",
              "    <tr>\n",
              "      <th>20072</th>\n",
              "      <td>55</td>\n",
              "      <td>services</td>\n",
              "      <td>married</td>\n",
              "      <td>high.school</td>\n",
              "      <td>unknown</td>\n",
              "      <td>no</td>\n",
              "      <td>no</td>\n",
              "      <td>cellular</td>\n",
              "      <td>aug</td>\n",
              "      <td>mon</td>\n",
              "      <td>...</td>\n",
              "      <td>1</td>\n",
              "      <td>999</td>\n",
              "      <td>0</td>\n",
              "      <td>nonexistent</td>\n",
              "      <td>1.4</td>\n",
              "      <td>93.444</td>\n",
              "      <td>-36.1</td>\n",
              "      <td>4.965</td>\n",
              "      <td>5228.1</td>\n",
              "      <td>no</td>\n",
              "    </tr>\n",
              "    <tr>\n",
              "      <th>20216</th>\n",
              "      <td>55</td>\n",
              "      <td>services</td>\n",
              "      <td>married</td>\n",
              "      <td>high.school</td>\n",
              "      <td>unknown</td>\n",
              "      <td>no</td>\n",
              "      <td>no</td>\n",
              "      <td>cellular</td>\n",
              "      <td>aug</td>\n",
              "      <td>mon</td>\n",
              "      <td>...</td>\n",
              "      <td>1</td>\n",
              "      <td>999</td>\n",
              "      <td>0</td>\n",
              "      <td>nonexistent</td>\n",
              "      <td>1.4</td>\n",
              "      <td>93.444</td>\n",
              "      <td>-36.1</td>\n",
              "      <td>4.965</td>\n",
              "      <td>5228.1</td>\n",
              "      <td>no</td>\n",
              "    </tr>\n",
              "    <tr>\n",
              "      <th>20531</th>\n",
              "      <td>41</td>\n",
              "      <td>technician</td>\n",
              "      <td>married</td>\n",
              "      <td>professional.course</td>\n",
              "      <td>no</td>\n",
              "      <td>yes</td>\n",
              "      <td>no</td>\n",
              "      <td>cellular</td>\n",
              "      <td>aug</td>\n",
              "      <td>tue</td>\n",
              "      <td>...</td>\n",
              "      <td>1</td>\n",
              "      <td>999</td>\n",
              "      <td>0</td>\n",
              "      <td>nonexistent</td>\n",
              "      <td>1.4</td>\n",
              "      <td>93.444</td>\n",
              "      <td>-36.1</td>\n",
              "      <td>4.966</td>\n",
              "      <td>5228.1</td>\n",
              "      <td>no</td>\n",
              "    </tr>\n",
              "    <tr>\n",
              "      <th>20534</th>\n",
              "      <td>41</td>\n",
              "      <td>technician</td>\n",
              "      <td>married</td>\n",
              "      <td>professional.course</td>\n",
              "      <td>no</td>\n",
              "      <td>yes</td>\n",
              "      <td>no</td>\n",
              "      <td>cellular</td>\n",
              "      <td>aug</td>\n",
              "      <td>tue</td>\n",
              "      <td>...</td>\n",
              "      <td>1</td>\n",
              "      <td>999</td>\n",
              "      <td>0</td>\n",
              "      <td>nonexistent</td>\n",
              "      <td>1.4</td>\n",
              "      <td>93.444</td>\n",
              "      <td>-36.1</td>\n",
              "      <td>4.966</td>\n",
              "      <td>5228.1</td>\n",
              "      <td>no</td>\n",
              "    </tr>\n",
              "    <tr>\n",
              "      <th>25183</th>\n",
              "      <td>39</td>\n",
              "      <td>admin.</td>\n",
              "      <td>married</td>\n",
              "      <td>university.degree</td>\n",
              "      <td>no</td>\n",
              "      <td>no</td>\n",
              "      <td>no</td>\n",
              "      <td>cellular</td>\n",
              "      <td>nov</td>\n",
              "      <td>tue</td>\n",
              "      <td>...</td>\n",
              "      <td>2</td>\n",
              "      <td>999</td>\n",
              "      <td>0</td>\n",
              "      <td>nonexistent</td>\n",
              "      <td>-0.1</td>\n",
              "      <td>93.200</td>\n",
              "      <td>-42.0</td>\n",
              "      <td>4.153</td>\n",
              "      <td>5195.8</td>\n",
              "      <td>no</td>\n",
              "    </tr>\n",
              "    <tr>\n",
              "      <th>25217</th>\n",
              "      <td>39</td>\n",
              "      <td>admin.</td>\n",
              "      <td>married</td>\n",
              "      <td>university.degree</td>\n",
              "      <td>no</td>\n",
              "      <td>no</td>\n",
              "      <td>no</td>\n",
              "      <td>cellular</td>\n",
              "      <td>nov</td>\n",
              "      <td>tue</td>\n",
              "      <td>...</td>\n",
              "      <td>2</td>\n",
              "      <td>999</td>\n",
              "      <td>0</td>\n",
              "      <td>nonexistent</td>\n",
              "      <td>-0.1</td>\n",
              "      <td>93.200</td>\n",
              "      <td>-42.0</td>\n",
              "      <td>4.153</td>\n",
              "      <td>5195.8</td>\n",
              "      <td>no</td>\n",
              "    </tr>\n",
              "    <tr>\n",
              "      <th>28476</th>\n",
              "      <td>24</td>\n",
              "      <td>services</td>\n",
              "      <td>single</td>\n",
              "      <td>high.school</td>\n",
              "      <td>no</td>\n",
              "      <td>yes</td>\n",
              "      <td>no</td>\n",
              "      <td>cellular</td>\n",
              "      <td>apr</td>\n",
              "      <td>tue</td>\n",
              "      <td>...</td>\n",
              "      <td>1</td>\n",
              "      <td>999</td>\n",
              "      <td>0</td>\n",
              "      <td>nonexistent</td>\n",
              "      <td>-1.8</td>\n",
              "      <td>93.075</td>\n",
              "      <td>-47.1</td>\n",
              "      <td>1.423</td>\n",
              "      <td>5099.1</td>\n",
              "      <td>no</td>\n",
              "    </tr>\n",
              "    <tr>\n",
              "      <th>28477</th>\n",
              "      <td>24</td>\n",
              "      <td>services</td>\n",
              "      <td>single</td>\n",
              "      <td>high.school</td>\n",
              "      <td>no</td>\n",
              "      <td>yes</td>\n",
              "      <td>no</td>\n",
              "      <td>cellular</td>\n",
              "      <td>apr</td>\n",
              "      <td>tue</td>\n",
              "      <td>...</td>\n",
              "      <td>1</td>\n",
              "      <td>999</td>\n",
              "      <td>0</td>\n",
              "      <td>nonexistent</td>\n",
              "      <td>-1.8</td>\n",
              "      <td>93.075</td>\n",
              "      <td>-47.1</td>\n",
              "      <td>1.423</td>\n",
              "      <td>5099.1</td>\n",
              "      <td>no</td>\n",
              "    </tr>\n",
              "    <tr>\n",
              "      <th>32505</th>\n",
              "      <td>35</td>\n",
              "      <td>admin.</td>\n",
              "      <td>married</td>\n",
              "      <td>university.degree</td>\n",
              "      <td>no</td>\n",
              "      <td>yes</td>\n",
              "      <td>no</td>\n",
              "      <td>cellular</td>\n",
              "      <td>may</td>\n",
              "      <td>fri</td>\n",
              "      <td>...</td>\n",
              "      <td>4</td>\n",
              "      <td>999</td>\n",
              "      <td>0</td>\n",
              "      <td>nonexistent</td>\n",
              "      <td>-1.8</td>\n",
              "      <td>92.893</td>\n",
              "      <td>-46.2</td>\n",
              "      <td>1.313</td>\n",
              "      <td>5099.1</td>\n",
              "      <td>no</td>\n",
              "    </tr>\n",
              "    <tr>\n",
              "      <th>32516</th>\n",
              "      <td>35</td>\n",
              "      <td>admin.</td>\n",
              "      <td>married</td>\n",
              "      <td>university.degree</td>\n",
              "      <td>no</td>\n",
              "      <td>yes</td>\n",
              "      <td>no</td>\n",
              "      <td>cellular</td>\n",
              "      <td>may</td>\n",
              "      <td>fri</td>\n",
              "      <td>...</td>\n",
              "      <td>4</td>\n",
              "      <td>999</td>\n",
              "      <td>0</td>\n",
              "      <td>nonexistent</td>\n",
              "      <td>-1.8</td>\n",
              "      <td>92.893</td>\n",
              "      <td>-46.2</td>\n",
              "      <td>1.313</td>\n",
              "      <td>5099.1</td>\n",
              "      <td>no</td>\n",
              "    </tr>\n",
              "    <tr>\n",
              "      <th>36950</th>\n",
              "      <td>45</td>\n",
              "      <td>admin.</td>\n",
              "      <td>married</td>\n",
              "      <td>university.degree</td>\n",
              "      <td>no</td>\n",
              "      <td>no</td>\n",
              "      <td>no</td>\n",
              "      <td>cellular</td>\n",
              "      <td>jul</td>\n",
              "      <td>thu</td>\n",
              "      <td>...</td>\n",
              "      <td>1</td>\n",
              "      <td>999</td>\n",
              "      <td>0</td>\n",
              "      <td>nonexistent</td>\n",
              "      <td>-2.9</td>\n",
              "      <td>92.469</td>\n",
              "      <td>-33.6</td>\n",
              "      <td>1.072</td>\n",
              "      <td>5076.2</td>\n",
              "      <td>yes</td>\n",
              "    </tr>\n",
              "    <tr>\n",
              "      <th>36951</th>\n",
              "      <td>45</td>\n",
              "      <td>admin.</td>\n",
              "      <td>married</td>\n",
              "      <td>university.degree</td>\n",
              "      <td>no</td>\n",
              "      <td>no</td>\n",
              "      <td>no</td>\n",
              "      <td>cellular</td>\n",
              "      <td>jul</td>\n",
              "      <td>thu</td>\n",
              "      <td>...</td>\n",
              "      <td>1</td>\n",
              "      <td>999</td>\n",
              "      <td>0</td>\n",
              "      <td>nonexistent</td>\n",
              "      <td>-2.9</td>\n",
              "      <td>92.469</td>\n",
              "      <td>-33.6</td>\n",
              "      <td>1.072</td>\n",
              "      <td>5076.2</td>\n",
              "      <td>yes</td>\n",
              "    </tr>\n",
              "    <tr>\n",
              "      <th>38255</th>\n",
              "      <td>71</td>\n",
              "      <td>retired</td>\n",
              "      <td>single</td>\n",
              "      <td>university.degree</td>\n",
              "      <td>no</td>\n",
              "      <td>no</td>\n",
              "      <td>no</td>\n",
              "      <td>telephone</td>\n",
              "      <td>oct</td>\n",
              "      <td>tue</td>\n",
              "      <td>...</td>\n",
              "      <td>1</td>\n",
              "      <td>999</td>\n",
              "      <td>0</td>\n",
              "      <td>nonexistent</td>\n",
              "      <td>-3.4</td>\n",
              "      <td>92.431</td>\n",
              "      <td>-26.9</td>\n",
              "      <td>0.742</td>\n",
              "      <td>5017.5</td>\n",
              "      <td>no</td>\n",
              "    </tr>\n",
              "    <tr>\n",
              "      <th>38281</th>\n",
              "      <td>71</td>\n",
              "      <td>retired</td>\n",
              "      <td>single</td>\n",
              "      <td>university.degree</td>\n",
              "      <td>no</td>\n",
              "      <td>no</td>\n",
              "      <td>no</td>\n",
              "      <td>telephone</td>\n",
              "      <td>oct</td>\n",
              "      <td>tue</td>\n",
              "      <td>...</td>\n",
              "      <td>1</td>\n",
              "      <td>999</td>\n",
              "      <td>0</td>\n",
              "      <td>nonexistent</td>\n",
              "      <td>-3.4</td>\n",
              "      <td>92.431</td>\n",
              "      <td>-26.9</td>\n",
              "      <td>0.742</td>\n",
              "      <td>5017.5</td>\n",
              "      <td>no</td>\n",
              "    </tr>\n",
              "  </tbody>\n",
              "</table>\n",
              "<p>24 rows × 21 columns</p>\n",
              "</div>\n",
              "      <button class=\"colab-df-convert\" onclick=\"convertToInteractive('df-3c66f50c-bee9-44fa-b744-6f339dd3ee3f')\"\n",
              "              title=\"Convert this dataframe to an interactive table.\"\n",
              "              style=\"display:none;\">\n",
              "        \n",
              "  <svg xmlns=\"http://www.w3.org/2000/svg\" height=\"24px\"viewBox=\"0 0 24 24\"\n",
              "       width=\"24px\">\n",
              "    <path d=\"M0 0h24v24H0V0z\" fill=\"none\"/>\n",
              "    <path d=\"M18.56 5.44l.94 2.06.94-2.06 2.06-.94-2.06-.94-.94-2.06-.94 2.06-2.06.94zm-11 1L8.5 8.5l.94-2.06 2.06-.94-2.06-.94L8.5 2.5l-.94 2.06-2.06.94zm10 10l.94 2.06.94-2.06 2.06-.94-2.06-.94-.94-2.06-.94 2.06-2.06.94z\"/><path d=\"M17.41 7.96l-1.37-1.37c-.4-.4-.92-.59-1.43-.59-.52 0-1.04.2-1.43.59L10.3 9.45l-7.72 7.72c-.78.78-.78 2.05 0 2.83L4 21.41c.39.39.9.59 1.41.59.51 0 1.02-.2 1.41-.59l7.78-7.78 2.81-2.81c.8-.78.8-2.07 0-2.86zM5.41 20L4 18.59l7.72-7.72 1.47 1.35L5.41 20z\"/>\n",
              "  </svg>\n",
              "      </button>\n",
              "      \n",
              "  <style>\n",
              "    .colab-df-container {\n",
              "      display:flex;\n",
              "      flex-wrap:wrap;\n",
              "      gap: 12px;\n",
              "    }\n",
              "\n",
              "    .colab-df-convert {\n",
              "      background-color: #E8F0FE;\n",
              "      border: none;\n",
              "      border-radius: 50%;\n",
              "      cursor: pointer;\n",
              "      display: none;\n",
              "      fill: #1967D2;\n",
              "      height: 32px;\n",
              "      padding: 0 0 0 0;\n",
              "      width: 32px;\n",
              "    }\n",
              "\n",
              "    .colab-df-convert:hover {\n",
              "      background-color: #E2EBFA;\n",
              "      box-shadow: 0px 1px 2px rgba(60, 64, 67, 0.3), 0px 1px 3px 1px rgba(60, 64, 67, 0.15);\n",
              "      fill: #174EA6;\n",
              "    }\n",
              "\n",
              "    [theme=dark] .colab-df-convert {\n",
              "      background-color: #3B4455;\n",
              "      fill: #D2E3FC;\n",
              "    }\n",
              "\n",
              "    [theme=dark] .colab-df-convert:hover {\n",
              "      background-color: #434B5C;\n",
              "      box-shadow: 0px 1px 3px 1px rgba(0, 0, 0, 0.15);\n",
              "      filter: drop-shadow(0px 1px 2px rgba(0, 0, 0, 0.3));\n",
              "      fill: #FFFFFF;\n",
              "    }\n",
              "  </style>\n",
              "\n",
              "      <script>\n",
              "        const buttonEl =\n",
              "          document.querySelector('#df-3c66f50c-bee9-44fa-b744-6f339dd3ee3f button.colab-df-convert');\n",
              "        buttonEl.style.display =\n",
              "          google.colab.kernel.accessAllowed ? 'block' : 'none';\n",
              "\n",
              "        async function convertToInteractive(key) {\n",
              "          const element = document.querySelector('#df-3c66f50c-bee9-44fa-b744-6f339dd3ee3f');\n",
              "          const dataTable =\n",
              "            await google.colab.kernel.invokeFunction('convertToInteractive',\n",
              "                                                     [key], {});\n",
              "          if (!dataTable) return;\n",
              "\n",
              "          const docLinkHtml = 'Like what you see? Visit the ' +\n",
              "            '<a target=\"_blank\" href=https://colab.research.google.com/notebooks/data_table.ipynb>data table notebook</a>'\n",
              "            + ' to learn more about interactive tables.';\n",
              "          element.innerHTML = '';\n",
              "          dataTable['output_type'] = 'display_data';\n",
              "          await google.colab.output.renderOutput(dataTable, element);\n",
              "          const docLink = document.createElement('div');\n",
              "          docLink.innerHTML = docLinkHtml;\n",
              "          element.appendChild(docLink);\n",
              "        }\n",
              "      </script>\n",
              "    </div>\n",
              "  </div>\n",
              "  "
            ]
          },
          "metadata": {},
          "execution_count": 13
        }
      ]
    },
    {
      "cell_type": "code",
      "source": [
        " Duplicados = bank[bank.duplicated(keep='last')]\n",
        " print(Duplicados)"
      ],
      "metadata": {
        "colab": {
          "base_uri": "https://localhost:8080/"
        },
        "id": "YQxZrM7cnFiB",
        "outputId": "dbf9f3ad-379a-41d4-f9a0-8345b689099b"
      },
      "execution_count": null,
      "outputs": [
        {
          "output_type": "stream",
          "name": "stdout",
          "text": [
            "       age          job   marital            education  default housing loan  \\\n",
            "1265    39  blue-collar   married             basic.6y       no      no   no   \n",
            "12260   36      retired   married              unknown       no      no   no   \n",
            "14155   27   technician    single  professional.course       no      no   no   \n",
            "16819   47   technician  divorced          high.school       no     yes   no   \n",
            "18464   32   technician    single  professional.course       no     yes   no   \n",
            "20072   55     services   married          high.school  unknown      no   no   \n",
            "20531   41   technician   married  professional.course       no     yes   no   \n",
            "25183   39       admin.   married    university.degree       no      no   no   \n",
            "28476   24     services    single          high.school       no     yes   no   \n",
            "32505   35       admin.   married    university.degree       no     yes   no   \n",
            "36950   45       admin.   married    university.degree       no      no   no   \n",
            "38255   71      retired    single    university.degree       no      no   no   \n",
            "\n",
            "         contact month day_of_week  ...  campaign  pdays  previous  \\\n",
            "1265   telephone   may         thu  ...         1    999         0   \n",
            "12260  telephone   jul         thu  ...         1    999         0   \n",
            "14155   cellular   jul         mon  ...         2    999         0   \n",
            "16819   cellular   jul         thu  ...         3    999         0   \n",
            "18464   cellular   jul         thu  ...         1    999         0   \n",
            "20072   cellular   aug         mon  ...         1    999         0   \n",
            "20531   cellular   aug         tue  ...         1    999         0   \n",
            "25183   cellular   nov         tue  ...         2    999         0   \n",
            "28476   cellular   apr         tue  ...         1    999         0   \n",
            "32505   cellular   may         fri  ...         4    999         0   \n",
            "36950   cellular   jul         thu  ...         1    999         0   \n",
            "38255  telephone   oct         tue  ...         1    999         0   \n",
            "\n",
            "          poutcome emp.var.rate  cons.price.idx  cons.conf.idx  euribor3m  \\\n",
            "1265   nonexistent          1.1          93.994          -36.4      4.855   \n",
            "12260  nonexistent          1.4          93.918          -42.7      4.966   \n",
            "14155  nonexistent          1.4          93.918          -42.7      4.962   \n",
            "16819  nonexistent          1.4          93.918          -42.7      4.962   \n",
            "18464  nonexistent          1.4          93.918          -42.7      4.968   \n",
            "20072  nonexistent          1.4          93.444          -36.1      4.965   \n",
            "20531  nonexistent          1.4          93.444          -36.1      4.966   \n",
            "25183  nonexistent         -0.1          93.200          -42.0      4.153   \n",
            "28476  nonexistent         -1.8          93.075          -47.1      1.423   \n",
            "32505  nonexistent         -1.8          92.893          -46.2      1.313   \n",
            "36950  nonexistent         -2.9          92.469          -33.6      1.072   \n",
            "38255  nonexistent         -3.4          92.431          -26.9      0.742   \n",
            "\n",
            "       nr.employed    y  \n",
            "1265        5191.0   no  \n",
            "12260       5228.1   no  \n",
            "14155       5228.1   no  \n",
            "16819       5228.1   no  \n",
            "18464       5228.1   no  \n",
            "20072       5228.1   no  \n",
            "20531       5228.1   no  \n",
            "25183       5195.8   no  \n",
            "28476       5099.1   no  \n",
            "32505       5099.1   no  \n",
            "36950       5076.2  yes  \n",
            "38255       5017.5   no  \n",
            "\n",
            "[12 rows x 21 columns]\n"
          ]
        }
      ]
    },
    {
      "cell_type": "code",
      "source": [
        "import missingno as msno\n",
        "%matplotlib inline"
      ],
      "metadata": {
        "id": "8S2f_edPyDRp"
      },
      "execution_count": null,
      "outputs": []
    },
    {
      "cell_type": "code",
      "source": [
        "msno.bar(bank)"
      ],
      "metadata": {
        "colab": {
          "base_uri": "https://localhost:8080/",
          "height": 640
        },
        "id": "42SreVWdy4_C",
        "outputId": "89301683-e6e5-462a-b2e0-bdc03a80fd82"
      },
      "execution_count": null,
      "outputs": [
        {
          "output_type": "execute_result",
          "data": {
            "text/plain": [
              "<matplotlib.axes._subplots.AxesSubplot at 0x7efe31a09690>"
            ]
          },
          "metadata": {},
          "execution_count": 16
        },
        {
          "output_type": "display_data",
          "data": {
            "text/plain": [
              "<Figure size 1800x720 with 3 Axes>"
            ],
            "image/png": "[encoded data removed]"
          },
          "metadata": {
            "needs_background": "light"
          }
        }
      ]
    },
    {
      "cell_type": "code",
      "source": [
        "msno.matrix(bank)"
      ],
      "metadata": {
        "colab": {
          "base_uri": "https://localhost:8080/",
          "height": 605
        },
        "id": "MaAXUry-y5GR",
        "outputId": "cccb38fc-6f40-4783-f64b-f09fcda4bfc1"
      },
      "execution_count": null,
      "outputs": [
        {
          "output_type": "execute_result",
          "data": {
            "text/plain": [
              "<matplotlib.axes._subplots.AxesSubplot at 0x7efe2eb7c810>"
            ]
          },
          "metadata": {},
          "execution_count": 17
        },
        {
          "output_type": "display_data",
          "data": {
            "text/plain": [
              "<Figure size 1800x720 with 2 Axes>"
            ],
            "image/png": "[encoded data removed]"
          },
          "metadata": {
            "needs_background": "light"
          }
        }
      ]
    },
    {
      "cell_type": "markdown",
      "source": [
        "Tambien podemos usar la siguentes funcion de agregacion para ver si hay NA"
      ],
      "metadata": {
        "id": "mSrPQfW20Hxb"
      }
    },
    {
      "cell_type": "code",
      "source": [
        "bank.isna().sum()"
      ],
      "metadata": {
        "colab": {
          "base_uri": "https://localhost:8080/"
        },
        "id": "gX55frf2KxjU",
        "outputId": "da072a9d-6989-47e8-9567-84ef9832c183"
      },
      "execution_count": null,
      "outputs": [
        {
          "output_type": "execute_result",
          "data": {
            "text/plain": [
              "age               0\n",
              "job               0\n",
              "marital           0\n",
              "education         0\n",
              "default           0\n",
              "housing           0\n",
              "loan              0\n",
              "contact           0\n",
              "month             0\n",
              "day_of_week       0\n",
              "duration          0\n",
              "campaign          0\n",
              "pdays             0\n",
              "previous          0\n",
              "poutcome          0\n",
              "emp.var.rate      0\n",
              "cons.price.idx    0\n",
              "cons.conf.idx     0\n",
              "euribor3m         0\n",
              "nr.employed       0\n",
              "y                 0\n",
              "dtype: int64"
            ]
          },
          "metadata": {},
          "execution_count": 18
        }
      ]
    },
    {
      "cell_type": "markdown",
      "source": [
        "A simple vista podriamos decir que no tenemos valores ausentes o nulos en nuestro dataset"
      ],
      "metadata": {
        "id": "ZCnd5Use7lhg"
      }
    },
    {
      "cell_type": "markdown",
      "source": [
        "Como no tenemos distintas fuentes de datos para estandarizar, obviamos la etapa de Estructuracion y saltamos a la de limpieza.."
      ],
      "metadata": {
        "id": "0o5lUyF8-xK1"
      }
    },
    {
      "cell_type": "code",
      "source": [
        "bank.corr()"
      ],
      "metadata": {
        "id": "cumOc3HFPqCc",
        "colab": {
          "base_uri": "https://localhost:8080/",
          "height": 363
        },
        "outputId": "a08fb172-0c64-4aaa-f834-c0d65ebf7720"
      },
      "execution_count": null,
      "outputs": [
        {
          "output_type": "execute_result",
          "data": {
            "text/plain": [
              "                     age  duration  campaign     pdays  previous  \\\n",
              "age             1.000000 -0.000866  0.004594 -0.034369  0.024365   \n",
              "duration       -0.000866  1.000000 -0.071699 -0.047577  0.020640   \n",
              "campaign        0.004594 -0.071699  1.000000  0.052584 -0.079141   \n",
              "pdays          -0.034369 -0.047577  0.052584  1.000000 -0.587514   \n",
              "previous        0.024365  0.020640 -0.079141 -0.587514  1.000000   \n",
              "emp.var.rate   -0.000371 -0.027968  0.150754  0.271004 -0.420489   \n",
              "cons.price.idx  0.000857  0.005312  0.127836  0.078889 -0.203130   \n",
              "cons.conf.idx   0.129372 -0.008173 -0.013733 -0.091342 -0.050936   \n",
              "euribor3m       0.010767 -0.032897  0.135133  0.296899 -0.454494   \n",
              "nr.employed    -0.017725 -0.044703  0.144095  0.372605 -0.501333   \n",
              "\n",
              "                emp.var.rate  cons.price.idx  cons.conf.idx  euribor3m  \\\n",
              "age                -0.000371        0.000857       0.129372   0.010767   \n",
              "duration           -0.027968        0.005312      -0.008173  -0.032897   \n",
              "campaign            0.150754        0.127836      -0.013733   0.135133   \n",
              "pdays               0.271004        0.078889      -0.091342   0.296899   \n",
              "previous           -0.420489       -0.203130      -0.050936  -0.454494   \n",
              "emp.var.rate        1.000000        0.775334       0.196041   0.972245   \n",
              "cons.price.idx      0.775334        1.000000       0.058986   0.688230   \n",
              "cons.conf.idx       0.196041        0.058986       1.000000   0.277686   \n",
              "euribor3m           0.972245        0.688230       0.277686   1.000000   \n",
              "nr.employed         0.906970        0.522034       0.100513   0.945154   \n",
              "\n",
              "                nr.employed  \n",
              "age               -0.017725  \n",
              "duration          -0.044703  \n",
              "campaign           0.144095  \n",
              "pdays              0.372605  \n",
              "previous          -0.501333  \n",
              "emp.var.rate       0.906970  \n",
              "cons.price.idx     0.522034  \n",
              "cons.conf.idx      0.100513  \n",
              "euribor3m          0.945154  \n",
              "nr.employed        1.000000  "
            ],
            "text/html": [
              "\n",
              "  <div id=\"df-ffe71ab8-39bd-4e8f-acc2-d9e55034cfb9\">\n",
              "    <div class=\"colab-df-container\">\n",
              "      <div>\n",
              "<style scoped>\n",
              "    .dataframe tbody tr th:only-of-type {\n",
              "        vertical-align: middle;\n",
              "    }\n",
              "\n",
              "    .dataframe tbody tr th {\n",
              "        vertical-align: top;\n",
              "    }\n",
              "\n",
              "    .dataframe thead th {\n",
              "        text-align: right;\n",
              "    }\n",
              "</style>\n",
              "<table border=\"1\" class=\"dataframe\">\n",
              "  <thead>\n",
              "    <tr style=\"text-align: right;\">\n",
              "      <th></th>\n",
              "      <th>age</th>\n",
              "      <th>duration</th>\n",
              "      <th>campaign</th>\n",
              "      <th>pdays</th>\n",
              "      <th>previous</th>\n",
              "      <th>emp.var.rate</th>\n",
              "      <th>cons.price.idx</th>\n",
              "      <th>cons.conf.idx</th>\n",
              "      <th>euribor3m</th>\n",
              "      <th>nr.employed</th>\n",
              "    </tr>\n",
              "  </thead>\n",
              "  <tbody>\n",
              "    <tr>\n",
              "      <th>age</th>\n",
              "      <td>1.000000</td>\n",
              "      <td>-0.000866</td>\n",
              "      <td>0.004594</td>\n",
              "      <td>-0.034369</td>\n",
              "      <td>0.024365</td>\n",
              "      <td>-0.000371</td>\n",
              "      <td>0.000857</td>\n",
              "      <td>0.129372</td>\n",
              "      <td>0.010767</td>\n",
              "      <td>-0.017725</td>\n",
              "    </tr>\n",
              "    <tr>\n",
              "      <th>duration</th>\n",
              "      <td>-0.000866</td>\n",
              "      <td>1.000000</td>\n",
              "      <td>-0.071699</td>\n",
              "      <td>-0.047577</td>\n",
              "      <td>0.020640</td>\n",
              "      <td>-0.027968</td>\n",
              "      <td>0.005312</td>\n",
              "      <td>-0.008173</td>\n",
              "      <td>-0.032897</td>\n",
              "      <td>-0.044703</td>\n",
              "    </tr>\n",
              "    <tr>\n",
              "      <th>campaign</th>\n",
              "      <td>0.004594</td>\n",
              "      <td>-0.071699</td>\n",
              "      <td>1.000000</td>\n",
              "      <td>0.052584</td>\n",
              "      <td>-0.079141</td>\n",
              "      <td>0.150754</td>\n",
              "      <td>0.127836</td>\n",
              "      <td>-0.013733</td>\n",
              "      <td>0.135133</td>\n",
              "      <td>0.144095</td>\n",
              "    </tr>\n",
              "    <tr>\n",
              "      <th>pdays</th>\n",
              "      <td>-0.034369</td>\n",
              "      <td>-0.047577</td>\n",
              "      <td>0.052584</td>\n",
              "      <td>1.000000</td>\n",
              "      <td>-0.587514</td>\n",
              "      <td>0.271004</td>\n",
              "      <td>0.078889</td>\n",
              "      <td>-0.091342</td>\n",
              "      <td>0.296899</td>\n",
              "      <td>0.372605</td>\n",
              "    </tr>\n",
              "    <tr>\n",
              "      <th>previous</th>\n",
              "      <td>0.024365</td>\n",
              "      <td>0.020640</td>\n",
              "      <td>-0.079141</td>\n",
              "      <td>-0.587514</td>\n",
              "      <td>1.000000</td>\n",
              "      <td>-0.420489</td>\n",
              "      <td>-0.203130</td>\n",
              "      <td>-0.050936</td>\n",
              "      <td>-0.454494</td>\n",
              "      <td>-0.501333</td>\n",
              "    </tr>\n",
              "    <tr>\n",
              "      <th>emp.var.rate</th>\n",
              "      <td>-0.000371</td>\n",
              "      <td>-0.027968</td>\n",
              "      <td>0.150754</td>\n",
              "      <td>0.271004</td>\n",
              "      <td>-0.420489</td>\n",
              "      <td>1.000000</td>\n",
              "      <td>0.775334</td>\n",
              "      <td>0.196041</td>\n",
              "      <td>0.972245</td>\n",
              "      <td>0.906970</td>\n",
              "    </tr>\n",
              "    <tr>\n",
              "      <th>cons.price.idx</th>\n",
              "      <td>0.000857</td>\n",
              "      <td>0.005312</td>\n",
              "      <td>0.127836</td>\n",
              "      <td>0.078889</td>\n",
              "      <td>-0.203130</td>\n",
              "      <td>0.775334</td>\n",
              "      <td>1.000000</td>\n",
              "      <td>0.058986</td>\n",
              "      <td>0.688230</td>\n",
              "      <td>0.522034</td>\n",
              "    </tr>\n",
              "    <tr>\n",
              "      <th>cons.conf.idx</th>\n",
              "      <td>0.129372</td>\n",
              "      <td>-0.008173</td>\n",
              "      <td>-0.013733</td>\n",
              "      <td>-0.091342</td>\n",
              "      <td>-0.050936</td>\n",
              "      <td>0.196041</td>\n",
              "      <td>0.058986</td>\n",
              "      <td>1.000000</td>\n",
              "      <td>0.277686</td>\n",
              "      <td>0.100513</td>\n",
              "    </tr>\n",
              "    <tr>\n",
              "      <th>euribor3m</th>\n",
              "      <td>0.010767</td>\n",
              "      <td>-0.032897</td>\n",
              "      <td>0.135133</td>\n",
              "      <td>0.296899</td>\n",
              "      <td>-0.454494</td>\n",
              "      <td>0.972245</td>\n",
              "      <td>0.688230</td>\n",
              "      <td>0.277686</td>\n",
              "      <td>1.000000</td>\n",
              "      <td>0.945154</td>\n",
              "    </tr>\n",
              "    <tr>\n",
              "      <th>nr.employed</th>\n",
              "      <td>-0.017725</td>\n",
              "      <td>-0.044703</td>\n",
              "      <td>0.144095</td>\n",
              "      <td>0.372605</td>\n",
              "      <td>-0.501333</td>\n",
              "      <td>0.906970</td>\n",
              "      <td>0.522034</td>\n",
              "      <td>0.100513</td>\n",
              "      <td>0.945154</td>\n",
              "      <td>1.000000</td>\n",
              "    </tr>\n",
              "  </tbody>\n",
              "</table>\n",
              "</div>\n",
              "      <button class=\"colab-df-convert\" onclick=\"convertToInteractive('df-ffe71ab8-39bd-4e8f-acc2-d9e55034cfb9')\"\n",
              "              title=\"Convert this dataframe to an interactive table.\"\n",
              "              style=\"display:none;\">\n",
              "        \n",
              "  <svg xmlns=\"http://www.w3.org/2000/svg\" height=\"24px\"viewBox=\"0 0 24 24\"\n",
              "       width=\"24px\">\n",
              "    <path d=\"M0 0h24v24H0V0z\" fill=\"none\"/>\n",
              "    <path d=\"M18.56 5.44l.94 2.06.94-2.06 2.06-.94-2.06-.94-.94-2.06-.94 2.06-2.06.94zm-11 1L8.5 8.5l.94-2.06 2.06-.94-2.06-.94L8.5 2.5l-.94 2.06-2.06.94zm10 10l.94 2.06.94-2.06 2.06-.94-2.06-.94-.94-2.06-.94 2.06-2.06.94z\"/><path d=\"M17.41 7.96l-1.37-1.37c-.4-.4-.92-.59-1.43-.59-.52 0-1.04.2-1.43.59L10.3 9.45l-7.72 7.72c-.78.78-.78 2.05 0 2.83L4 21.41c.39.39.9.59 1.41.59.51 0 1.02-.2 1.41-.59l7.78-7.78 2.81-2.81c.8-.78.8-2.07 0-2.86zM5.41 20L4 18.59l7.72-7.72 1.47 1.35L5.41 20z\"/>\n",
              "  </svg>\n",
              "      </button>\n",
              "      \n",
              "  <style>\n",
              "    .colab-df-container {\n",
              "      display:flex;\n",
              "      flex-wrap:wrap;\n",
              "      gap: 12px;\n",
              "    }\n",
              "\n",
              "    .colab-df-convert {\n",
              "      background-color: #E8F0FE;\n",
              "      border: none;\n",
              "      border-radius: 50%;\n",
              "      cursor: pointer;\n",
              "      display: none;\n",
              "      fill: #1967D2;\n",
              "      height: 32px;\n",
              "      padding: 0 0 0 0;\n",
              "      width: 32px;\n",
              "    }\n",
              "\n",
              "    .colab-df-convert:hover {\n",
              "      background-color: #E2EBFA;\n",
              "      box-shadow: 0px 1px 2px rgba(60, 64, 67, 0.3), 0px 1px 3px 1px rgba(60, 64, 67, 0.15);\n",
              "      fill: #174EA6;\n",
              "    }\n",
              "\n",
              "    [theme=dark] .colab-df-convert {\n",
              "      background-color: #3B4455;\n",
              "      fill: #D2E3FC;\n",
              "    }\n",
              "\n",
              "    [theme=dark] .colab-df-convert:hover {\n",
              "      background-color: #434B5C;\n",
              "      box-shadow: 0px 1px 3px 1px rgba(0, 0, 0, 0.15);\n",
              "      filter: drop-shadow(0px 1px 2px rgba(0, 0, 0, 0.3));\n",
              "      fill: #FFFFFF;\n",
              "    }\n",
              "  </style>\n",
              "\n",
              "      <script>\n",
              "        const buttonEl =\n",
              "          document.querySelector('#df-ffe71ab8-39bd-4e8f-acc2-d9e55034cfb9 button.colab-df-convert');\n",
              "        buttonEl.style.display =\n",
              "          google.colab.kernel.accessAllowed ? 'block' : 'none';\n",
              "\n",
              "        async function convertToInteractive(key) {\n",
              "          const element = document.querySelector('#df-ffe71ab8-39bd-4e8f-acc2-d9e55034cfb9');\n",
              "          const dataTable =\n",
              "            await google.colab.kernel.invokeFunction('convertToInteractive',\n",
              "                                                     [key], {});\n",
              "          if (!dataTable) return;\n",
              "\n",
              "          const docLinkHtml = 'Like what you see? Visit the ' +\n",
              "            '<a target=\"_blank\" href=https://colab.research.google.com/notebooks/data_table.ipynb>data table notebook</a>'\n",
              "            + ' to learn more about interactive tables.';\n",
              "          element.innerHTML = '';\n",
              "          dataTable['output_type'] = 'display_data';\n",
              "          await google.colab.output.renderOutput(dataTable, element);\n",
              "          const docLink = document.createElement('div');\n",
              "          docLink.innerHTML = docLinkHtml;\n",
              "          element.appendChild(docLink);\n",
              "        }\n",
              "      </script>\n",
              "    </div>\n",
              "  </div>\n",
              "  "
            ]
          },
          "metadata": {},
          "execution_count": 19
        }
      ]
    },
    {
      "cell_type": "markdown",
      "source": [
        "#### 5.3 Limpieza\n",
        "\n",
        "En esta etapa debemos eliminar los datos que no brinden información extra como los duplicados, revisar datos faltantes, tomar decisiones sobre qué hacer con los valores missing o los valores nulls (eliminarlos o valorarlos), ver si hay columnas que no aportan información relevante y enlentecen nuestro código,  etc. Esta propiedad estandariza el formato de las columnas (float, datatimes, etc). "
      ],
      "metadata": {
        "id": "1JLCY9dzJuMJ"
      }
    },
    {
      "cell_type": "markdown",
      "source": [
        "Como dijimos anteriormente a simple vista pareciera todo bien, pero notamos que hay una variable categorica \"desconocida\" en nuestro dataset..."
      ],
      "metadata": {
        "id": "8lTFS5RbEcEZ"
      }
    },
    {
      "cell_type": "markdown",
      "source": [
        "Veamos cuantos registros contienen este valor y en que porcentaje aparece en cada columna categorica.."
      ],
      "metadata": {
        "id": "ZaX1rBzb73ju"
      }
    },
    {
      "cell_type": "code",
      "source": [
        "print('Hay un ' + str((bank['job']=='unknown').sum()/41188*100) +' % de registros Unknow en la columna job')\n",
        "print('Hay un ' + str((bank['marital']=='unknown').sum()/41188*100) +' % de registros Unknow en la columna marital')\n",
        "print('Hay un ' + str((bank['education']=='unknown').sum()/41188*100) +' % de registros Unknow en la columna education')\n",
        "print('Hay un ' + str((bank['default']=='unknown').sum()/41188*100) +' % de registros Unknow en la columna default')\n",
        "print('Hay un ' + str((bank['housing']=='unknown').sum()/41188*100) +' % de registros Unknow en la columna housing')\n",
        "print('Hay un ' + str((bank['loan']=='unknown').sum()/41188*100) +' % de registros Unknow en la columna loan')\n",
        "print('Hay un ' + str((bank['contact']=='unknown').sum()/41188*100) +' % de registros Unknow en la columna contact')\n",
        "print('Hay un ' + str((bank['month']=='unknown').sum()/41188*100) +' % de registros Unknow en la columna month')\n",
        "print('Hay un ' + str((bank['day_of_week']=='unknown').sum()/41188*100) +' % de registros Unknow en la columna day_of_week')\n",
        "print('Hay un ' + str((bank['y']=='unknown').sum()/41188*100) +' % de registros Unknow en la columna y')\n",
        "print('Hay un ' + str((bank['poutcome']=='unknown').sum()/41188*100) +' % de registros Unknow en la columna poutcome')"
      ],
      "metadata": {
        "colab": {
          "base_uri": "https://localhost:8080/"
        },
        "id": "jRYgD8RRArzy",
        "outputId": "d902f22f-45be-4c38-870a-0261a51aeecf"
      },
      "execution_count": null,
      "outputs": [
        {
          "output_type": "stream",
          "name": "stdout",
          "text": [
            "Hay un 0.8012042342429834 % de registros Unknow en la columna job\n",
            "Hay un 0.1942313295134505 % de registros Unknow en la columna marital\n",
            "Hay un 4.202680392347285 % de registros Unknow en la columna education\n",
            "Hay un 20.87258424783918 % de registros Unknow en la columna default\n",
            "Hay un 2.40361270272895 % de registros Unknow en la columna housing\n",
            "Hay un 2.40361270272895 % de registros Unknow en la columna loan\n",
            "Hay un 0.0 % de registros Unknow en la columna contact\n",
            "Hay un 0.0 % de registros Unknow en la columna month\n",
            "Hay un 0.0 % de registros Unknow en la columna day_of_week\n",
            "Hay un 0.0 % de registros Unknow en la columna y\n",
            "Hay un 0.0 % de registros Unknow en la columna poutcome\n"
          ]
        }
      ]
    },
    {
      "cell_type": "markdown",
      "source": [
        "Vamos a establecer un dataset limpio sin incluir estos valores desconocidos, ya que representa la quinta parte de nuestro dataset y esto puede afectar al algoritmo para predecir nuestra variable target.\n",
        "Haremos una comparacio luego para ver como este valor influye en el modelo.."
      ],
      "metadata": {
        "id": "_4dtGakUErX5"
      }
    },
    {
      "cell_type": "code",
      "source": [
        "bank2 = bank.drop(bank[bank['default']=='unknown'].index)\n",
        "bank2.head()"
      ],
      "metadata": {
        "id": "0_89D-ym_kA2",
        "colab": {
          "base_uri": "https://localhost:8080/",
          "height": 299
        },
        "outputId": "c6475b54-fa79-4cf8-aecf-0e4f1d1361b2"
      },
      "execution_count": null,
      "outputs": [
        {
          "output_type": "execute_result",
          "data": {
            "text/plain": [
              "   age        job  marital            education default housing loan  \\\n",
              "0   56  housemaid  married             basic.4y      no      no   no   \n",
              "2   37   services  married          high.school      no     yes   no   \n",
              "3   40     admin.  married             basic.6y      no      no   no   \n",
              "4   56   services  married          high.school      no      no  yes   \n",
              "6   59     admin.  married  professional.course      no      no   no   \n",
              "\n",
              "     contact month day_of_week  ...  campaign  pdays  previous     poutcome  \\\n",
              "0  telephone   may         mon  ...         1    999         0  nonexistent   \n",
              "2  telephone   may         mon  ...         1    999         0  nonexistent   \n",
              "3  telephone   may         mon  ...         1    999         0  nonexistent   \n",
              "4  telephone   may         mon  ...         1    999         0  nonexistent   \n",
              "6  telephone   may         mon  ...         1    999         0  nonexistent   \n",
              "\n",
              "  emp.var.rate  cons.price.idx  cons.conf.idx  euribor3m  nr.employed   y  \n",
              "0          1.1          93.994          -36.4      4.857       5191.0  no  \n",
              "2          1.1          93.994          -36.4      4.857       5191.0  no  \n",
              "3          1.1          93.994          -36.4      4.857       5191.0  no  \n",
              "4          1.1          93.994          -36.4      4.857       5191.0  no  \n",
              "6          1.1          93.994          -36.4      4.857       5191.0  no  \n",
              "\n",
              "[5 rows x 21 columns]"
            ],
            "text/html": [
              "\n",
              "  <div id=\"df-7b3a5fd2-8b3d-47f0-a477-32fba5009705\">\n",
              "    <div class=\"colab-df-container\">\n",
              "      <div>\n",
              "<style scoped>\n",
              "    .dataframe tbody tr th:only-of-type {\n",
              "        vertical-align: middle;\n",
              "    }\n",
              "\n",
              "    .dataframe tbody tr th {\n",
              "        vertical-align: top;\n",
              "    }\n",
              "\n",
              "    .dataframe thead th {\n",
              "        text-align: right;\n",
              "    }\n",
              "</style>\n",
              "<table border=\"1\" class=\"dataframe\">\n",
              "  <thead>\n",
              "    <tr style=\"text-align: right;\">\n",
              "      <th></th>\n",
              "      <th>age</th>\n",
              "      <th>job</th>\n",
              "      <th>marital</th>\n",
              "      <th>education</th>\n",
              "      <th>default</th>\n",
              "      <th>housing</th>\n",
              "      <th>loan</th>\n",
              "      <th>contact</th>\n",
              "      <th>month</th>\n",
              "      <th>day_of_week</th>\n",
              "      <th>...</th>\n",
              "      <th>campaign</th>\n",
              "      <th>pdays</th>\n",
              "      <th>previous</th>\n",
              "      <th>poutcome</th>\n",
              "      <th>emp.var.rate</th>\n",
              "      <th>cons.price.idx</th>\n",
              "      <th>cons.conf.idx</th>\n",
              "      <th>euribor3m</th>\n",
              "      <th>nr.employed</th>\n",
              "      <th>y</th>\n",
              "    </tr>\n",
              "  </thead>\n",
              "  <tbody>\n",
              "    <tr>\n",
              "      <th>0</th>\n",
              "      <td>56</td>\n",
              "      <td>housemaid</td>\n",
              "      <td>married</td>\n",
              "      <td>basic.4y</td>\n",
              "      <td>no</td>\n",
              "      <td>no</td>\n",
              "      <td>no</td>\n",
              "      <td>telephone</td>\n",
              "      <td>may</td>\n",
              "      <td>mon</td>\n",
              "      <td>...</td>\n",
              "      <td>1</td>\n",
              "      <td>999</td>\n",
              "      <td>0</td>\n",
              "      <td>nonexistent</td>\n",
              "      <td>1.1</td>\n",
              "      <td>93.994</td>\n",
              "      <td>-36.4</td>\n",
              "      <td>4.857</td>\n",
              "      <td>5191.0</td>\n",
              "      <td>no</td>\n",
              "    </tr>\n",
              "    <tr>\n",
              "      <th>2</th>\n",
              "      <td>37</td>\n",
              "      <td>services</td>\n",
              "      <td>married</td>\n",
              "      <td>high.school</td>\n",
              "      <td>no</td>\n",
              "      <td>yes</td>\n",
              "      <td>no</td>\n",
              "      <td>telephone</td>\n",
              "      <td>may</td>\n",
              "      <td>mon</td>\n",
              "      <td>...</td>\n",
              "      <td>1</td>\n",
              "      <td>999</td>\n",
              "      <td>0</td>\n",
              "      <td>nonexistent</td>\n",
              "      <td>1.1</td>\n",
              "      <td>93.994</td>\n",
              "      <td>-36.4</td>\n",
              "      <td>4.857</td>\n",
              "      <td>5191.0</td>\n",
              "      <td>no</td>\n",
              "    </tr>\n",
              "    <tr>\n",
              "      <th>3</th>\n",
              "      <td>40</td>\n",
              "      <td>admin.</td>\n",
              "      <td>married</td>\n",
              "      <td>basic.6y</td>\n",
              "      <td>no</td>\n",
              "      <td>no</td>\n",
              "      <td>no</td>\n",
              "      <td>telephone</td>\n",
              "      <td>may</td>\n",
              "      <td>mon</td>\n",
              "      <td>...</td>\n",
              "      <td>1</td>\n",
              "      <td>999</td>\n",
              "      <td>0</td>\n",
              "      <td>nonexistent</td>\n",
              "      <td>1.1</td>\n",
              "      <td>93.994</td>\n",
              "      <td>-36.4</td>\n",
              "      <td>4.857</td>\n",
              "      <td>5191.0</td>\n",
              "      <td>no</td>\n",
              "    </tr>\n",
              "    <tr>\n",
              "      <th>4</th>\n",
              "      <td>56</td>\n",
              "      <td>services</td>\n",
              "      <td>married</td>\n",
              "      <td>high.school</td>\n",
              "      <td>no</td>\n",
              "      <td>no</td>\n",
              "      <td>yes</td>\n",
              "      <td>telephone</td>\n",
              "      <td>may</td>\n",
              "      <td>mon</td>\n",
              "      <td>...</td>\n",
              "      <td>1</td>\n",
              "      <td>999</td>\n",
              "      <td>0</td>\n",
              "      <td>nonexistent</td>\n",
              "      <td>1.1</td>\n",
              "      <td>93.994</td>\n",
              "      <td>-36.4</td>\n",
              "      <td>4.857</td>\n",
              "      <td>5191.0</td>\n",
              "      <td>no</td>\n",
              "    </tr>\n",
              "    <tr>\n",
              "      <th>6</th>\n",
              "      <td>59</td>\n",
              "      <td>admin.</td>\n",
              "      <td>married</td>\n",
              "      <td>professional.course</td>\n",
              "      <td>no</td>\n",
              "      <td>no</td>\n",
              "      <td>no</td>\n",
              "      <td>telephone</td>\n",
              "      <td>may</td>\n",
              "      <td>mon</td>\n",
              "      <td>...</td>\n",
              "      <td>1</td>\n",
              "      <td>999</td>\n",
              "      <td>0</td>\n",
              "      <td>nonexistent</td>\n",
              "      <td>1.1</td>\n",
              "      <td>93.994</td>\n",
              "      <td>-36.4</td>\n",
              "      <td>4.857</td>\n",
              "      <td>5191.0</td>\n",
              "      <td>no</td>\n",
              "    </tr>\n",
              "  </tbody>\n",
              "</table>\n",
              "<p>5 rows × 21 columns</p>\n",
              "</div>\n",
              "      <button class=\"colab-df-convert\" onclick=\"convertToInteractive('df-7b3a5fd2-8b3d-47f0-a477-32fba5009705')\"\n",
              "              title=\"Convert this dataframe to an interactive table.\"\n",
              "              style=\"display:none;\">\n",
              "        \n",
              "  <svg xmlns=\"http://www.w3.org/2000/svg\" height=\"24px\"viewBox=\"0 0 24 24\"\n",
              "       width=\"24px\">\n",
              "    <path d=\"M0 0h24v24H0V0z\" fill=\"none\"/>\n",
              "    <path d=\"M18.56 5.44l.94 2.06.94-2.06 2.06-.94-2.06-.94-.94-2.06-.94 2.06-2.06.94zm-11 1L8.5 8.5l.94-2.06 2.06-.94-2.06-.94L8.5 2.5l-.94 2.06-2.06.94zm10 10l.94 2.06.94-2.06 2.06-.94-2.06-.94-.94-2.06-.94 2.06-2.06.94z\"/><path d=\"M17.41 7.96l-1.37-1.37c-.4-.4-.92-.59-1.43-.59-.52 0-1.04.2-1.43.59L10.3 9.45l-7.72 7.72c-.78.78-.78 2.05 0 2.83L4 21.41c.39.39.9.59 1.41.59.51 0 1.02-.2 1.41-.59l7.78-7.78 2.81-2.81c.8-.78.8-2.07 0-2.86zM5.41 20L4 18.59l7.72-7.72 1.47 1.35L5.41 20z\"/>\n",
              "  </svg>\n",
              "      </button>\n",
              "      \n",
              "  <style>\n",
              "    .colab-df-container {\n",
              "      display:flex;\n",
              "      flex-wrap:wrap;\n",
              "      gap: 12px;\n",
              "    }\n",
              "\n",
              "    .colab-df-convert {\n",
              "      background-color: #E8F0FE;\n",
              "      border: none;\n",
              "      border-radius: 50%;\n",
              "      cursor: pointer;\n",
              "      display: none;\n",
              "      fill: #1967D2;\n",
              "      height: 32px;\n",
              "      padding: 0 0 0 0;\n",
              "      width: 32px;\n",
              "    }\n",
              "\n",
              "    .colab-df-convert:hover {\n",
              "      background-color: #E2EBFA;\n",
              "      box-shadow: 0px 1px 2px rgba(60, 64, 67, 0.3), 0px 1px 3px 1px rgba(60, 64, 67, 0.15);\n",
              "      fill: #174EA6;\n",
              "    }\n",
              "\n",
              "    [theme=dark] .colab-df-convert {\n",
              "      background-color: #3B4455;\n",
              "      fill: #D2E3FC;\n",
              "    }\n",
              "\n",
              "    [theme=dark] .colab-df-convert:hover {\n",
              "      background-color: #434B5C;\n",
              "      box-shadow: 0px 1px 3px 1px rgba(0, 0, 0, 0.15);\n",
              "      filter: drop-shadow(0px 1px 2px rgba(0, 0, 0, 0.3));\n",
              "      fill: #FFFFFF;\n",
              "    }\n",
              "  </style>\n",
              "\n",
              "      <script>\n",
              "        const buttonEl =\n",
              "          document.querySelector('#df-7b3a5fd2-8b3d-47f0-a477-32fba5009705 button.colab-df-convert');\n",
              "        buttonEl.style.display =\n",
              "          google.colab.kernel.accessAllowed ? 'block' : 'none';\n",
              "\n",
              "        async function convertToInteractive(key) {\n",
              "          const element = document.querySelector('#df-7b3a5fd2-8b3d-47f0-a477-32fba5009705');\n",
              "          const dataTable =\n",
              "            await google.colab.kernel.invokeFunction('convertToInteractive',\n",
              "                                                     [key], {});\n",
              "          if (!dataTable) return;\n",
              "\n",
              "          const docLinkHtml = 'Like what you see? Visit the ' +\n",
              "            '<a target=\"_blank\" href=https://colab.research.google.com/notebooks/data_table.ipynb>data table notebook</a>'\n",
              "            + ' to learn more about interactive tables.';\n",
              "          element.innerHTML = '';\n",
              "          dataTable['output_type'] = 'display_data';\n",
              "          await google.colab.output.renderOutput(dataTable, element);\n",
              "          const docLink = document.createElement('div');\n",
              "          docLink.innerHTML = docLinkHtml;\n",
              "          element.appendChild(docLink);\n",
              "        }\n",
              "      </script>\n",
              "    </div>\n",
              "  </div>\n",
              "  "
            ]
          },
          "metadata": {},
          "execution_count": 21
        }
      ]
    },
    {
      "cell_type": "code",
      "source": [
        "print(str(bank.shape[0] - bank2.shape[0]))"
      ],
      "metadata": {
        "colab": {
          "base_uri": "https://localhost:8080/"
        },
        "id": "lm3y5V8k_6Ev",
        "outputId": "852fdb82-c218-4d59-d26f-4dcdb3e25e91"
      },
      "execution_count": null,
      "outputs": [
        {
          "output_type": "stream",
          "name": "stdout",
          "text": [
            "8597\n"
          ]
        }
      ]
    },
    {
      "cell_type": "markdown",
      "source": [
        "Tenemos un total de 8597 registros menos dado que quitamos los registros que tienen valor desconocido en default"
      ],
      "metadata": {
        "id": "8EuIjFUlAQwX"
      }
    },
    {
      "cell_type": "markdown",
      "source": [
        "Ahora procedemos a la eliminacion de las filas duplicadas"
      ],
      "metadata": {
        "id": "QULRkm3Gramy"
      }
    },
    {
      "cell_type": "code",
      "source": [
        "Bank = bank.drop_duplicates(subset=None, \n",
        "                          keep='first', \n",
        "                          inplace=False, \n",
        "                          ignore_index=False)"
      ],
      "metadata": {
        "id": "nyBTKUufojuc"
      },
      "execution_count": null,
      "outputs": []
    },
    {
      "cell_type": "code",
      "source": [
        "Bank.info()"
      ],
      "metadata": {
        "colab": {
          "base_uri": "https://localhost:8080/"
        },
        "id": "jrwMoJFjt67Y",
        "outputId": "35cde50c-db8a-4a7a-c77f-f7cccf1c53b2"
      },
      "execution_count": null,
      "outputs": [
        {
          "output_type": "stream",
          "name": "stdout",
          "text": [
            "<class 'pandas.core.frame.DataFrame'>\n",
            "Int64Index: 41176 entries, 0 to 41187\n",
            "Data columns (total 21 columns):\n",
            " #   Column          Non-Null Count  Dtype  \n",
            "---  ------          --------------  -----  \n",
            " 0   age             41176 non-null  int64  \n",
            " 1   job             41176 non-null  object \n",
            " 2   marital         41176 non-null  object \n",
            " 3   education       41176 non-null  object \n",
            " 4   default         41176 non-null  object \n",
            " 5   housing         41176 non-null  object \n",
            " 6   loan            41176 non-null  object \n",
            " 7   contact         41176 non-null  object \n",
            " 8   month           41176 non-null  object \n",
            " 9   day_of_week     41176 non-null  object \n",
            " 10  duration        41176 non-null  int64  \n",
            " 11  campaign        41176 non-null  int64  \n",
            " 12  pdays           41176 non-null  int64  \n",
            " 13  previous        41176 non-null  int64  \n",
            " 14  poutcome        41176 non-null  object \n",
            " 15  emp.var.rate    41176 non-null  float64\n",
            " 16  cons.price.idx  41176 non-null  float64\n",
            " 17  cons.conf.idx   41176 non-null  float64\n",
            " 18  euribor3m       41176 non-null  float64\n",
            " 19  nr.employed     41176 non-null  float64\n",
            " 20  y               41176 non-null  object \n",
            "dtypes: float64(5), int64(5), object(11)\n",
            "memory usage: 6.9+ MB\n"
          ]
        }
      ]
    },
    {
      "cell_type": "code",
      "source": [
        "Bank['marital'] = Bank['marital'].str.capitalize()\n",
        "Bank['month'] = Bank['month'].str.capitalize()\n",
        "Bank['education'] = Bank['education'].str.capitalize()\n",
        "Bank['job'] = Bank['job'].str.capitalize()\n",
        "\n"
      ],
      "metadata": {
        "colab": {
          "base_uri": "https://localhost:8080/"
        },
        "id": "c-QqAvIkFfvQ",
        "outputId": "efbd3a5c-42d1-4797-f7aa-f22ba25849b1"
      },
      "execution_count": null,
      "outputs": [
        {
          "output_type": "stream",
          "name": "stderr",
          "text": [
            "/usr/local/lib/python3.7/dist-packages/ipykernel_launcher.py:1: SettingWithCopyWarning: \n",
            "A value is trying to be set on a copy of a slice from a DataFrame.\n",
            "Try using .loc[row_indexer,col_indexer] = value instead\n",
            "\n",
            "See the caveats in the documentation: https://pandas.pydata.org/pandas-docs/stable/user_guide/indexing.html#returning-a-view-versus-a-copy\n",
            "  \"\"\"Entry point for launching an IPython kernel.\n",
            "/usr/local/lib/python3.7/dist-packages/ipykernel_launcher.py:2: SettingWithCopyWarning: \n",
            "A value is trying to be set on a copy of a slice from a DataFrame.\n",
            "Try using .loc[row_indexer,col_indexer] = value instead\n",
            "\n",
            "See the caveats in the documentation: https://pandas.pydata.org/pandas-docs/stable/user_guide/indexing.html#returning-a-view-versus-a-copy\n",
            "  \n",
            "/usr/local/lib/python3.7/dist-packages/ipykernel_launcher.py:3: SettingWithCopyWarning: \n",
            "A value is trying to be set on a copy of a slice from a DataFrame.\n",
            "Try using .loc[row_indexer,col_indexer] = value instead\n",
            "\n",
            "See the caveats in the documentation: https://pandas.pydata.org/pandas-docs/stable/user_guide/indexing.html#returning-a-view-versus-a-copy\n",
            "  This is separate from the ipykernel package so we can avoid doing imports until\n",
            "/usr/local/lib/python3.7/dist-packages/ipykernel_launcher.py:4: SettingWithCopyWarning: \n",
            "A value is trying to be set on a copy of a slice from a DataFrame.\n",
            "Try using .loc[row_indexer,col_indexer] = value instead\n",
            "\n",
            "See the caveats in the documentation: https://pandas.pydata.org/pandas-docs/stable/user_guide/indexing.html#returning-a-view-versus-a-copy\n",
            "  after removing the cwd from sys.path.\n"
          ]
        }
      ]
    },
    {
      "cell_type": "code",
      "source": [
        "Bank"
      ],
      "metadata": {
        "colab": {
          "base_uri": "https://localhost:8080/",
          "height": 488
        },
        "id": "ElxjaaX91--U",
        "outputId": "191cfe3d-abbb-4c84-f422-a940657fda2a"
      },
      "execution_count": null,
      "outputs": [
        {
          "output_type": "execute_result",
          "data": {
            "text/plain": [
              "       age          job  marital            education  default housing loan  \\\n",
              "0       56    Housemaid  Married             Basic.4y       no      no   no   \n",
              "1       57     Services  Married          High.school  unknown      no   no   \n",
              "2       37     Services  Married          High.school       no     yes   no   \n",
              "3       40       Admin.  Married             Basic.6y       no      no   no   \n",
              "4       56     Services  Married          High.school       no      no  yes   \n",
              "...    ...          ...      ...                  ...      ...     ...  ...   \n",
              "41183   73      Retired  Married  Professional.course       no     yes   no   \n",
              "41184   46  Blue-collar  Married  Professional.course       no      no   no   \n",
              "41185   56      Retired  Married    University.degree       no     yes   no   \n",
              "41186   44   Technician  Married  Professional.course       no      no   no   \n",
              "41187   74      Retired  Married  Professional.course       no     yes   no   \n",
              "\n",
              "         contact month day_of_week  ...  campaign  pdays  previous  \\\n",
              "0      telephone   May         mon  ...         1    999         0   \n",
              "1      telephone   May         mon  ...         1    999         0   \n",
              "2      telephone   May         mon  ...         1    999         0   \n",
              "3      telephone   May         mon  ...         1    999         0   \n",
              "4      telephone   May         mon  ...         1    999         0   \n",
              "...          ...   ...         ...  ...       ...    ...       ...   \n",
              "41183   cellular   Nov         fri  ...         1    999         0   \n",
              "41184   cellular   Nov         fri  ...         1    999         0   \n",
              "41185   cellular   Nov         fri  ...         2    999         0   \n",
              "41186   cellular   Nov         fri  ...         1    999         0   \n",
              "41187   cellular   Nov         fri  ...         3    999         1   \n",
              "\n",
              "          poutcome emp.var.rate  cons.price.idx  cons.conf.idx  euribor3m  \\\n",
              "0      nonexistent          1.1          93.994          -36.4      4.857   \n",
              "1      nonexistent          1.1          93.994          -36.4      4.857   \n",
              "2      nonexistent          1.1          93.994          -36.4      4.857   \n",
              "3      nonexistent          1.1          93.994          -36.4      4.857   \n",
              "4      nonexistent          1.1          93.994          -36.4      4.857   \n",
              "...            ...          ...             ...            ...        ...   \n",
              "41183  nonexistent         -1.1          94.767          -50.8      1.028   \n",
              "41184  nonexistent         -1.1          94.767          -50.8      1.028   \n",
              "41185  nonexistent         -1.1          94.767          -50.8      1.028   \n",
              "41186  nonexistent         -1.1          94.767          -50.8      1.028   \n",
              "41187      failure         -1.1          94.767          -50.8      1.028   \n",
              "\n",
              "       nr.employed    y  \n",
              "0           5191.0   no  \n",
              "1           5191.0   no  \n",
              "2           5191.0   no  \n",
              "3           5191.0   no  \n",
              "4           5191.0   no  \n",
              "...            ...  ...  \n",
              "41183       4963.6  yes  \n",
              "41184       4963.6   no  \n",
              "41185       4963.6   no  \n",
              "41186       4963.6  yes  \n",
              "41187       4963.6   no  \n",
              "\n",
              "[41176 rows x 21 columns]"
            ],
            "text/html": [
              "\n",
              "  <div id=\"df-cb65c00d-7c69-4dde-8f97-2d0abbcc6817\">\n",
              "    <div class=\"colab-df-container\">\n",
              "      <div>\n",
              "<style scoped>\n",
              "    .dataframe tbody tr th:only-of-type {\n",
              "        vertical-align: middle;\n",
              "    }\n",
              "\n",
              "    .dataframe tbody tr th {\n",
              "        vertical-align: top;\n",
              "    }\n",
              "\n",
              "    .dataframe thead th {\n",
              "        text-align: right;\n",
              "    }\n",
              "</style>\n",
              "<table border=\"1\" class=\"dataframe\">\n",
              "  <thead>\n",
              "    <tr style=\"text-align: right;\">\n",
              "      <th></th>\n",
              "      <th>age</th>\n",
              "      <th>job</th>\n",
              "      <th>marital</th>\n",
              "      <th>education</th>\n",
              "      <th>default</th>\n",
              "      <th>housing</th>\n",
              "      <th>loan</th>\n",
              "      <th>contact</th>\n",
              "      <th>month</th>\n",
              "      <th>day_of_week</th>\n",
              "      <th>...</th>\n",
              "      <th>campaign</th>\n",
              "      <th>pdays</th>\n",
              "      <th>previous</th>\n",
              "      <th>poutcome</th>\n",
              "      <th>emp.var.rate</th>\n",
              "      <th>cons.price.idx</th>\n",
              "      <th>cons.conf.idx</th>\n",
              "      <th>euribor3m</th>\n",
              "      <th>nr.employed</th>\n",
              "      <th>y</th>\n",
              "    </tr>\n",
              "  </thead>\n",
              "  <tbody>\n",
              "    <tr>\n",
              "      <th>0</th>\n",
              "      <td>56</td>\n",
              "      <td>Housemaid</td>\n",
              "      <td>Married</td>\n",
              "      <td>Basic.4y</td>\n",
              "      <td>no</td>\n",
              "      <td>no</td>\n",
              "      <td>no</td>\n",
              "      <td>telephone</td>\n",
              "      <td>May</td>\n",
              "      <td>mon</td>\n",
              "      <td>...</td>\n",
              "      <td>1</td>\n",
              "      <td>999</td>\n",
              "      <td>0</td>\n",
              "      <td>nonexistent</td>\n",
              "      <td>1.1</td>\n",
              "      <td>93.994</td>\n",
              "      <td>-36.4</td>\n",
              "      <td>4.857</td>\n",
              "      <td>5191.0</td>\n",
              "      <td>no</td>\n",
              "    </tr>\n",
              "    <tr>\n",
              "      <th>1</th>\n",
              "      <td>57</td>\n",
              "      <td>Services</td>\n",
              "      <td>Married</td>\n",
              "      <td>High.school</td>\n",
              "      <td>unknown</td>\n",
              "      <td>no</td>\n",
              "      <td>no</td>\n",
              "      <td>telephone</td>\n",
              "      <td>May</td>\n",
              "      <td>mon</td>\n",
              "      <td>...</td>\n",
              "      <td>1</td>\n",
              "      <td>999</td>\n",
              "      <td>0</td>\n",
              "      <td>nonexistent</td>\n",
              "      <td>1.1</td>\n",
              "      <td>93.994</td>\n",
              "      <td>-36.4</td>\n",
              "      <td>4.857</td>\n",
              "      <td>5191.0</td>\n",
              "      <td>no</td>\n",
              "    </tr>\n",
              "    <tr>\n",
              "      <th>2</th>\n",
              "      <td>37</td>\n",
              "      <td>Services</td>\n",
              "      <td>Married</td>\n",
              "      <td>High.school</td>\n",
              "      <td>no</td>\n",
              "      <td>yes</td>\n",
              "      <td>no</td>\n",
              "      <td>telephone</td>\n",
              "      <td>May</td>\n",
              "      <td>mon</td>\n",
              "      <td>...</td>\n",
              "      <td>1</td>\n",
              "      <td>999</td>\n",
              "      <td>0</td>\n",
              "      <td>nonexistent</td>\n",
              "      <td>1.1</td>\n",
              "      <td>93.994</td>\n",
              "      <td>-36.4</td>\n",
              "      <td>4.857</td>\n",
              "      <td>5191.0</td>\n",
              "      <td>no</td>\n",
              "    </tr>\n",
              "    <tr>\n",
              "      <th>3</th>\n",
              "      <td>40</td>\n",
              "      <td>Admin.</td>\n",
              "      <td>Married</td>\n",
              "      <td>Basic.6y</td>\n",
              "      <td>no</td>\n",
              "      <td>no</td>\n",
              "      <td>no</td>\n",
              "      <td>telephone</td>\n",
              "      <td>May</td>\n",
              "      <td>mon</td>\n",
              "      <td>...</td>\n",
              "      <td>1</td>\n",
              "      <td>999</td>\n",
              "      <td>0</td>\n",
              "      <td>nonexistent</td>\n",
              "      <td>1.1</td>\n",
              "      <td>93.994</td>\n",
              "      <td>-36.4</td>\n",
              "      <td>4.857</td>\n",
              "      <td>5191.0</td>\n",
              "      <td>no</td>\n",
              "    </tr>\n",
              "    <tr>\n",
              "      <th>4</th>\n",
              "      <td>56</td>\n",
              "      <td>Services</td>\n",
              "      <td>Married</td>\n",
              "      <td>High.school</td>\n",
              "      <td>no</td>\n",
              "      <td>no</td>\n",
              "      <td>yes</td>\n",
              "      <td>telephone</td>\n",
              "      <td>May</td>\n",
              "      <td>mon</td>\n",
              "      <td>...</td>\n",
              "      <td>1</td>\n",
              "      <td>999</td>\n",
              "      <td>0</td>\n",
              "      <td>nonexistent</td>\n",
              "      <td>1.1</td>\n",
              "      <td>93.994</td>\n",
              "      <td>-36.4</td>\n",
              "      <td>4.857</td>\n",
              "      <td>5191.0</td>\n",
              "      <td>no</td>\n",
              "    </tr>\n",
              "    <tr>\n",
              "      <th>...</th>\n",
              "      <td>...</td>\n",
              "      <td>...</td>\n",
              "      <td>...</td>\n",
              "      <td>...</td>\n",
              "      <td>...</td>\n",
              "      <td>...</td>\n",
              "      <td>...</td>\n",
              "      <td>...</td>\n",
              "      <td>...</td>\n",
              "      <td>...</td>\n",
              "      <td>...</td>\n",
              "      <td>...</td>\n",
              "      <td>...</td>\n",
              "      <td>...</td>\n",
              "      <td>...</td>\n",
              "      <td>...</td>\n",
              "      <td>...</td>\n",
              "      <td>...</td>\n",
              "      <td>...</td>\n",
              "      <td>...</td>\n",
              "      <td>...</td>\n",
              "    </tr>\n",
              "    <tr>\n",
              "      <th>41183</th>\n",
              "      <td>73</td>\n",
              "      <td>Retired</td>\n",
              "      <td>Married</td>\n",
              "      <td>Professional.course</td>\n",
              "      <td>no</td>\n",
              "      <td>yes</td>\n",
              "      <td>no</td>\n",
              "      <td>cellular</td>\n",
              "      <td>Nov</td>\n",
              "      <td>fri</td>\n",
              "      <td>...</td>\n",
              "      <td>1</td>\n",
              "      <td>999</td>\n",
              "      <td>0</td>\n",
              "      <td>nonexistent</td>\n",
              "      <td>-1.1</td>\n",
              "      <td>94.767</td>\n",
              "      <td>-50.8</td>\n",
              "      <td>1.028</td>\n",
              "      <td>4963.6</td>\n",
              "      <td>yes</td>\n",
              "    </tr>\n",
              "    <tr>\n",
              "      <th>41184</th>\n",
              "      <td>46</td>\n",
              "      <td>Blue-collar</td>\n",
              "      <td>Married</td>\n",
              "      <td>Professional.course</td>\n",
              "      <td>no</td>\n",
              "      <td>no</td>\n",
              "      <td>no</td>\n",
              "      <td>cellular</td>\n",
              "      <td>Nov</td>\n",
              "      <td>fri</td>\n",
              "      <td>...</td>\n",
              "      <td>1</td>\n",
              "      <td>999</td>\n",
              "      <td>0</td>\n",
              "      <td>nonexistent</td>\n",
              "      <td>-1.1</td>\n",
              "      <td>94.767</td>\n",
              "      <td>-50.8</td>\n",
              "      <td>1.028</td>\n",
              "      <td>4963.6</td>\n",
              "      <td>no</td>\n",
              "    </tr>\n",
              "    <tr>\n",
              "      <th>41185</th>\n",
              "      <td>56</td>\n",
              "      <td>Retired</td>\n",
              "      <td>Married</td>\n",
              "      <td>University.degree</td>\n",
              "      <td>no</td>\n",
              "      <td>yes</td>\n",
              "      <td>no</td>\n",
              "      <td>cellular</td>\n",
              "      <td>Nov</td>\n",
              "      <td>fri</td>\n",
              "      <td>...</td>\n",
              "      <td>2</td>\n",
              "      <td>999</td>\n",
              "      <td>0</td>\n",
              "      <td>nonexistent</td>\n",
              "      <td>-1.1</td>\n",
              "      <td>94.767</td>\n",
              "      <td>-50.8</td>\n",
              "      <td>1.028</td>\n",
              "      <td>4963.6</td>\n",
              "      <td>no</td>\n",
              "    </tr>\n",
              "    <tr>\n",
              "      <th>41186</th>\n",
              "      <td>44</td>\n",
              "      <td>Technician</td>\n",
              "      <td>Married</td>\n",
              "      <td>Professional.course</td>\n",
              "      <td>no</td>\n",
              "      <td>no</td>\n",
              "      <td>no</td>\n",
              "      <td>cellular</td>\n",
              "      <td>Nov</td>\n",
              "      <td>fri</td>\n",
              "      <td>...</td>\n",
              "      <td>1</td>\n",
              "      <td>999</td>\n",
              "      <td>0</td>\n",
              "      <td>nonexistent</td>\n",
              "      <td>-1.1</td>\n",
              "      <td>94.767</td>\n",
              "      <td>-50.8</td>\n",
              "      <td>1.028</td>\n",
              "      <td>4963.6</td>\n",
              "      <td>yes</td>\n",
              "    </tr>\n",
              "    <tr>\n",
              "      <th>41187</th>\n",
              "      <td>74</td>\n",
              "      <td>Retired</td>\n",
              "      <td>Married</td>\n",
              "      <td>Professional.course</td>\n",
              "      <td>no</td>\n",
              "      <td>yes</td>\n",
              "      <td>no</td>\n",
              "      <td>cellular</td>\n",
              "      <td>Nov</td>\n",
              "      <td>fri</td>\n",
              "      <td>...</td>\n",
              "      <td>3</td>\n",
              "      <td>999</td>\n",
              "      <td>1</td>\n",
              "      <td>failure</td>\n",
              "      <td>-1.1</td>\n",
              "      <td>94.767</td>\n",
              "      <td>-50.8</td>\n",
              "      <td>1.028</td>\n",
              "      <td>4963.6</td>\n",
              "      <td>no</td>\n",
              "    </tr>\n",
              "  </tbody>\n",
              "</table>\n",
              "<p>41176 rows × 21 columns</p>\n",
              "</div>\n",
              "      <button class=\"colab-df-convert\" onclick=\"convertToInteractive('df-cb65c00d-7c69-4dde-8f97-2d0abbcc6817')\"\n",
              "              title=\"Convert this dataframe to an interactive table.\"\n",
              "              style=\"display:none;\">\n",
              "        \n",
              "  <svg xmlns=\"http://www.w3.org/2000/svg\" height=\"24px\"viewBox=\"0 0 24 24\"\n",
              "       width=\"24px\">\n",
              "    <path d=\"M0 0h24v24H0V0z\" fill=\"none\"/>\n",
              "    <path d=\"M18.56 5.44l.94 2.06.94-2.06 2.06-.94-2.06-.94-.94-2.06-.94 2.06-2.06.94zm-11 1L8.5 8.5l.94-2.06 2.06-.94-2.06-.94L8.5 2.5l-.94 2.06-2.06.94zm10 10l.94 2.06.94-2.06 2.06-.94-2.06-.94-.94-2.06-.94 2.06-2.06.94z\"/><path d=\"M17.41 7.96l-1.37-1.37c-.4-.4-.92-.59-1.43-.59-.52 0-1.04.2-1.43.59L10.3 9.45l-7.72 7.72c-.78.78-.78 2.05 0 2.83L4 21.41c.39.39.9.59 1.41.59.51 0 1.02-.2 1.41-.59l7.78-7.78 2.81-2.81c.8-.78.8-2.07 0-2.86zM5.41 20L4 18.59l7.72-7.72 1.47 1.35L5.41 20z\"/>\n",
              "  </svg>\n",
              "      </button>\n",
              "      \n",
              "  <style>\n",
              "    .colab-df-container {\n",
              "      display:flex;\n",
              "      flex-wrap:wrap;\n",
              "      gap: 12px;\n",
              "    }\n",
              "\n",
              "    .colab-df-convert {\n",
              "      background-color: #E8F0FE;\n",
              "      border: none;\n",
              "      border-radius: 50%;\n",
              "      cursor: pointer;\n",
              "      display: none;\n",
              "      fill: #1967D2;\n",
              "      height: 32px;\n",
              "      padding: 0 0 0 0;\n",
              "      width: 32px;\n",
              "    }\n",
              "\n",
              "    .colab-df-convert:hover {\n",
              "      background-color: #E2EBFA;\n",
              "      box-shadow: 0px 1px 2px rgba(60, 64, 67, 0.3), 0px 1px 3px 1px rgba(60, 64, 67, 0.15);\n",
              "      fill: #174EA6;\n",
              "    }\n",
              "\n",
              "    [theme=dark] .colab-df-convert {\n",
              "      background-color: #3B4455;\n",
              "      fill: #D2E3FC;\n",
              "    }\n",
              "\n",
              "    [theme=dark] .colab-df-convert:hover {\n",
              "      background-color: #434B5C;\n",
              "      box-shadow: 0px 1px 3px 1px rgba(0, 0, 0, 0.15);\n",
              "      filter: drop-shadow(0px 1px 2px rgba(0, 0, 0, 0.3));\n",
              "      fill: #FFFFFF;\n",
              "    }\n",
              "  </style>\n",
              "\n",
              "      <script>\n",
              "        const buttonEl =\n",
              "          document.querySelector('#df-cb65c00d-7c69-4dde-8f97-2d0abbcc6817 button.colab-df-convert');\n",
              "        buttonEl.style.display =\n",
              "          google.colab.kernel.accessAllowed ? 'block' : 'none';\n",
              "\n",
              "        async function convertToInteractive(key) {\n",
              "          const element = document.querySelector('#df-cb65c00d-7c69-4dde-8f97-2d0abbcc6817');\n",
              "          const dataTable =\n",
              "            await google.colab.kernel.invokeFunction('convertToInteractive',\n",
              "                                                     [key], {});\n",
              "          if (!dataTable) return;\n",
              "\n",
              "          const docLinkHtml = 'Like what you see? Visit the ' +\n",
              "            '<a target=\"_blank\" href=https://colab.research.google.com/notebooks/data_table.ipynb>data table notebook</a>'\n",
              "            + ' to learn more about interactive tables.';\n",
              "          element.innerHTML = '';\n",
              "          dataTable['output_type'] = 'display_data';\n",
              "          await google.colab.output.renderOutput(dataTable, element);\n",
              "          const docLink = document.createElement('div');\n",
              "          docLink.innerHTML = docLinkHtml;\n",
              "          element.appendChild(docLink);\n",
              "        }\n",
              "      </script>\n",
              "    </div>\n",
              "  </div>\n",
              "  "
            ]
          },
          "metadata": {},
          "execution_count": 26
        }
      ]
    },
    {
      "cell_type": "markdown",
      "source": [
        "#### 5.5 Validacion\n",
        "Es muy importante para los equipos, asegurarse que los datos son precisos  y que la información no se alteró durante el proceso. Esto significa asegurar la fiabilidad, credibilidad y calidad de los datos limpios debido a que van a utilizarse para tomar decisiones. "
      ],
      "metadata": {
        "id": "m-BG--dLJ3Lx"
      }
    },
    {
      "cell_type": "markdown",
      "source": [
        "Hasta ahora tenemos aqui 4 datasets..\n",
        "\n",
        "- **bank** dataset original\n",
        "- **Bank** dataset original menos los duplicados\n",
        "- **bank2** dataset reducido, quitando variables desconocidas en default\n",
        "- **bank_y** dataset con variables categoricas trasnformadas a numericas"
      ],
      "metadata": {
        "id": "xeyUtrzZDg5n"
      }
    },
    {
      "cell_type": "code",
      "source": [
        "print('Shape de Bank '+ str(Bank.shape))\n",
        "print('Shape de bank2 '+ str(bank2.shape))"
      ],
      "metadata": {
        "colab": {
          "base_uri": "https://localhost:8080/"
        },
        "id": "PhJY9bYSDgbW",
        "outputId": "88eba7ad-0f8b-45f5-bf63-d0a6b2d5f388"
      },
      "execution_count": null,
      "outputs": [
        {
          "output_type": "stream",
          "name": "stdout",
          "text": [
            "Shape de Bank (41176, 21)\n",
            "Shape de bank2 (32591, 21)\n"
          ]
        }
      ]
    },
    {
      "cell_type": "markdown",
      "metadata": {
        "id": "d4JsG_v1p-vB"
      },
      "source": [
        "---"
      ]
    },
    {
      "cell_type": "markdown",
      "source": [
        "## 6. EDA"
      ],
      "metadata": {
        "id": "-T6pHAFi7CY1"
      }
    },
    {
      "cell_type": "markdown",
      "source": [
        "### Análisis Univariado\n"
      ],
      "metadata": {
        "id": "-29H02bs_17C"
      }
    },
    {
      "cell_type": "code",
      "source": [
        "fig, ax = plt.subplots()\n",
        "fig.set_size_inches(20, 5)\n",
        "sns.countplot(x = 'marital', data = Bank)\n",
        "ax.set_xlabel('Marital', fontsize=15)\n",
        "ax.set_ylabel('Count', fontsize=15)\n",
        "ax.set_title('Marital Status Count Distribution', fontsize=15)\n",
        "ax.tick_params(labelsize=15)\n",
        "sns.despine()\n",
        "plt.show()"
      ],
      "metadata": {
        "id": "GwWIqw4J4bhc",
        "colab": {
          "base_uri": "https://localhost:8080/",
          "height": 362
        },
        "outputId": "5dca1898-ae72-4b0f-87b9-474baf8d87e9"
      },
      "execution_count": null,
      "outputs": [
        {
          "output_type": "display_data",
          "data": {
            "text/plain": [
              "<Figure size 1440x360 with 1 Axes>"
            ],
            "image/png": "[encoded data removed]"
          },
          "metadata": {
            "needs_background": "light"
          }
        }
      ]
    },
    {
      "cell_type": "markdown",
      "source": [
        "Vemos que la mayoría de entrevistados son personas casadas"
      ],
      "metadata": {
        "id": "WD4dZCUuvOwJ"
      }
    },
    {
      "cell_type": "code",
      "source": [
        "fig, ax = plt.subplots()\n",
        "fig.set_size_inches(20, 5)\n",
        "sns.histplot(x = 'age', data = Bank)\n",
        "ax.set_xlabel('Edad', fontsize=15)\n",
        "ax.set_ylabel('Count', fontsize=15)\n",
        "ax.set_title('Education Count Distribution', fontsize=15)\n",
        "ax.tick_params(labelsize=15)"
      ],
      "metadata": {
        "id": "kLtNMCk0kkSF",
        "colab": {
          "base_uri": "https://localhost:8080/",
          "height": 362
        },
        "outputId": "b33369b8-aade-472a-ff5a-7ffca8c6e7ae"
      },
      "execution_count": null,
      "outputs": [
        {
          "output_type": "display_data",
          "data": {
            "text/plain": [
              "<Figure size 1440x360 with 1 Axes>"
            ],
            "image/png": "[encoded data removed]"
          },
          "metadata": {
            "needs_background": "light"
          }
        }
      ]
    },
    {
      "cell_type": "markdown",
      "source": [
        "Vemos que la mayoria de las personas tienen entre 30 y 50 años"
      ],
      "metadata": {
        "id": "xu0hxy7vngqB"
      }
    },
    {
      "cell_type": "code",
      "source": [
        "fig, ax = plt.subplots()\n",
        "fig.set_size_inches(20, 5)\n",
        "sns.boxplot(x = 'age', data = Bank)\n",
        "ax.set_xlabel('Edad', fontsize=15)\n",
        "ax.set_ylabel('Count', fontsize=15)\n",
        "ax.set_title('Education Count Distribution', fontsize=15)\n",
        "ax.tick_params(labelsize=15)"
      ],
      "metadata": {
        "id": "ndXnjV-y4nAf",
        "colab": {
          "base_uri": "https://localhost:8080/",
          "height": 362
        },
        "outputId": "a149762f-22f4-4c29-81b3-9155f7dfe37c"
      },
      "execution_count": null,
      "outputs": [
        {
          "output_type": "display_data",
          "data": {
            "text/plain": [
              "<Figure size 1440x360 with 1 Axes>"
            ],
            "image/png": "[encoded data removed]"
          },
          "metadata": {
            "needs_background": "light"
          }
        }
      ]
    },
    {
      "cell_type": "markdown",
      "source": [
        "Como podemos ver en el gráfico hay outliers con respecto a la edad de los entrevistados, hay ciertas personas mayores a 70."
      ],
      "metadata": {
        "id": "Q1KCJ95kAnRy"
      }
    },
    {
      "cell_type": "code",
      "source": [
        "fig, ax = plt.subplots()\n",
        "fig.set_size_inches(24, 5)\n",
        "sns.countplot(x = 'job', data = Bank)\n",
        "ax.set_xlabel('job', fontsize=15)\n",
        "ax.set_ylabel('Count', fontsize=15)\n",
        "ax.set_title('Job Count Distribution', fontsize=15)\n",
        "ax.tick_params(labelsize=15)\n",
        "sns.despine()"
      ],
      "metadata": {
        "id": "drWCvlAU4uJu",
        "colab": {
          "base_uri": "https://localhost:8080/",
          "height": 327
        },
        "outputId": "310acd34-26c0-4891-e8c8-89088d69b4b2"
      },
      "execution_count": null,
      "outputs": [
        {
          "output_type": "display_data",
          "data": {
            "text/plain": [
              "<Figure size 1728x360 with 1 Axes>"
            ],
            "image/png": "[encoded data removed]"
          },
          "metadata": {
            "needs_background": "light"
          }
        }
      ]
    },
    {
      "cell_type": "markdown",
      "source": [
        "La mayoría de entrevistados trabaja en empleos de administración, seguido por trabajadores de cuello azul y técnicos. Las capas más bajas las componen amas de casa, estudiantes y desempleados."
      ],
      "metadata": {
        "id": "_L2WhJevBTyI"
      }
    },
    {
      "cell_type": "code",
      "source": [
        "\n",
        "Education = Bank.groupby('education').agg('count')\n"
      ],
      "metadata": {
        "id": "x_l8OBvJ41bZ"
      },
      "execution_count": null,
      "outputs": []
    },
    {
      "cell_type": "code",
      "source": [
        "Educations = Education.iloc[0:11,0]\n",
        "Educations"
      ],
      "metadata": {
        "id": "RwHlFGnAEl6F",
        "colab": {
          "base_uri": "https://localhost:8080/"
        },
        "outputId": "5a90a54a-7e80-4190-b95a-264c996967cd"
      },
      "execution_count": null,
      "outputs": [
        {
          "output_type": "execute_result",
          "data": {
            "text/plain": [
              "education\n",
              "Basic.4y                4176\n",
              "Basic.6y                2291\n",
              "Basic.9y                6045\n",
              "High.school             9512\n",
              "Illiterate                18\n",
              "Professional.course     5240\n",
              "University.degree      12164\n",
              "Unknown                 1730\n",
              "Name: age, dtype: int64"
            ]
          },
          "metadata": {},
          "execution_count": 33
        }
      ]
    },
    {
      "cell_type": "code",
      "source": [
        "labels = Educations.index\n",
        "print(labels)\n",
        "pie, ax = plt.subplots(figsize=[10,6])\n",
        "fig=plt.pie(x=Educations, autopct=\"%.1f%%\",labels=labels,\\\n",
        "            pctdistance=0.5,shadow=True, startangle=90)\n",
        "plt.title(\"Distribution of education's level\", fontsize=14);\n",
        "plt.tight_layout();\n",
        "centre_circle = plt.Circle((0,0),0.70,fc='white')\n",
        "fig = plt.gcf()\n",
        "fig.gca().add_artist(centre_circle)\n",
        "plt.show()"
      ],
      "metadata": {
        "id": "vZoQfkjoEwj6",
        "colab": {
          "base_uri": "https://localhost:8080/",
          "height": 496
        },
        "outputId": "9031c144-31ba-42a3-d235-f8cd8b8c9692"
      },
      "execution_count": null,
      "outputs": [
        {
          "output_type": "stream",
          "name": "stdout",
          "text": [
            "Index(['Basic.4y', 'Basic.6y', 'Basic.9y', 'High.school', 'Illiterate',\n",
            "       'Professional.course', 'University.degree', 'Unknown'],\n",
            "      dtype='object', name='education')\n"
          ]
        },
        {
          "output_type": "display_data",
          "data": {
            "text/plain": [
              "<Figure size 720x432 with 1 Axes>"
            ],
            "image/png": "[encoded data removed]"
          },
          "metadata": {}
        }
      ]
    },
    {
      "cell_type": "markdown",
      "source": [
        "Analizando el gráfico, notamos que la mayoría de los entrevistados posee un título universitario, el segundo grupo más grande tiene grado educacional de secundaria."
      ],
      "metadata": {
        "id": "vH_tCgG-GqO1"
      }
    },
    {
      "cell_type": "markdown",
      "source": [
        "### Análisis Bivariado"
      ],
      "metadata": {
        "id": "t4JK2Ugu42PZ"
      }
    },
    {
      "cell_type": "code",
      "source": [
        "fig, ax = plt.subplots()\n",
        "fig.set_size_inches(30, 5)\n",
        "sns.countplot(x = 'job', hue = 'loan', data = Bank)\n",
        "ax.set_xlabel('job', fontsize=15)\n",
        "ax.set_ylabel('Count', fontsize=15)\n",
        "ax.set_title('Distribution of loan by job ', fontsize=25)\n",
        "ax.tick_params(labelsize=15)\n",
        "sns.despine()"
      ],
      "metadata": {
        "id": "vm4R_2IA47-O",
        "colab": {
          "base_uri": "https://localhost:8080/",
          "height": 274
        },
        "outputId": "79ee0dbd-1c77-4736-a514-ae3271cc6291"
      },
      "execution_count": null,
      "outputs": [
        {
          "output_type": "display_data",
          "data": {
            "text/plain": [
              "<Figure size 2160x360 with 1 Axes>"
            ],
            "image/png": "[encoded data removed]"
          },
          "metadata": {
            "needs_background": "light"
          }
        }
      ]
    },
    {
      "cell_type": "markdown",
      "source": [
        "Observamos que en general la mayoria de los entrevistados no tuvo un préstamo, y eso no depende de su puesto laboral."
      ],
      "metadata": {
        "id": "HS7a0z6wHKY4"
      }
    },
    {
      "cell_type": "code",
      "source": [
        "fig, ax = plt.subplots()\n",
        "fig.set_size_inches(20, 5)\n",
        "ax.set_xlabel('marital', fontsize=15)\n",
        "ax.set_ylabel('Age',fontsize=15)\n",
        "ax.set_title('Distribution of marital status', fontsize=20)\n",
        "sns.boxplot(x='marital', y='age', hue='y', data=Bank, saturation=0.75, width=0.8, dodge=True,)"
      ],
      "metadata": {
        "id": "JfbmaxuYN1M5",
        "colab": {
          "base_uri": "https://localhost:8080/",
          "height": 378
        },
        "outputId": "a51e0e80-e2d0-489c-aaac-4a62ad3d212b"
      },
      "execution_count": null,
      "outputs": [
        {
          "output_type": "execute_result",
          "data": {
            "text/plain": [
              "<matplotlib.axes._subplots.AxesSubplot at 0x7efe2db4de10>"
            ]
          },
          "metadata": {},
          "execution_count": 36
        },
        {
          "output_type": "display_data",
          "data": {
            "text/plain": [
              "<Figure size 1440x360 with 1 Axes>"
            ],
            "image/png": "[encoded data removed]"
          },
          "metadata": {
            "needs_background": "light"
          }
        }
      ]
    },
    {
      "cell_type": "markdown",
      "source": [
        "En la distribución de los estados civiles, vemos que las edades outliers más altas en general estan en las personas casadas y divorciadas en su mayoría. Podemos observar que la mayoria de los casados y divorciados contrata el producto, mientras que en las categorías soltero y 'no determinado' la variable y esta mas pareja."
      ],
      "metadata": {
        "id": "BM2p_eJEQ1lv"
      }
    },
    {
      "cell_type": "code",
      "source": [
        "fig, ax = plt.subplots()\n",
        "fig.set_size_inches(30, 5)\n",
        "sns.countplot(x = 'job', hue = 'y', data = Bank)\n",
        "ax.set_xlabel('job', fontsize=15)\n",
        "ax.set_ylabel('Count', fontsize=15)\n",
        "ax.set_title('Distribution of result by job ', fontsize=25)\n",
        "ax.tick_params(labelsize=15)\n",
        "sns.despine()"
      ],
      "metadata": {
        "id": "y8KtO-nLVawJ",
        "colab": {
          "base_uri": "https://localhost:8080/",
          "height": 274
        },
        "outputId": "9a32c035-70a0-4981-a816-f3604acb0381"
      },
      "execution_count": null,
      "outputs": [
        {
          "output_type": "display_data",
          "data": {
            "text/plain": [
              "<Figure size 2160x360 with 1 Axes>"
            ],
            "image/png": "[encoded data removed]"
          },
          "metadata": {
            "needs_background": "light"
          }
        }
      ]
    },
    {
      "cell_type": "markdown",
      "source": [
        "Analizando la distribución vemos que el \"no\" gana en todas las categorías, sin importar el puesto laboral"
      ],
      "metadata": {
        "id": "sDc2rvGCVqHn"
      }
    },
    {
      "cell_type": "code",
      "source": [
        "fig, ax = plt.subplots()\n",
        "fig.set_size_inches(20, 5)\n",
        "sns.histplot(x = 'marital', hue = 'contact', data = Bank)\n",
        "ax.set_xlabel('marital', fontsize=15)\n",
        "ax.set_ylabel('Count', fontsize=15)\n",
        "ax.set_title('Marital status contact distribution', fontsize=19)\n",
        "ax.tick_params(labelsize=15)\n",
        "sns.despine()"
      ],
      "metadata": {
        "id": "k-i0cG4o48Ge",
        "colab": {
          "base_uri": "https://localhost:8080/",
          "height": 365
        },
        "outputId": "287c7494-b7e2-4a58-c4a4-c265d9055f35"
      },
      "execution_count": null,
      "outputs": [
        {
          "output_type": "display_data",
          "data": {
            "text/plain": [
              "<Figure size 1440x360 with 1 Axes>"
            ],
            "image/png": "[encoded data removed]"
          },
          "metadata": {
            "needs_background": "light"
          }
        }
      ]
    },
    {
      "cell_type": "markdown",
      "source": [
        "Como lo demuestra el gráfico, la mayoria de los entrevistados casados y divorciados son entrevistados por teléfono, mientras que los solteros son más asiduos a responder por celular. "
      ],
      "metadata": {
        "id": "spVnBCxIUTwA"
      }
    },
    {
      "cell_type": "code",
      "source": [
        "ax = sns.violinplot(x=\"marital\", y=\"age\", data=Bank, split=False)\n",
        "ax.set_xlabel(\"Marital Status\")\n",
        "ax.set_title('Marital status age distribution', fontsize=15)"
      ],
      "metadata": {
        "id": "JKzTEwt348eN",
        "colab": {
          "base_uri": "https://localhost:8080/",
          "height": 315
        },
        "outputId": "878c2764-cfe6-47bb-cc28-5658030858b3"
      },
      "execution_count": null,
      "outputs": [
        {
          "output_type": "execute_result",
          "data": {
            "text/plain": [
              "Text(0.5, 1.0, 'Marital status age distribution')"
            ]
          },
          "metadata": {},
          "execution_count": 39
        },
        {
          "output_type": "display_data",
          "data": {
            "text/plain": [
              "<Figure size 432x288 with 1 Axes>"
            ],
            "image/png": "[encoded data removed]"
          },
          "metadata": {
            "needs_background": "light"
          }
        }
      ]
    },
    {
      "cell_type": "markdown",
      "source": [
        "Se detalla que los jovenes componen mayormente el grupo de solteros, mientras que casados y divorciados tienen una media mas alta, como era previsible"
      ],
      "metadata": {
        "id": "M1z72CwkMTgy"
      }
    },
    {
      "cell_type": "markdown",
      "source": [
        "### Análisis Multivariado"
      ],
      "metadata": {
        "id": "W4823Y2u5CLh"
      }
    },
    {
      "cell_type": "code",
      "source": [
        "Bank.corr()"
      ],
      "metadata": {
        "id": "Z4WRMtvfrnCz",
        "colab": {
          "base_uri": "https://localhost:8080/",
          "height": 363
        },
        "outputId": "b34665bc-8ad9-427d-9845-3fe508510046"
      },
      "execution_count": null,
      "outputs": [
        {
          "output_type": "execute_result",
          "data": {
            "text/plain": [
              "                     age  duration  campaign     pdays  previous  \\\n",
              "age             1.000000 -0.000808  0.004622 -0.034381  0.024379   \n",
              "duration       -0.000808  1.000000 -0.071765 -0.047556  0.020600   \n",
              "campaign        0.004622 -0.071765  1.000000  0.052606 -0.079182   \n",
              "pdays          -0.034381 -0.047556  0.052606  1.000000 -0.587508   \n",
              "previous        0.024379  0.020600 -0.079182 -0.587508  1.000000   \n",
              "emp.var.rate   -0.000242 -0.027941  0.150786  0.271063 -0.420587   \n",
              "cons.price.idx  0.001009  0.005303  0.127826  0.078920 -0.203197   \n",
              "cons.conf.idx   0.129075 -0.008126 -0.013657 -0.091374 -0.050929   \n",
              "euribor3m       0.010852 -0.032861  0.135169  0.296946 -0.454571   \n",
              "nr.employed    -0.017607 -0.044672  0.144129  0.372659 -0.501411   \n",
              "\n",
              "                emp.var.rate  cons.price.idx  cons.conf.idx  euribor3m  \\\n",
              "age                -0.000242        0.001009       0.129075   0.010852   \n",
              "duration           -0.027941        0.005303      -0.008126  -0.032861   \n",
              "campaign            0.150786        0.127826      -0.013657   0.135169   \n",
              "pdays               0.271063        0.078920      -0.091374   0.296946   \n",
              "previous           -0.420587       -0.203197      -0.050929  -0.454571   \n",
              "emp.var.rate        1.000000        0.775293       0.196257   0.972244   \n",
              "cons.price.idx      0.775293        1.000000       0.059170   0.688180   \n",
              "cons.conf.idx       0.196257        0.059170       1.000000   0.277864   \n",
              "euribor3m           0.972244        0.688180       0.277864   1.000000   \n",
              "nr.employed         0.906949        0.521945       0.100679   0.945146   \n",
              "\n",
              "                nr.employed  \n",
              "age               -0.017607  \n",
              "duration          -0.044672  \n",
              "campaign           0.144129  \n",
              "pdays              0.372659  \n",
              "previous          -0.501411  \n",
              "emp.var.rate       0.906949  \n",
              "cons.price.idx     0.521945  \n",
              "cons.conf.idx      0.100679  \n",
              "euribor3m          0.945146  \n",
              "nr.employed        1.000000  "
            ],
            "text/html": [
              "\n",
              "  <div id=\"df-9f50c316-e5dc-4895-80f9-3841341469bb\">\n",
              "    <div class=\"colab-df-container\">\n",
              "      <div>\n",
              "<style scoped>\n",
              "    .dataframe tbody tr th:only-of-type {\n",
              "        vertical-align: middle;\n",
              "    }\n",
              "\n",
              "    .dataframe tbody tr th {\n",
              "        vertical-align: top;\n",
              "    }\n",
              "\n",
              "    .dataframe thead th {\n",
              "        text-align: right;\n",
              "    }\n",
              "</style>\n",
              "<table border=\"1\" class=\"dataframe\">\n",
              "  <thead>\n",
              "    <tr style=\"text-align: right;\">\n",
              "      <th></th>\n",
              "      <th>age</th>\n",
              "      <th>duration</th>\n",
              "      <th>campaign</th>\n",
              "      <th>pdays</th>\n",
              "      <th>previous</th>\n",
              "      <th>emp.var.rate</th>\n",
              "      <th>cons.price.idx</th>\n",
              "      <th>cons.conf.idx</th>\n",
              "      <th>euribor3m</th>\n",
              "      <th>nr.employed</th>\n",
              "    </tr>\n",
              "  </thead>\n",
              "  <tbody>\n",
              "    <tr>\n",
              "      <th>age</th>\n",
              "      <td>1.000000</td>\n",
              "      <td>-0.000808</td>\n",
              "      <td>0.004622</td>\n",
              "      <td>-0.034381</td>\n",
              "      <td>0.024379</td>\n",
              "      <td>-0.000242</td>\n",
              "      <td>0.001009</td>\n",
              "      <td>0.129075</td>\n",
              "      <td>0.010852</td>\n",
              "      <td>-0.017607</td>\n",
              "    </tr>\n",
              "    <tr>\n",
              "      <th>duration</th>\n",
              "      <td>-0.000808</td>\n",
              "      <td>1.000000</td>\n",
              "      <td>-0.071765</td>\n",
              "      <td>-0.047556</td>\n",
              "      <td>0.020600</td>\n",
              "      <td>-0.027941</td>\n",
              "      <td>0.005303</td>\n",
              "      <td>-0.008126</td>\n",
              "      <td>-0.032861</td>\n",
              "      <td>-0.044672</td>\n",
              "    </tr>\n",
              "    <tr>\n",
              "      <th>campaign</th>\n",
              "      <td>0.004622</td>\n",
              "      <td>-0.071765</td>\n",
              "      <td>1.000000</td>\n",
              "      <td>0.052606</td>\n",
              "      <td>-0.079182</td>\n",
              "      <td>0.150786</td>\n",
              "      <td>0.127826</td>\n",
              "      <td>-0.013657</td>\n",
              "      <td>0.135169</td>\n",
              "      <td>0.144129</td>\n",
              "    </tr>\n",
              "    <tr>\n",
              "      <th>pdays</th>\n",
              "      <td>-0.034381</td>\n",
              "      <td>-0.047556</td>\n",
              "      <td>0.052606</td>\n",
              "      <td>1.000000</td>\n",
              "      <td>-0.587508</td>\n",
              "      <td>0.271063</td>\n",
              "      <td>0.078920</td>\n",
              "      <td>-0.091374</td>\n",
              "      <td>0.296946</td>\n",
              "      <td>0.372659</td>\n",
              "    </tr>\n",
              "    <tr>\n",
              "      <th>previous</th>\n",
              "      <td>0.024379</td>\n",
              "      <td>0.020600</td>\n",
              "      <td>-0.079182</td>\n",
              "      <td>-0.587508</td>\n",
              "      <td>1.000000</td>\n",
              "      <td>-0.420587</td>\n",
              "      <td>-0.203197</td>\n",
              "      <td>-0.050929</td>\n",
              "      <td>-0.454571</td>\n",
              "      <td>-0.501411</td>\n",
              "    </tr>\n",
              "    <tr>\n",
              "      <th>emp.var.rate</th>\n",
              "      <td>-0.000242</td>\n",
              "      <td>-0.027941</td>\n",
              "      <td>0.150786</td>\n",
              "      <td>0.271063</td>\n",
              "      <td>-0.420587</td>\n",
              "      <td>1.000000</td>\n",
              "      <td>0.775293</td>\n",
              "      <td>0.196257</td>\n",
              "      <td>0.972244</td>\n",
              "      <td>0.906949</td>\n",
              "    </tr>\n",
              "    <tr>\n",
              "      <th>cons.price.idx</th>\n",
              "      <td>0.001009</td>\n",
              "      <td>0.005303</td>\n",
              "      <td>0.127826</td>\n",
              "      <td>0.078920</td>\n",
              "      <td>-0.203197</td>\n",
              "      <td>0.775293</td>\n",
              "      <td>1.000000</td>\n",
              "      <td>0.059170</td>\n",
              "      <td>0.688180</td>\n",
              "      <td>0.521945</td>\n",
              "    </tr>\n",
              "    <tr>\n",
              "      <th>cons.conf.idx</th>\n",
              "      <td>0.129075</td>\n",
              "      <td>-0.008126</td>\n",
              "      <td>-0.013657</td>\n",
              "      <td>-0.091374</td>\n",
              "      <td>-0.050929</td>\n",
              "      <td>0.196257</td>\n",
              "      <td>0.059170</td>\n",
              "      <td>1.000000</td>\n",
              "      <td>0.277864</td>\n",
              "      <td>0.100679</td>\n",
              "    </tr>\n",
              "    <tr>\n",
              "      <th>euribor3m</th>\n",
              "      <td>0.010852</td>\n",
              "      <td>-0.032861</td>\n",
              "      <td>0.135169</td>\n",
              "      <td>0.296946</td>\n",
              "      <td>-0.454571</td>\n",
              "      <td>0.972244</td>\n",
              "      <td>0.688180</td>\n",
              "      <td>0.277864</td>\n",
              "      <td>1.000000</td>\n",
              "      <td>0.945146</td>\n",
              "    </tr>\n",
              "    <tr>\n",
              "      <th>nr.employed</th>\n",
              "      <td>-0.017607</td>\n",
              "      <td>-0.044672</td>\n",
              "      <td>0.144129</td>\n",
              "      <td>0.372659</td>\n",
              "      <td>-0.501411</td>\n",
              "      <td>0.906949</td>\n",
              "      <td>0.521945</td>\n",
              "      <td>0.100679</td>\n",
              "      <td>0.945146</td>\n",
              "      <td>1.000000</td>\n",
              "    </tr>\n",
              "  </tbody>\n",
              "</table>\n",
              "</div>\n",
              "      <button class=\"colab-df-convert\" onclick=\"convertToInteractive('df-9f50c316-e5dc-4895-80f9-3841341469bb')\"\n",
              "              title=\"Convert this dataframe to an interactive table.\"\n",
              "              style=\"display:none;\">\n",
              "        \n",
              "  <svg xmlns=\"http://www.w3.org/2000/svg\" height=\"24px\"viewBox=\"0 0 24 24\"\n",
              "       width=\"24px\">\n",
              "    <path d=\"M0 0h24v24H0V0z\" fill=\"none\"/>\n",
              "    <path d=\"M18.56 5.44l.94 2.06.94-2.06 2.06-.94-2.06-.94-.94-2.06-.94 2.06-2.06.94zm-11 1L8.5 8.5l.94-2.06 2.06-.94-2.06-.94L8.5 2.5l-.94 2.06-2.06.94zm10 10l.94 2.06.94-2.06 2.06-.94-2.06-.94-.94-2.06-.94 2.06-2.06.94z\"/><path d=\"M17.41 7.96l-1.37-1.37c-.4-.4-.92-.59-1.43-.59-.52 0-1.04.2-1.43.59L10.3 9.45l-7.72 7.72c-.78.78-.78 2.05 0 2.83L4 21.41c.39.39.9.59 1.41.59.51 0 1.02-.2 1.41-.59l7.78-7.78 2.81-2.81c.8-.78.8-2.07 0-2.86zM5.41 20L4 18.59l7.72-7.72 1.47 1.35L5.41 20z\"/>\n",
              "  </svg>\n",
              "      </button>\n",
              "      \n",
              "  <style>\n",
              "    .colab-df-container {\n",
              "      display:flex;\n",
              "      flex-wrap:wrap;\n",
              "      gap: 12px;\n",
              "    }\n",
              "\n",
              "    .colab-df-convert {\n",
              "      background-color: #E8F0FE;\n",
              "      border: none;\n",
              "      border-radius: 50%;\n",
              "      cursor: pointer;\n",
              "      display: none;\n",
              "      fill: #1967D2;\n",
              "      height: 32px;\n",
              "      padding: 0 0 0 0;\n",
              "      width: 32px;\n",
              "    }\n",
              "\n",
              "    .colab-df-convert:hover {\n",
              "      background-color: #E2EBFA;\n",
              "      box-shadow: 0px 1px 2px rgba(60, 64, 67, 0.3), 0px 1px 3px 1px rgba(60, 64, 67, 0.15);\n",
              "      fill: #174EA6;\n",
              "    }\n",
              "\n",
              "    [theme=dark] .colab-df-convert {\n",
              "      background-color: #3B4455;\n",
              "      fill: #D2E3FC;\n",
              "    }\n",
              "\n",
              "    [theme=dark] .colab-df-convert:hover {\n",
              "      background-color: #434B5C;\n",
              "      box-shadow: 0px 1px 3px 1px rgba(0, 0, 0, 0.15);\n",
              "      filter: drop-shadow(0px 1px 2px rgba(0, 0, 0, 0.3));\n",
              "      fill: #FFFFFF;\n",
              "    }\n",
              "  </style>\n",
              "\n",
              "      <script>\n",
              "        const buttonEl =\n",
              "          document.querySelector('#df-9f50c316-e5dc-4895-80f9-3841341469bb button.colab-df-convert');\n",
              "        buttonEl.style.display =\n",
              "          google.colab.kernel.accessAllowed ? 'block' : 'none';\n",
              "\n",
              "        async function convertToInteractive(key) {\n",
              "          const element = document.querySelector('#df-9f50c316-e5dc-4895-80f9-3841341469bb');\n",
              "          const dataTable =\n",
              "            await google.colab.kernel.invokeFunction('convertToInteractive',\n",
              "                                                     [key], {});\n",
              "          if (!dataTable) return;\n",
              "\n",
              "          const docLinkHtml = 'Like what you see? Visit the ' +\n",
              "            '<a target=\"_blank\" href=https://colab.research.google.com/notebooks/data_table.ipynb>data table notebook</a>'\n",
              "            + ' to learn more about interactive tables.';\n",
              "          element.innerHTML = '';\n",
              "          dataTable['output_type'] = 'display_data';\n",
              "          await google.colab.output.renderOutput(dataTable, element);\n",
              "          const docLink = document.createElement('div');\n",
              "          docLink.innerHTML = docLinkHtml;\n",
              "          element.appendChild(docLink);\n",
              "        }\n",
              "      </script>\n",
              "    </div>\n",
              "  </div>\n",
              "  "
            ]
          },
          "metadata": {},
          "execution_count": 40
        }
      ]
    },
    {
      "cell_type": "code",
      "source": [
        "#Pairplot\n",
        "plt.figure(dpi = 120,figsize= (5,4))\n",
        "mask = np.triu(np.ones_like(Bank.corr(),dtype = bool))\n",
        "sns.heatmap(Bank.corr(),mask = mask, fmt = \".2f\",annot=True,lw=1,cmap = 'plasma')\n",
        "plt.yticks(rotation = 0)\n",
        "plt.xticks(rotation = 90)\n",
        "plt.title('Correlation Heatmap')\n",
        "plt.show()"
      ],
      "metadata": {
        "id": "S5XjMy6I5HI-",
        "colab": {
          "base_uri": "https://localhost:8080/",
          "height": 555
        },
        "outputId": "9d11d053-5f3c-4fc4-adde-abc350ccff5c"
      },
      "execution_count": null,
      "outputs": [
        {
          "output_type": "display_data",
          "data": {
            "text/plain": [
              "<Figure size 600x480 with 2 Axes>"
            ],
            "image/png": "[encoded data removed]"
          },
          "metadata": {
            "needs_background": "light"
          }
        }
      ]
    },
    {
      "cell_type": "markdown",
      "source": [
        "Vemos que las categorías con mayor correlación son emp.var.rate con euribor3m, nr.employed y cons.price.idx"
      ],
      "metadata": {
        "id": "XDT0TEfVn9za"
      }
    },
    {
      "cell_type": "code",
      "source": [
        "fig, ax = plt.subplots()\n",
        "fig.set_size_inches(20, 5)\n",
        "ax.set_xlabel('job', fontsize=15)\n",
        "ax.set_ylabel('age', fontsize=15)\n",
        "ax.set_title(\"Age distribution by job\", fontsize=20)\n",
        "sns.barplot(x='job',y='age', hue='y',data=Bank)\n",
        "\n",
        "plt.show()"
      ],
      "metadata": {
        "id": "HN8bbM1WnIUn",
        "colab": {
          "base_uri": "https://localhost:8080/",
          "height": 360
        },
        "outputId": "349b1f72-bcb2-464c-a0cc-0e1e5fa1f471"
      },
      "execution_count": null,
      "outputs": [
        {
          "output_type": "display_data",
          "data": {
            "text/plain": [
              "<Figure size 1440x360 with 1 Axes>"
            ],
            "image/png": "[encoded data removed]"
          },
          "metadata": {
            "needs_background": "light"
          }
        }
      ]
    },
    {
      "cell_type": "markdown",
      "source": [
        "La distribución de la edad con respecto al tipo de trabajo muestra que las personas de mayor edad estan retiradas, miientras que las otras categorias se encuentran realmente parejas: servicios, adminitrativos, trabajadores de cuello azul, técnicos. La contratación del producto es pareja en todos los puestos laborales. El mayor porcentaje de \"si\" esta en el grupo de retirados y en el de empleados domésticos."
      ],
      "metadata": {
        "id": "qMfJ_XJFlC8N"
      }
    },
    {
      "cell_type": "code",
      "source": [
        "graf1 = sns.barplot(x='day_of_week',y='duration', hue='y',data=Bank)\n",
        "graf1.set_title(\"Duration and day of week by result\")\n",
        "plt.show()"
      ],
      "metadata": {
        "id": "o3rt926DqD5C",
        "colab": {
          "base_uri": "https://localhost:8080/",
          "height": 296
        },
        "outputId": "f6fbd15b-8898-410b-a740-c711aeac3889"
      },
      "execution_count": null,
      "outputs": [
        {
          "output_type": "display_data",
          "data": {
            "text/plain": [
              "<Figure size 432x288 with 1 Axes>"
            ],
            "image/png": "[encoded data removed]"
          },
          "metadata": {
            "needs_background": "light"
          }
        }
      ]
    },
    {
      "cell_type": "markdown",
      "source": [
        "Sin importar el dia de la semana, la mayoría de \"Y\" es abrumadora y tiene mayor\n",
        "duración"
      ],
      "metadata": {
        "id": "40ZUXTQ7kbc0"
      }
    },
    {
      "cell_type": "code",
      "source": [
        "graf3 = sns.violinplot(x='y',y='duration', hue='y',data=Bank)\n",
        "graf3.set_title(\"Duration and result\")\n",
        "plt.show()"
      ],
      "metadata": {
        "id": "xCmRjB8oqdHh",
        "colab": {
          "base_uri": "https://localhost:8080/",
          "height": 295
        },
        "outputId": "d18135f4-f9ca-4293-c7a9-1e5053ba81c4"
      },
      "execution_count": null,
      "outputs": [
        {
          "output_type": "display_data",
          "data": {
            "text/plain": [
              "<Figure size 432x288 with 1 Axes>"
            ],
            "image/png": "[encoded data removed]"
          },
          "metadata": {
            "needs_background": "light"
          }
        }
      ]
    },
    {
      "cell_type": "markdown",
      "source": [
        "En el violinplot se detalla que en las suscripciones de depósitos a plazo se realizan en las llamadas más largas."
      ],
      "metadata": {
        "id": "gtkmxk7hkuI8"
      }
    },
    {
      "cell_type": "code",
      "source": [
        "plt.figure(figsize=(20,5))\n",
        "graf4 = sns.countplot(y='month',data=Bank)\n",
        "graf4.set_title('Count of registers by month', fontsize=19)\n",
        "plt.show()"
      ],
      "metadata": {
        "id": "PipMUq-xtE3l",
        "colab": {
          "base_uri": "https://localhost:8080/",
          "height": 355
        },
        "outputId": "38355c8a-556c-4c6e-8eae-739907b74479"
      },
      "execution_count": null,
      "outputs": [
        {
          "output_type": "display_data",
          "data": {
            "text/plain": [
              "<Figure size 1440x360 with 1 Axes>"
            ],
            "image/png": "[encoded data removed]"
          },
          "metadata": {
            "needs_background": "light"
          }
        }
      ]
    },
    {
      "cell_type": "code",
      "source": [
        "fig, ax = plt.subplots()\n",
        "fig.set_size_inches(25, 10)\n",
        "graf5 = sns.countplot(y='month',hue='y',data=Bank)\n",
        "graf5.set_title(\"Duration and day of week by result\")\n",
        "plt.show()"
      ],
      "metadata": {
        "colab": {
          "base_uri": "https://localhost:8080/",
          "height": 550
        },
        "id": "K6UXUy8ILavn",
        "outputId": "3b36afa1-3f71-4be9-9305-f893c5a6c4e9"
      },
      "execution_count": null,
      "outputs": [
        {
          "output_type": "display_data",
          "data": {
            "text/plain": [
              "<Figure size 1800x720 with 1 Axes>"
            ],
            "image/png": "[encoded data removed]"
          },
          "metadata": {
            "needs_background": "light"
          }
        }
      ]
    },
    {
      "cell_type": "markdown",
      "source": [
        "Se observa que la mayoría de los registros se desarrolla en el mes de mayo"
      ],
      "metadata": {
        "id": "lqxjGxuPkT-G"
      }
    },
    {
      "cell_type": "markdown",
      "source": [
        "## 7. MODELOS"
      ],
      "metadata": {
        "id": "UJNHizusBCVJ"
      }
    },
    {
      "cell_type": "markdown",
      "source": [
        "Dado que nuestro problema es de classificacion veremos tres algoritmos para elegir al mejor. Para ello no solo tomaremos una metrica para su comparacion, sino que buscaremos obtener varias metricas para elegir el mejor modelo. \n",
        "\n",
        "Modelos elegidos:\n",
        "\n",
        "- 7.1 SVM\n",
        "- 7.2 Decission Tree\n",
        "- 7.3 Random Forest\n",
        "\n",
        "Metricas elegidas:\n",
        "\n",
        "- **Accuracy (exactitud)**\n",
        "\n",
        "El accuracy es una medida verdaderamente intuitiva, puesto que se limita a calcular la relación entre las predicciones correctas de un modelo, versus el total de predicciones que llevó a cabo.\n",
        "\n",
        "¿Cuándo resulta útil solo observar el accuracy? Principalmente cuando el costo de un falso positivo es el mismo que el de un falso negativo. Esta medida puede ser engañosa si tiene un número desigual de observaciones en cada clase o si tiene más de dos clases.\n",
        "\n",
        "Hay que tener cuidado de que la métrica accuracy (exactitud) no funciona bien cuando las clases están desbalanceadas.\n",
        "\n",
        "Para calcular la precisión usaremos la siguiente fórmula:\n",
        "\n",
        "\\begin{equation}\n",
        "Accuracy = \\frac{TP+TN}{TP+TN+FP+FN}\n",
        "\\end{equation}\n",
        "\n",
        "\n",
        "- **Matriz de confusion**\n",
        "\n",
        "Veremos tambien la matriz de confusion, que nos permitira ver los tipos de errores que esta cometiendo nuestro modelo. \n",
        "\n",
        "A modo de ejemplo podemos ver en la primer imagen que un hipotético caso de marketing. En este ejemplo, contactamos a 100 clientes y 80 de ellos nos dicen que no están interesados y 20 de ellos que sí. Nuestro modelo (en el ejemplo) no es muy bueno, aunque dependiendo de qué métrica usemos podría parecer que es mejor de lo que es.\n",
        "\n",
        "Valores de la clasificación binaria:\n",
        "\n",
        "0: no está interesado\n",
        "1: sí está interesado\n",
        "\n",
        "\n",
        "![pic](https://www.iartificial.net/wp-content/uploads/2019/11/Matriz-Confusion-Ejemplo.png)\n",
        "\n",
        "* - TP: True Positive\n",
        "* - TN: True Negative\n",
        "* - FP: False Positive\n",
        "* - FN: False Negative\n",
        "\n",
        "\n",
        "\n",
        "Con los valores obtenidos de esta matriz tambien podemos sacar otras metricas como..\n",
        "\n",
        "- **Precision**\n",
        "\n",
        "Con la métrica de precisión podemos medir la calidad del modelo de machine learning en tareas de clasificación. En el ejemplo, se refiere a que la precisión es la respuesta a la pregunta ¿qué porcentaje de los clientes que contactemos estarán interesados?\n",
        "\n",
        "Para calcular la precisión usaremos la siguiente fórmula:\n",
        "\n",
        "\\begin{equation}\n",
        "precision = \\frac{TP}{TP+FP}\n",
        "\\end{equation}\n",
        "\n",
        "\n",
        "- **F1 score**\n",
        "\n",
        "El valor F1 se utiliza para combinar las medidas de precision y recall en un sólo valor. Esto es práctico porque hace más fácil el poder comparar el rendimiento combinado de la precisión y la exhaustividad entre varias soluciones.\n",
        "\n",
        "F1 se calcula haciendo la media armónica entre la precisión y la exhaustividad:\n",
        "\n",
        "\\begin{equation}\n",
        "F1 = 2* \\frac{Precission * Recall}{Precission + Recall}\n",
        "\\end{equation}\n",
        "\n",
        "siendo:\n",
        "\n",
        "\\begin{equation}\n",
        "Recall = \\frac{TP}{TP+FN}\n",
        "\\end{equation}"
      ],
      "metadata": {
        "id": "W9LU3S2xo7U3"
      }
    },
    {
      "cell_type": "markdown",
      "source": [
        "Generamos dummies y construimos las variables input del modelo X e Y. Al ser la primera vez que realizamos los modelos a asignarles el numero 1 a las variables en el caso de que luego tendramos que hacer una modificacion de las mismas..."
      ],
      "metadata": {
        "id": "MLWEI9ojDZSl"
      }
    },
    {
      "cell_type": "code",
      "source": [
        "bank3 = pd.get_dummies(data=Bank, drop_first=True)\n",
        "bank3.shape"
      ],
      "metadata": {
        "id": "rmT3QdWfV7Xn",
        "colab": {
          "base_uri": "https://localhost:8080/"
        },
        "outputId": "6b7f015b-335b-4e75-8c09-d13c8fa0c79e"
      },
      "execution_count": null,
      "outputs": [
        {
          "output_type": "execute_result",
          "data": {
            "text/plain": [
              "(41176, 54)"
            ]
          },
          "metadata": {},
          "execution_count": 47
        }
      ]
    },
    {
      "cell_type": "code",
      "source": [
        "X1 = bank3.drop(['y_yes'], axis = 1)\n",
        "y1 = bank3['y_yes'] "
      ],
      "metadata": {
        "id": "E1M_ZHTiGd5i"
      },
      "execution_count": null,
      "outputs": []
    },
    {
      "cell_type": "markdown",
      "source": [
        "### 7.1 SVM"
      ],
      "metadata": {
        "id": "rhv51uIQO8SW"
      }
    },
    {
      "cell_type": "markdown",
      "source": [
        "Nuestro primer algoritmo, el SVM o Support Vector Machine, se utiliza principalmente para resolver problemas de clasificación. Los vectores de soporte no son más que las coordenadas de cada elemento de datos. Support Vector Machine es una frontera que diferencia dos clases usando hiperplanos."
      ],
      "metadata": {
        "id": "6n5B13FqtOCU"
      }
    },
    {
      "cell_type": "code",
      "source": [
        "from sklearn.model_selection import train_test_split\n",
        "\n",
        "X_train, X_test, y_train, y_test = train_test_split(X1.values,\n",
        "                                                    y1, test_size=0.3,random_state=42) # 70% training and 30% test\n",
        "\n",
        "#'age','month_apr', 'month_aug', 'month_dec',\t'month_jul',\t'month_jun',\t'month_mar',\t'month_may',\t'month_nov',\t'month_oct',\t'month_sep','duration','cons.price.idx','campaign'"
      ],
      "metadata": {
        "id": "0hJIxszw_NQh"
      },
      "execution_count": null,
      "outputs": []
    },
    {
      "cell_type": "code",
      "source": [
        "X_test"
      ],
      "metadata": {
        "id": "b3PQdB8-AoaS",
        "colab": {
          "base_uri": "https://localhost:8080/"
        },
        "outputId": "356c425b-642d-4c65-81a7-4c817b6a93da"
      },
      "execution_count": null,
      "outputs": [
        {
          "output_type": "execute_result",
          "data": {
            "text/plain": [
              "array([[5.90e+01, 1.46e+03, 1.00e+00, ..., 0.00e+00, 1.00e+00, 0.00e+00],\n",
              "       [3.40e+01, 2.48e+02, 1.00e+00, ..., 0.00e+00, 0.00e+00, 0.00e+00],\n",
              "       [3.20e+01, 2.75e+02, 2.00e+00, ..., 1.00e+00, 1.00e+00, 0.00e+00],\n",
              "       ...,\n",
              "       [3.20e+01, 2.37e+02, 2.00e+00, ..., 0.00e+00, 1.00e+00, 0.00e+00],\n",
              "       [3.40e+01, 1.38e+02, 2.00e+00, ..., 1.00e+00, 1.00e+00, 0.00e+00],\n",
              "       [2.40e+01, 8.00e+00, 6.00e+00, ..., 0.00e+00, 1.00e+00, 0.00e+00]])"
            ]
          },
          "metadata": {},
          "execution_count": 50
        }
      ]
    },
    {
      "cell_type": "code",
      "source": [
        "from sklearn import svm\n",
        "#Svm Classifier\n",
        "clf = svm.SVC(kernel='rbf',C=0.1) # Kernel Lineal (Existen diversos tipos de kernel linear, rbf, poly,sigmoid )\n",
        "#Entrenar el modelo\n",
        "clf.fit(X_train, y_train)\n",
        "#Obtener las predicciones\n",
        "y_pred = clf.predict(X_test)\n",
        "y_pred"
      ],
      "metadata": {
        "id": "KdWVCDbpAu5g",
        "colab": {
          "base_uri": "https://localhost:8080/"
        },
        "outputId": "b2ada007-4865-49de-b70f-014eb0208d32"
      },
      "execution_count": null,
      "outputs": [
        {
          "output_type": "execute_result",
          "data": {
            "text/plain": [
              "array([0, 0, 0, ..., 0, 0, 0], dtype=uint8)"
            ]
          },
          "metadata": {},
          "execution_count": 51
        }
      ]
    },
    {
      "cell_type": "code",
      "source": [
        "from sklearn import metrics\n",
        "#Accuracy\n",
        "ASVM = print(\"Accuracy:\",metrics.accuracy_score(y_test, y_pred))\n",
        "ASVM"
      ],
      "metadata": {
        "id": "uX_DfusgA7BG",
        "colab": {
          "base_uri": "https://localhost:8080/"
        },
        "outputId": "c2dd7c01-7f98-41ad-a935-c1aedb0ebd7d"
      },
      "execution_count": null,
      "outputs": [
        {
          "output_type": "stream",
          "name": "stdout",
          "text": [
            "Accuracy: 0.8960576378207723\n"
          ]
        }
      ]
    },
    {
      "cell_type": "code",
      "source": [
        "#Matriz de Confusión\n",
        "from sklearn.metrics import confusion_matrix\n",
        "from sklearn.metrics import plot_confusion_matrix\n",
        "print(confusion_matrix(y_test, y_pred))\n",
        "\n",
        "#Ploteamos la Matriz\n",
        "plot_confusion_matrix(clf, X_test, y_test)\n",
        "#plt.show()"
      ],
      "metadata": {
        "colab": {
          "base_uri": "https://localhost:8080/",
          "height": 390
        },
        "id": "6tiaeyVRJnvG",
        "outputId": "185ac717-6ad0-405a-c306-642eaa250c5a"
      },
      "execution_count": null,
      "outputs": [
        {
          "output_type": "stream",
          "name": "stdout",
          "text": [
            "[[10765   164]\n",
            " [ 1120   304]]\n"
          ]
        },
        {
          "output_type": "stream",
          "name": "stderr",
          "text": [
            "/usr/local/lib/python3.7/dist-packages/sklearn/utils/deprecation.py:87: FutureWarning: Function plot_confusion_matrix is deprecated; Function `plot_confusion_matrix` is deprecated in 1.0 and will be removed in 1.2. Use one of the class methods: ConfusionMatrixDisplay.from_predictions or ConfusionMatrixDisplay.from_estimator.\n",
            "  warnings.warn(msg, category=FutureWarning)\n"
          ]
        },
        {
          "output_type": "execute_result",
          "data": {
            "text/plain": [
              "<sklearn.metrics._plot.confusion_matrix.ConfusionMatrixDisplay at 0x7efe2bfb36d0>"
            ]
          },
          "metadata": {},
          "execution_count": 53
        },
        {
          "output_type": "display_data",
          "data": {
            "text/plain": [
              "<Figure size 432x288 with 2 Axes>"
            ],
            "image/png": "[encoded data removed]"
          },
          "metadata": {
            "needs_background": "light"
          }
        }
      ]
    },
    {
      "cell_type": "code",
      "source": [
        "from sklearn.metrics import precision_score\n",
        "\n",
        "# Precision!\n",
        "print(f\"Precision Score of the classifier is: {precision_score(y_test, y_test_pred)}\")"
      ],
      "metadata": {
        "colab": {
          "base_uri": "https://localhost:8080/",
          "height": 207
        },
        "id": "xgzuI_Ix5ejx",
        "outputId": "2549c7da-c381-400a-e216-a0549c993b63"
      },
      "execution_count": null,
      "outputs": [
        {
          "output_type": "error",
          "ename": "NameError",
          "evalue": "ignored",
          "traceback": [
            "\u001b[0;31m---------------------------------------------------------------------------\u001b[0m",
            "\u001b[0;31mNameError\u001b[0m                                 Traceback (most recent call last)",
            "\u001b[0;32m<ipython-input-54-15fb6a0c3631>\u001b[0m in \u001b[0;36m<module>\u001b[0;34m()\u001b[0m\n\u001b[1;32m      2\u001b[0m \u001b[0;34m\u001b[0m\u001b[0m\n\u001b[1;32m      3\u001b[0m \u001b[0;31m# Precision!\u001b[0m\u001b[0;34m\u001b[0m\u001b[0;34m\u001b[0m\u001b[0;34m\u001b[0m\u001b[0m\n\u001b[0;32m----> 4\u001b[0;31m \u001b[0mprint\u001b[0m\u001b[0;34m(\u001b[0m\u001b[0;34mf\"Precision Score of the classifier is: {precision_score(y_test, y_test_pred)}\"\u001b[0m\u001b[0;34m)\u001b[0m\u001b[0;34m\u001b[0m\u001b[0;34m\u001b[0m\u001b[0m\n\u001b[0m",
            "\u001b[0;31mNameError\u001b[0m: name 'y_test_pred' is not defined"
          ]
        }
      ]
    },
    {
      "cell_type": "code",
      "source": [
        "from sklearn.metrics import f1_score\n",
        "\n",
        "# Calculo del F1 score\n",
        "print(f\"F1 Score of the classifier is: {f1_score(y_test, y_test_pred)}\")"
      ],
      "metadata": {
        "id": "Fgd1PgFV5emC",
        "colab": {
          "base_uri": "https://localhost:8080/",
          "height": 207
        },
        "outputId": "da8b18d5-de20-4f4a-d978-85410fb58f3b"
      },
      "execution_count": null,
      "outputs": [
        {
          "output_type": "error",
          "ename": "NameError",
          "evalue": "ignored",
          "traceback": [
            "\u001b[0;31m---------------------------------------------------------------------------\u001b[0m",
            "\u001b[0;31mNameError\u001b[0m                                 Traceback (most recent call last)",
            "\u001b[0;32m<ipython-input-55-348d6cbbe935>\u001b[0m in \u001b[0;36m<module>\u001b[0;34m()\u001b[0m\n\u001b[1;32m      2\u001b[0m \u001b[0;34m\u001b[0m\u001b[0m\n\u001b[1;32m      3\u001b[0m \u001b[0;31m# Calculo del F1 score\u001b[0m\u001b[0;34m\u001b[0m\u001b[0;34m\u001b[0m\u001b[0;34m\u001b[0m\u001b[0m\n\u001b[0;32m----> 4\u001b[0;31m \u001b[0mprint\u001b[0m\u001b[0;34m(\u001b[0m\u001b[0;34mf\"F1 Score of the classifier is: {f1_score(y_test, y_test_pred)}\"\u001b[0m\u001b[0;34m)\u001b[0m\u001b[0;34m\u001b[0m\u001b[0;34m\u001b[0m\u001b[0m\n\u001b[0m",
            "\u001b[0;31mNameError\u001b[0m: name 'y_test_pred' is not defined"
          ]
        }
      ]
    },
    {
      "cell_type": "markdown",
      "metadata": {
        "id": "LMhFt2TYp-vH"
      },
      "source": [
        "### 7.2 Decission Tree"
      ]
    },
    {
      "cell_type": "markdown",
      "source": [
        "Nuestro segundo modelo, es el Arbol de decision. Este modelo tiene un enfoque de arriba hacia abajo con la estructura del diagrama de flujo que maneja datos de alta dimensión. \n",
        "\n",
        "Los resultados se predicen en función de la variable de entrada dada. Árbol de decisión compuesto por los siguientes elementos: una raíz, muchos nodos, ramas, hojas. El nodo raíz realiza la partición en función del valor de atributo de la clase, el nodo interno toma un atributo para una clasificación adicional, las ramas toman una regla de decisión para dividir los nodos en nodos hoja, por último, los nodos hoja nos dan el resultado final. \n",
        "\n",
        "La complejidad temporal del árbol de decisión depende del número de registros, atributos de los datos de entrenamiento. Si el árbol de decisión es demasiado largo, es difícil obtener los resultados deseados."
      ],
      "metadata": {
        "id": "n-0jQdDnwH7P"
      }
    },
    {
      "cell_type": "markdown",
      "source": [
        "Importamos el modelo, especificamos cuanto % queremos que tenga de test y lo creamos"
      ],
      "metadata": {
        "id": "57Ghx-9KIVhg"
      }
    },
    {
      "cell_type": "code",
      "source": [
        "from sklearn.model_selection import train_test_split \n",
        "\n",
        "#Me quedo con 30% para test y 70% para train\n",
        "X_train, X_test, y_train, y_test = train_test_split(X1, y1, test_size=0.30, random_state=42) "
      ],
      "metadata": {
        "id": "oVjQ5-0fIMVH"
      },
      "execution_count": null,
      "outputs": []
    },
    {
      "cell_type": "code",
      "source": [
        "from sklearn.tree import DecisionTreeClassifier \n",
        "tree = DecisionTreeClassifier(max_depth=2, random_state = 42) "
      ],
      "metadata": {
        "id": "seO_MBlOIMsA"
      },
      "execution_count": null,
      "outputs": []
    },
    {
      "cell_type": "code",
      "source": [
        "tree.fit( X_train, y_train)"
      ],
      "metadata": {
        "id": "_K6tlQIdIMxy",
        "colab": {
          "base_uri": "https://localhost:8080/"
        },
        "outputId": "0d3200e6-9aeb-4b3c-98f7-bc8ca58cfcec"
      },
      "execution_count": null,
      "outputs": [
        {
          "output_type": "execute_result",
          "data": {
            "text/plain": [
              "DecisionTreeClassifier(max_depth=2, random_state=42)"
            ]
          },
          "metadata": {},
          "execution_count": 58
        }
      ]
    },
    {
      "cell_type": "code",
      "source": [
        "y_train_pred = tree.predict(X_train) \n",
        "y_test_pred = tree.predict(X_test) "
      ],
      "metadata": {
        "id": "NIINO5-0IM0_"
      },
      "execution_count": null,
      "outputs": []
    },
    {
      "cell_type": "markdown",
      "source": [
        "Calculamos el accuracy en train y test"
      ],
      "metadata": {
        "id": "jFqpZX7bIctW"
      }
    },
    {
      "cell_type": "code",
      "source": [
        "from sklearn.metrics import accuracy_score\n",
        "\n",
        "train_accuracy = accuracy_score(y_train, y_train_pred)\n",
        "\n",
        "test_accuracy = accuracy_score(y_test, y_test_pred)\n",
        "\n",
        "print('% de aciertos sobre el set de entrenamiento:', train_accuracy)\n",
        "print('% de aciertos sobre el set de evaluación:',test_accuracy)"
      ],
      "metadata": {
        "id": "31Ezg8qHIM39",
        "colab": {
          "base_uri": "https://localhost:8080/"
        },
        "outputId": "7be50a43-96d6-4387-f970-e8e331a4a0b7"
      },
      "execution_count": null,
      "outputs": [
        {
          "output_type": "stream",
          "name": "stdout",
          "text": [
            "% de aciertos sobre el set de entrenamiento: 0.9034798598341602\n",
            "% de aciertos sobre el set de evaluación: 0.9014004695215737\n"
          ]
        }
      ]
    },
    {
      "cell_type": "markdown",
      "source": [
        "A simple vista da \"demasiado bien\" el modelo"
      ],
      "metadata": {
        "id": "PA_OP_JMIf2o"
      }
    },
    {
      "cell_type": "markdown",
      "source": [
        "Veamos la importancia de cada feature.."
      ],
      "metadata": {
        "id": "P-RfnfxCIh_k"
      }
    },
    {
      "cell_type": "code",
      "source": [
        "plt.figure(figsize=(65,8))\n",
        "importances = tree.feature_importances_\n",
        "columns = X1.columns\n",
        "sns.barplot(columns, importances)\n",
        "plt.title('Importancia de cada Feature')\n",
        "plt.show()"
      ],
      "metadata": {
        "id": "semNX-hEIjBR",
        "colab": {
          "base_uri": "https://localhost:8080/",
          "height": 556
        },
        "outputId": "16954aa6-e995-4ec4-f023-9adc45c69cba"
      },
      "execution_count": null,
      "outputs": [
        {
          "output_type": "stream",
          "name": "stderr",
          "text": [
            "/usr/local/lib/python3.7/dist-packages/seaborn/_decorators.py:43: FutureWarning: Pass the following variables as keyword args: x, y. From version 0.12, the only valid positional argument will be `data`, and passing other arguments without an explicit keyword will result in an error or misinterpretation.\n",
            "  FutureWarning\n"
          ]
        },
        {
          "output_type": "display_data",
          "data": {
            "text/plain": [
              "<Figure size 4680x576 with 1 Axes>"
            ],
            "image/png": "[encoded data removed]"
          },
          "metadata": {
            "needs_background": "light"
          }
        }
      ]
    },
    {
      "cell_type": "markdown",
      "source": [
        "Vemos que los features \"duracion\" y \"nr.employee\" son los que mas influyen en el Arbol de Decision"
      ],
      "metadata": {
        "id": "1TQMraw-Imyc"
      }
    },
    {
      "cell_type": "markdown",
      "source": [
        "- **Duración**: duración del último contacto, en segundos (numérico). Nota importante: este atributo afecta en gran medida el objetivo de salida (por ejemplo, si la duración = 0, entonces y = 'no'). Sin embargo, la duración no se conoce antes de que se realice una llamada. Además, después del final de la llamada y es evidente que se sabe. Por lo tanto, esta entrada solo debe incluirse con fines de referencia y debe descartarse si la intención es tener un modelo predictivo realista."
      ],
      "metadata": {
        "id": "JG5cDMT_Ipx5"
      }
    },
    {
      "cell_type": "markdown",
      "source": [
        "- **Nr.ocupados**: número de empleados - indicador trimestral (numérico)"
      ],
      "metadata": {
        "id": "ayx3zPpeIr03"
      }
    },
    {
      "cell_type": "markdown",
      "source": [
        "Como vemos en la descripcion de la feature duracion este no seria un modelo realista, por lo que debemos buscar otro"
      ],
      "metadata": {
        "id": "PL2irSolItcY"
      }
    },
    {
      "cell_type": "code",
      "source": [
        "#Matriz de Confusión\n",
        "from sklearn.metrics import confusion_matrix\n",
        "from sklearn.metrics import plot_confusion_matrix\n",
        "\n",
        "#Matriz de Confusión\n",
        "print(confusion_matrix(y_test, y_test_pred))\n",
        "\n",
        "#Ploteamos la Matriz\n",
        "plot_confusion_matrix(tree, X_test, y_test)\n",
        "#plt.show()"
      ],
      "metadata": {
        "id": "-h_ZzdCDCDtk",
        "colab": {
          "base_uri": "https://localhost:8080/",
          "height": 390
        },
        "outputId": "2e189815-785f-4d74-d10a-cd4e2149539c"
      },
      "execution_count": null,
      "outputs": [
        {
          "output_type": "stream",
          "name": "stdout",
          "text": [
            "[[10534   395]\n",
            " [  823   601]]\n"
          ]
        },
        {
          "output_type": "stream",
          "name": "stderr",
          "text": [
            "/usr/local/lib/python3.7/dist-packages/sklearn/utils/deprecation.py:87: FutureWarning: Function plot_confusion_matrix is deprecated; Function `plot_confusion_matrix` is deprecated in 1.0 and will be removed in 1.2. Use one of the class methods: ConfusionMatrixDisplay.from_predictions or ConfusionMatrixDisplay.from_estimator.\n",
            "  warnings.warn(msg, category=FutureWarning)\n"
          ]
        },
        {
          "output_type": "execute_result",
          "data": {
            "text/plain": [
              "<sklearn.metrics._plot.confusion_matrix.ConfusionMatrixDisplay at 0x7efe2b4c7a10>"
            ]
          },
          "metadata": {},
          "execution_count": 62
        },
        {
          "output_type": "display_data",
          "data": {
            "text/plain": [
              "<Figure size 432x288 with 2 Axes>"
            ],
            "image/png": "[encoded data removed]"
          },
          "metadata": {
            "needs_background": "light"
          }
        }
      ]
    },
    {
      "cell_type": "code",
      "source": [
        "from sklearn.metrics import precision_score\n",
        "\n",
        "# Precision!\n",
        "print(f\"Precision Score of the classifier is: {precision_score(y_test, y_test_pred)}\")"
      ],
      "metadata": {
        "id": "LcFTUdqnCpSM",
        "colab": {
          "base_uri": "https://localhost:8080/"
        },
        "outputId": "fe827dd6-766d-4864-adaa-c0cae3bd3203"
      },
      "execution_count": null,
      "outputs": [
        {
          "output_type": "stream",
          "name": "stdout",
          "text": [
            "Precision Score of the classifier is: 0.6034136546184738\n"
          ]
        }
      ]
    },
    {
      "cell_type": "code",
      "source": [
        "from sklearn.metrics import f1_score\n",
        "\n",
        "# Calculo del F1 score\n",
        "print(f\"F1 Score of the classifier is: {f1_score(y_test, y_test_pred)}\")"
      ],
      "metadata": {
        "id": "qHhNvyS1CtOB",
        "colab": {
          "base_uri": "https://localhost:8080/"
        },
        "outputId": "f9eab4da-c13f-4037-b4d2-1e4d5e47019a"
      },
      "execution_count": null,
      "outputs": [
        {
          "output_type": "stream",
          "name": "stdout",
          "text": [
            "F1 Score of the classifier is: 0.49669421487603305\n"
          ]
        }
      ]
    },
    {
      "cell_type": "markdown",
      "source": [
        "### 7.3 RandomForest"
      ],
      "metadata": {
        "id": "v6gV89mCkOTM"
      }
    },
    {
      "cell_type": "markdown",
      "source": [
        "Nuestro ultimo algoritmo es el Random Forest. Este es un conjunto de árboles de decisión combinados. Lo que lo diferencia del arbol de decision es que distintos árboles ven distintas porciones de los datos. Ningún árbol ve todos los datos de entrenamiento. Esto hace que cada árbol se entrene con distintas muestras de datos para un mismo problema. De esta forma, al combinar sus resultados, unos errores se compensan con otros y tenemos una predicción que generaliza mejor."
      ],
      "metadata": {
        "id": "zFVg7aZDwqMk"
      }
    },
    {
      "cell_type": "code",
      "source": [
        "#Carga de las librerías\n",
        "from sklearn.model_selection import train_test_split\n",
        "from sklearn.ensemble import RandomForestClassifier\n",
        "from sklearn.tree import DecisionTreeClassifier"
      ],
      "metadata": {
        "id": "wGujZxEpEaZH"
      },
      "execution_count": null,
      "outputs": []
    },
    {
      "cell_type": "code",
      "source": [
        "#Separamos en train y test!\n",
        "(X_train, X_test, y_train, y_test) = train_test_split(X1, y1, stratify=y1, test_size=0.30, random_state=11)"
      ],
      "metadata": {
        "id": "3TVAVAEnj528"
      },
      "execution_count": null,
      "outputs": []
    },
    {
      "cell_type": "code",
      "source": [
        "#Creamos un arbol de decisión sencillo y lo fiteamos\n",
        "tree = DecisionTreeClassifier(random_state=11)\n",
        "tree.fit(X_train, y_train)"
      ],
      "metadata": {
        "id": "stI2vyETj55k",
        "colab": {
          "base_uri": "https://localhost:8080/"
        },
        "outputId": "b1aeb46c-66a3-4126-951b-59760a9a4b4c"
      },
      "execution_count": null,
      "outputs": [
        {
          "output_type": "execute_result",
          "data": {
            "text/plain": [
              "DecisionTreeClassifier(random_state=11)"
            ]
          },
          "metadata": {},
          "execution_count": 67
        }
      ]
    },
    {
      "cell_type": "code",
      "source": [
        "y_test_pred = tree.predict(X_test) #Prediccion en Test"
      ],
      "metadata": {
        "id": "iY77lzqDj58D"
      },
      "execution_count": null,
      "outputs": []
    },
    {
      "cell_type": "code",
      "source": [
        "from sklearn.metrics import accuracy_score\n",
        "\n",
        "#Calculo el accuracy en Test\n",
        "test_accuracy1 = accuracy_score(y_test, y_test_pred)\n",
        "\n",
        "print('% de aciertos sobre el set de evaluación:',test_accuracy1)"
      ],
      "metadata": {
        "id": "W_7c_aHhj5-h",
        "colab": {
          "base_uri": "https://localhost:8080/"
        },
        "outputId": "df00e221-31cf-4dd5-d9fc-24d8908b15e9"
      },
      "execution_count": null,
      "outputs": [
        {
          "output_type": "stream",
          "name": "stdout",
          "text": [
            "% de aciertos sobre el set de evaluación: 0.8929814619930382\n"
          ]
        }
      ]
    },
    {
      "cell_type": "code",
      "source": [
        "#Creamos un random forest!\n",
        "model = RandomForestClassifier(random_state=11, n_estimators=200,\n",
        "                               class_weight=\"balanced\", max_features=\"log2\")\n",
        "model.fit(X_train, y_train)"
      ],
      "metadata": {
        "id": "RzmxAEpekFFG",
        "colab": {
          "base_uri": "https://localhost:8080/"
        },
        "outputId": "347fd007-f3ce-4f93-c21c-9ce188ab7438"
      },
      "execution_count": null,
      "outputs": [
        {
          "output_type": "execute_result",
          "data": {
            "text/plain": [
              "RandomForestClassifier(class_weight='balanced', max_features='log2',\n",
              "                       n_estimators=200, random_state=11)"
            ]
          },
          "metadata": {},
          "execution_count": 70
        }
      ]
    },
    {
      "cell_type": "code",
      "source": [
        "y_test_pred = model.predict(X_test) #Prediccion en Test"
      ],
      "metadata": {
        "id": "GBpx8NRUkFJO"
      },
      "execution_count": null,
      "outputs": []
    },
    {
      "cell_type": "code",
      "source": [
        "#Calculo el accuracy en Test\n",
        "test_accuracy2 = accuracy_score(y_test, y_test_pred)\n",
        "\n",
        "print('% de aciertos sobre el set de evaluación:',test_accuracy2)"
      ],
      "metadata": {
        "id": "SG4AS9AEkFMC",
        "colab": {
          "base_uri": "https://localhost:8080/"
        },
        "outputId": "45ccde36-51ad-4d98-9d50-026ba8e89cfc"
      },
      "execution_count": null,
      "outputs": [
        {
          "output_type": "stream",
          "name": "stdout",
          "text": [
            "% de aciertos sobre el set de evaluación: 0.9110337569821096\n"
          ]
        }
      ]
    },
    {
      "cell_type": "code",
      "source": [
        "#Matriz de Confusión\n",
        "print(confusion_matrix(y_test, y_test_pred))\n",
        "\n",
        "#Ploteamos la Matriz\n",
        "plot_confusion_matrix(tree, X_test, y_test)\n",
        "#plt.show()"
      ],
      "metadata": {
        "id": "IzLLCYkvJhey",
        "colab": {
          "base_uri": "https://localhost:8080/",
          "height": 390
        },
        "outputId": "7ec0dff5-d08a-412b-ab72-0a1362f1e199"
      },
      "execution_count": null,
      "outputs": [
        {
          "output_type": "stream",
          "name": "stdout",
          "text": [
            "[[10724   237]\n",
            " [  862   530]]\n"
          ]
        },
        {
          "output_type": "stream",
          "name": "stderr",
          "text": [
            "/usr/local/lib/python3.7/dist-packages/sklearn/utils/deprecation.py:87: FutureWarning: Function plot_confusion_matrix is deprecated; Function `plot_confusion_matrix` is deprecated in 1.0 and will be removed in 1.2. Use one of the class methods: ConfusionMatrixDisplay.from_predictions or ConfusionMatrixDisplay.from_estimator.\n",
            "  warnings.warn(msg, category=FutureWarning)\n"
          ]
        },
        {
          "output_type": "execute_result",
          "data": {
            "text/plain": [
              "<sklearn.metrics._plot.confusion_matrix.ConfusionMatrixDisplay at 0x7efe2e82fd90>"
            ]
          },
          "metadata": {},
          "execution_count": 73
        },
        {
          "output_type": "display_data",
          "data": {
            "text/plain": [
              "<Figure size 432x288 with 2 Axes>"
            ],
            "image/png": "[encoded data removed]"
          },
          "metadata": {
            "needs_background": "light"
          }
        }
      ]
    },
    {
      "cell_type": "code",
      "source": [
        "from sklearn.metrics import precision_score\n",
        "\n",
        "# Precision!\n",
        "print(f\"Precision Score of the classifier is: {precision_score(y_test, y_test_pred)}\")"
      ],
      "metadata": {
        "id": "W0aQMFeR6Z0D",
        "colab": {
          "base_uri": "https://localhost:8080/"
        },
        "outputId": "f7e8ac00-fcd6-45da-ad51-f1668d782770"
      },
      "execution_count": null,
      "outputs": [
        {
          "output_type": "stream",
          "name": "stdout",
          "text": [
            "Precision Score of the classifier is: 0.6910039113428944\n"
          ]
        }
      ]
    },
    {
      "cell_type": "code",
      "source": [
        "from sklearn.metrics import f1_score\n",
        "\n",
        "# Calculo del F1 score\n",
        "print(f\"F1 Score of the classifier is: {f1_score(y_test, y_test_pred)}\")"
      ],
      "metadata": {
        "id": "ZPUNyUiP6Z2R",
        "colab": {
          "base_uri": "https://localhost:8080/"
        },
        "outputId": "d17fcc3f-b0b9-4dbd-9371-f5ad92343b1b"
      },
      "execution_count": null,
      "outputs": [
        {
          "output_type": "stream",
          "name": "stdout",
          "text": [
            "F1 Score of the classifier is: 0.4909680407596109\n"
          ]
        }
      ]
    },
    {
      "cell_type": "markdown",
      "source": [
        "### 7.4 Metricas de modelos"
      ],
      "metadata": {
        "id": "w43KZpPl6I7B"
      }
    },
    {
      "cell_type": "markdown",
      "source": [
        "Vamos a analizar las metricas que obtuvimos de los tres modelos..."
      ],
      "metadata": {
        "id": "A5uV--53zGdv"
      }
    },
    {
      "cell_type": "markdown",
      "source": [
        "1. **SVM**\n",
        "\n"
      ],
      "metadata": {
        "id": "_ykq4kbJzRY-"
      }
    },
    {
      "cell_type": "markdown",
      "source": [
        "- Accuracy: 0.8960576378207723\n",
        "\n",
        "- Precision Score of the classifier is: 0.1290743155149935\n",
        "\n",
        "- F1 Score of the classifier is: 0.09036969420356003\n",
        "\n",
        "- Matriz de Confusion:"
      ],
      "metadata": {
        "id": "B51v3S2r5tH0"
      }
    },
    {
      "cell_type": "markdown",
      "source": [
        "  ****              | NO interesado | SI interesado |                                        |   |   |   |   \n",
        "------------------------|----------|----------------------|----------|--------------------------------------|---|---|\n",
        "**NO interesado** | 10765  | 164        |   |   |   |  \n",
        "**SI interesado**     | 1120   | 304      |   |   |   |\n"
      ],
      "metadata": {
        "id": "pMHZp7oJzjSF"
      }
    },
    {
      "cell_type": "markdown",
      "source": [
        "2. **Decission Tree**"
      ],
      "metadata": {
        "id": "m1-i97x-zRN6"
      }
    },
    {
      "cell_type": "markdown",
      "source": [
        "- Accuracy: 0.9034798598341602\n",
        "\n",
        "- Precision Score of the classifier is: 0.6034136546184738\n",
        "\n",
        "- F1 Score of the classifier is: 0.49669421487603305\n",
        "\n",
        "- Matriz de Confusion:"
      ],
      "metadata": {
        "id": "hbotYsHj6lnQ"
      }
    },
    {
      "cell_type": "markdown",
      "source": [
        "  ****              | NO interesado | SI interesado |                                        |   |   |   |   \n",
        "------------------------|----------|----------------------|----------|--------------------------------------|---|---|\n",
        "**NO interesado** | 10534  | 395        |   |   |   |  \n",
        "**SI interesado**     | 823   | 601      |   |   |   |\n"
      ],
      "metadata": {
        "id": "rZTET7vpIM4z"
      }
    },
    {
      "cell_type": "markdown",
      "source": [
        "3. **Random Forest**"
      ],
      "metadata": {
        "id": "Cl8u3UY9zQZ2"
      }
    },
    {
      "cell_type": "markdown",
      "source": [
        "- Accuracy: 0.9110337569821096\n",
        "\n",
        "- Precision Score of the classifier is: 0.6910039113428944\n",
        "\n",
        "- F1 Score of the classifier is: 0.4909680407596109\n",
        "\n",
        "- Matriz de Confusion:"
      ],
      "metadata": {
        "id": "16lPr44X9DWH"
      }
    },
    {
      "cell_type": "markdown",
      "source": [
        "  ****              | NO interesado | SI interesado |                                        |   |   |   |   \n",
        "------------------------|----------|----------------------|----------|--------------------------------------|---|---|\n",
        "**NO interesado** | 10724  | 237        |   |   |   |  \n",
        "**SI interesado**     | 862   | 530      |   |   |   |\n"
      ],
      "metadata": {
        "id": "9qpTNo18IVS4"
      }
    },
    {
      "cell_type": "markdown",
      "source": [
        "### 7.5 Analisis de modelos"
      ],
      "metadata": {
        "id": "oK3mbxBe_Mat"
      }
    },
    {
      "cell_type": "markdown",
      "source": [
        "Tenemos 4 metricas por cada modelo elegido. Vamos a ver que nos dice cada una.."
      ],
      "metadata": {
        "id": "JsL8GjgF_Tt7"
      }
    },
    {
      "cell_type": "code",
      "source": [
        "print('Nuestro modelo SVM tiene una EXACTITUD de: ' + str(0.8960576378207723 * 100)+ ' % ')\n",
        "print('Nuestro modelo SVM tiene una PRECISION de: ' + str(0.1290743155149935 * 100)+ ' % ')\n",
        "print('Nuestro modelo SVM tiene una F1 de: ' + str(0.09036969420356003 * 100)+ ' % ')\n",
        "print('Nuestro modelo SVM tiene: ' + str(1120 + 164)+ ' Errores tipo I y II ')"
      ],
      "metadata": {
        "id": "ZbKZzaxw_lJW",
        "colab": {
          "base_uri": "https://localhost:8080/"
        },
        "outputId": "1962056f-8819-4a8d-bdf8-f67b5b9379e6"
      },
      "execution_count": null,
      "outputs": [
        {
          "output_type": "stream",
          "name": "stdout",
          "text": [
            "Nuestro modelo SVM tiene una EXACTITUD de: 89.60576378207723 % \n",
            "Nuestro modelo SVM tiene una PRECISION de: 12.907431551499348 % \n",
            "Nuestro modelo SVM tiene una F1 de: 9.036969420356003 % \n",
            "Nuestro modelo SVM tiene: 1284 Errores tipo I y II \n"
          ]
        }
      ]
    },
    {
      "cell_type": "code",
      "source": [
        "print('Nuestro modelo Decission Tree tiene una EXACTITUD de: ' + str(0.9034798598341602 * 100)+ ' % ')\n",
        "print('Nuestro modelo Decission Tree tiene una PRECISION de: ' + str(0.6034136546184738 * 100)+ ' % ')\n",
        "print('Nuestro modelo Decission Tree tiene una F1 de: ' + str(0.49669421487603305 * 100)+ ' % ')\n",
        "print('Nuestro modelo Decission Tree tiene: ' + str(823 + 395)+ ' Errores tipo I y II ')"
      ],
      "metadata": {
        "id": "XjWygrr3EEYR",
        "colab": {
          "base_uri": "https://localhost:8080/"
        },
        "outputId": "15c504d7-5b84-4018-a408-442cd3b90c04"
      },
      "execution_count": null,
      "outputs": [
        {
          "output_type": "stream",
          "name": "stdout",
          "text": [
            "Nuestro modelo Decission Tree tiene una EXACTITUD de: 90.34798598341602 % \n",
            "Nuestro modelo Decission Tree tiene una PRECISION de: 60.34136546184739 % \n",
            "Nuestro modelo Decission Tree tiene una F1 de: 49.6694214876033 % \n",
            "Nuestro modelo Decission Tree tiene: 1218 Errores tipo I y II \n"
          ]
        }
      ]
    },
    {
      "cell_type": "code",
      "source": [
        "print('Nuestro modelo Random Forest tiene una EXACTITUD de: ' + str(0.9110337569821096 * 100)+ ' % ')\n",
        "print('Nuestro modelo Random Forest tiene una PRECISION de: ' + str(0.6910039113428944 * 100)+ ' % ')\n",
        "print('Nuestro modelo Random Forest tiene una F1 de: ' + str(0.4909680407596109 * 100)+ ' % ')\n",
        "print('Nuestro modelo Decission Tree tiene: ' + str(862 + 237)+ ' Errores tipo I y II ')"
      ],
      "metadata": {
        "id": "xgMHDZGQEE4Y",
        "colab": {
          "base_uri": "https://localhost:8080/"
        },
        "outputId": "ff62544f-3c10-4fd3-94df-43cdae1d1fe2"
      },
      "execution_count": null,
      "outputs": [
        {
          "output_type": "stream",
          "name": "stdout",
          "text": [
            "Nuestro modelo Random Forest tiene una EXACTITUD de: 91.10337569821097 % \n",
            "Nuestro modelo Random Forest tiene una PRECISION de: 69.10039113428944 % \n",
            "Nuestro modelo Random Forest tiene una F1 de: 49.096804075961096 % \n",
            "Nuestro modelo Decission Tree tiene: 1099 Errores tipo I y II \n"
          ]
        }
      ]
    },
    {
      "cell_type": "markdown",
      "source": [
        "Vemos que por descarte el modelo SVM da las peores metricas de Exactitud, Precision y F1. Tambien los Errores tipo I y II son mayores que en los otros modelos.\n",
        "\n",
        "Ahora comparando los dos modelos restantes tenemos al Decision Tree y Random Forest. \n",
        "\n",
        "Vemos que el Random Forest tiene mejores metricas en cuanto a Accuracy, Precision y menor cantidad de errores, pero el Decission Tree tiene un mejor F1.\n",
        "\n",
        "Si nos remontamos a las formulas de las metricas mencionadas anteriormente, vemos que el F1 incluye el Recal. Esta métrica de exhaustividad nos va a informar sobre la cantidad que el modelo de machine learning es capaz de identificar. En el ejemplo, se refiere a que la exhaustividad (recall) es la respuesta a la pregunta ¿qué porcentaje de los clientes están interesados somos capaces de identificar?\n",
        "\n",
        "Por otro lado vemos que la variacion re F1 del Decission Tree con respecto al Random Forest no es mucha. "
      ],
      "metadata": {
        "id": "kLkmZ6EYFos-"
      }
    },
    {
      "cell_type": "code",
      "source": [
        "(0.49669421487603305 - 0.4909680407596109)*100"
      ],
      "metadata": {
        "id": "s8kG25VwzF5M",
        "colab": {
          "base_uri": "https://localhost:8080/"
        },
        "outputId": "a3aea83b-805a-4eec-c1b1-aad00b71405c"
      },
      "execution_count": null,
      "outputs": [
        {
          "output_type": "execute_result",
          "data": {
            "text/plain": [
              "0.5726174116422122"
            ]
          },
          "metadata": {},
          "execution_count": 79
        }
      ]
    },
    {
      "cell_type": "markdown",
      "source": [
        "Casi infima si tonamos en cuenta que el las demas metricas del Random Forest son mejores. Por lo que se elige al modelo **Random Forest**."
      ],
      "metadata": {
        "id": "HfK4X8jTK5pl"
      }
    },
    {
      "cell_type": "markdown",
      "metadata": {
        "id": "R8d32lulp-vP"
      },
      "source": [
        "---"
      ]
    },
    {
      "cell_type": "markdown",
      "source": [
        "## 8. MEJORA DE MODELOS"
      ],
      "metadata": {
        "id": "AuSAeGfIBCeF"
      }
    },
    {
      "cell_type": "markdown",
      "source": [
        "Aplicamos XGBOOST"
      ],
      "metadata": {
        "id": "b10OXzlttKu0"
      }
    },
    {
      "cell_type": "code",
      "source": [
        "import xgboost as xgb\n",
        "from sklearn.linear_model import LinearRegression as LR\n",
        "from sklearn.model_selection import train_test_split"
      ],
      "metadata": {
        "id": "_yHwMfCstTmB"
      },
      "execution_count": null,
      "outputs": []
    },
    {
      "cell_type": "code",
      "source": [
        "bank3.shape"
      ],
      "metadata": {
        "id": "lRGgKeZfnXN0",
        "colab": {
          "base_uri": "https://localhost:8080/"
        },
        "outputId": "1e860b55-8805-415d-d790-5971cf022883"
      },
      "execution_count": null,
      "outputs": [
        {
          "output_type": "execute_result",
          "data": {
            "text/plain": [
              "(41176, 54)"
            ]
          },
          "metadata": {},
          "execution_count": 81
        }
      ]
    },
    {
      "cell_type": "markdown",
      "source": [
        "Separamos en X e Y"
      ],
      "metadata": {
        "id": "FlPtHdrAxvF6"
      }
    },
    {
      "cell_type": "code",
      "source": [
        "X1 = bank3.drop(['y_yes'], axis = 1)\n",
        "y1 = bank3['y_yes'] "
      ],
      "metadata": {
        "id": "Dzx6rzNjnXQT"
      },
      "execution_count": null,
      "outputs": []
    },
    {
      "cell_type": "code",
      "source": [
        "bank3['y_yes'].unique()"
      ],
      "metadata": {
        "id": "JP2vOEPpnXTO",
        "colab": {
          "base_uri": "https://localhost:8080/"
        },
        "outputId": "716fe5ce-70fc-4a8d-b7b8-bbccfee10fb1"
      },
      "execution_count": null,
      "outputs": [
        {
          "output_type": "execute_result",
          "data": {
            "text/plain": [
              "array([0, 1], dtype=uint8)"
            ]
          },
          "metadata": {},
          "execution_count": 83
        }
      ]
    },
    {
      "cell_type": "code",
      "source": [
        "X_train, X_test, y_train, y_test = train_test_split(X1, y1, test_size = 0.2, random_state=123)"
      ],
      "metadata": {
        "id": "ILAc1ch7_Pfj"
      },
      "execution_count": null,
      "outputs": []
    },
    {
      "cell_type": "code",
      "source": [
        "clf_xgb = xgb.XGBClassifier(objective='binary:logistic', n_estimators=15,seed=42,max_depth=5, learning_rate=0.01)"
      ],
      "metadata": {
        "id": "Ff3eOnRhx2LN"
      },
      "execution_count": null,
      "outputs": []
    },
    {
      "cell_type": "code",
      "source": [
        "clf_xgb.fit(X_train,y_train) "
      ],
      "metadata": {
        "colab": {
          "base_uri": "https://localhost:8080/"
        },
        "id": "fMfHxMh7x_bw",
        "outputId": "b1e555d9-c93f-4cdf-b70b-10d0d3189eaa"
      },
      "execution_count": null,
      "outputs": [
        {
          "output_type": "execute_result",
          "data": {
            "text/plain": [
              "XGBClassifier(learning_rate=0.01, max_depth=5, n_estimators=15, seed=42)"
            ]
          },
          "metadata": {},
          "execution_count": 87
        }
      ]
    },
    {
      "cell_type": "code",
      "source": [
        "y_test_pred = clf_xgb.predict(X_test)"
      ],
      "metadata": {
        "id": "-x4X45PyyL_1"
      },
      "execution_count": null,
      "outputs": []
    },
    {
      "cell_type": "code",
      "source": [
        "y_test_pred"
      ],
      "metadata": {
        "colab": {
          "base_uri": "https://localhost:8080/"
        },
        "id": "q6WYaJAnyMKp",
        "outputId": "2968e3a4-4547-47f0-a47c-8916406de416"
      },
      "execution_count": null,
      "outputs": [
        {
          "output_type": "execute_result",
          "data": {
            "text/plain": [
              "array([0, 0, 0, ..., 0, 0, 0], dtype=uint8)"
            ]
          },
          "metadata": {},
          "execution_count": 89
        }
      ]
    },
    {
      "cell_type": "code",
      "source": [
        "from sklearn.metrics import accuracy_score\n",
        "##train_accuracy = accuracy_score(y_train, y_train_pred)\n",
        "test_accuracy = accuracy_score(y_test, y_test_pred)\n",
        "print('% de aciertos sobre el set de evaluación:',test_accuracy)"
      ],
      "metadata": {
        "colab": {
          "base_uri": "https://localhost:8080/"
        },
        "id": "Ni_OhiXeyjid",
        "outputId": "595692e1-78e2-4002-a348-2ce0b0657f8b"
      },
      "execution_count": null,
      "outputs": [
        {
          "output_type": "stream",
          "name": "stdout",
          "text": [
            "% de aciertos sobre el set de evaluación: 0.9103933948518699\n"
          ]
        }
      ]
    },
    {
      "cell_type": "markdown",
      "source": [
        "Ahora probemos el LIGHTGBM\n"
      ],
      "metadata": {
        "id": "zOUDxEuuy8Bp"
      }
    },
    {
      "cell_type": "markdown",
      "source": [
        "Vemos la frecuencia de los que contratan el producto"
      ],
      "metadata": {
        "id": "sCNUDmNgzHIa"
      }
    },
    {
      "cell_type": "code",
      "source": [
        "bank3['y_yes'].value_counts()"
      ],
      "metadata": {
        "colab": {
          "base_uri": "https://localhost:8080/"
        },
        "id": "Qsi4uSTmzFOQ",
        "outputId": "8ab58f96-22df-47ca-ffb1-938ba4d3c2f7"
      },
      "execution_count": null,
      "outputs": [
        {
          "output_type": "execute_result",
          "data": {
            "text/plain": [
              "0    36537\n",
              "1     4639\n",
              "Name: y_yes, dtype: int64"
            ]
          },
          "metadata": {},
          "execution_count": 97
        }
      ]
    },
    {
      "cell_type": "code",
      "source": [
        "X1 = bank3.drop(['y_yes'], axis = 1)\n",
        "y1 = bank3['y_yes'] "
      ],
      "metadata": {
        "id": "oo_NP0aNzS6n"
      },
      "execution_count": null,
      "outputs": []
    },
    {
      "cell_type": "code",
      "source": [
        "X1"
      ],
      "metadata": {
        "colab": {
          "base_uri": "https://localhost:8080/",
          "height": 488
        },
        "id": "a6MqdqrWzZH7",
        "outputId": "fb3b5f92-20b9-4001-a6d3-63f1ab62c24f"
      },
      "execution_count": null,
      "outputs": [
        {
          "output_type": "execute_result",
          "data": {
            "text/plain": [
              "       age  duration  campaign  pdays  previous  emp.var.rate  cons.price.idx  \\\n",
              "0       56       261         1    999         0           1.1          93.994   \n",
              "1       57       149         1    999         0           1.1          93.994   \n",
              "2       37       226         1    999         0           1.1          93.994   \n",
              "3       40       151         1    999         0           1.1          93.994   \n",
              "4       56       307         1    999         0           1.1          93.994   \n",
              "...    ...       ...       ...    ...       ...           ...             ...   \n",
              "41183   73       334         1    999         0          -1.1          94.767   \n",
              "41184   46       383         1    999         0          -1.1          94.767   \n",
              "41185   56       189         2    999         0          -1.1          94.767   \n",
              "41186   44       442         1    999         0          -1.1          94.767   \n",
              "41187   74       239         3    999         1          -1.1          94.767   \n",
              "\n",
              "       cons.conf.idx  euribor3m  nr.employed  ...  month_May  month_Nov  \\\n",
              "0              -36.4      4.857       5191.0  ...          1          0   \n",
              "1              -36.4      4.857       5191.0  ...          1          0   \n",
              "2              -36.4      4.857       5191.0  ...          1          0   \n",
              "3              -36.4      4.857       5191.0  ...          1          0   \n",
              "4              -36.4      4.857       5191.0  ...          1          0   \n",
              "...              ...        ...          ...  ...        ...        ...   \n",
              "41183          -50.8      1.028       4963.6  ...          0          1   \n",
              "41184          -50.8      1.028       4963.6  ...          0          1   \n",
              "41185          -50.8      1.028       4963.6  ...          0          1   \n",
              "41186          -50.8      1.028       4963.6  ...          0          1   \n",
              "41187          -50.8      1.028       4963.6  ...          0          1   \n",
              "\n",
              "       month_Oct  month_Sep  day_of_week_mon  day_of_week_thu  \\\n",
              "0              0          0                1                0   \n",
              "1              0          0                1                0   \n",
              "2              0          0                1                0   \n",
              "3              0          0                1                0   \n",
              "4              0          0                1                0   \n",
              "...          ...        ...              ...              ...   \n",
              "41183          0          0                0                0   \n",
              "41184          0          0                0                0   \n",
              "41185          0          0                0                0   \n",
              "41186          0          0                0                0   \n",
              "41187          0          0                0                0   \n",
              "\n",
              "       day_of_week_tue  day_of_week_wed  poutcome_nonexistent  \\\n",
              "0                    0                0                     1   \n",
              "1                    0                0                     1   \n",
              "2                    0                0                     1   \n",
              "3                    0                0                     1   \n",
              "4                    0                0                     1   \n",
              "...                ...              ...                   ...   \n",
              "41183                0                0                     1   \n",
              "41184                0                0                     1   \n",
              "41185                0                0                     1   \n",
              "41186                0                0                     1   \n",
              "41187                0                0                     0   \n",
              "\n",
              "       poutcome_success  \n",
              "0                     0  \n",
              "1                     0  \n",
              "2                     0  \n",
              "3                     0  \n",
              "4                     0  \n",
              "...                 ...  \n",
              "41183                 0  \n",
              "41184                 0  \n",
              "41185                 0  \n",
              "41186                 0  \n",
              "41187                 0  \n",
              "\n",
              "[41176 rows x 53 columns]"
            ],
            "text/html": [
              "\n",
              "  <div id=\"df-2026eff3-d083-47bc-94af-a82300bb752a\">\n",
              "    <div class=\"colab-df-container\">\n",
              "      <div>\n",
              "<style scoped>\n",
              "    .dataframe tbody tr th:only-of-type {\n",
              "        vertical-align: middle;\n",
              "    }\n",
              "\n",
              "    .dataframe tbody tr th {\n",
              "        vertical-align: top;\n",
              "    }\n",
              "\n",
              "    .dataframe thead th {\n",
              "        text-align: right;\n",
              "    }\n",
              "</style>\n",
              "<table border=\"1\" class=\"dataframe\">\n",
              "  <thead>\n",
              "    <tr style=\"text-align: right;\">\n",
              "      <th></th>\n",
              "      <th>age</th>\n",
              "      <th>duration</th>\n",
              "      <th>campaign</th>\n",
              "      <th>pdays</th>\n",
              "      <th>previous</th>\n",
              "      <th>emp.var.rate</th>\n",
              "      <th>cons.price.idx</th>\n",
              "      <th>cons.conf.idx</th>\n",
              "      <th>euribor3m</th>\n",
              "      <th>nr.employed</th>\n",
              "      <th>...</th>\n",
              "      <th>month_May</th>\n",
              "      <th>month_Nov</th>\n",
              "      <th>month_Oct</th>\n",
              "      <th>month_Sep</th>\n",
              "      <th>day_of_week_mon</th>\n",
              "      <th>day_of_week_thu</th>\n",
              "      <th>day_of_week_tue</th>\n",
              "      <th>day_of_week_wed</th>\n",
              "      <th>poutcome_nonexistent</th>\n",
              "      <th>poutcome_success</th>\n",
              "    </tr>\n",
              "  </thead>\n",
              "  <tbody>\n",
              "    <tr>\n",
              "      <th>0</th>\n",
              "      <td>56</td>\n",
              "      <td>261</td>\n",
              "      <td>1</td>\n",
              "      <td>999</td>\n",
              "      <td>0</td>\n",
              "      <td>1.1</td>\n",
              "      <td>93.994</td>\n",
              "      <td>-36.4</td>\n",
              "      <td>4.857</td>\n",
              "      <td>5191.0</td>\n",
              "      <td>...</td>\n",
              "      <td>1</td>\n",
              "      <td>0</td>\n",
              "      <td>0</td>\n",
              "      <td>0</td>\n",
              "      <td>1</td>\n",
              "      <td>0</td>\n",
              "      <td>0</td>\n",
              "      <td>0</td>\n",
              "      <td>1</td>\n",
              "      <td>0</td>\n",
              "    </tr>\n",
              "    <tr>\n",
              "      <th>1</th>\n",
              "      <td>57</td>\n",
              "      <td>149</td>\n",
              "      <td>1</td>\n",
              "      <td>999</td>\n",
              "      <td>0</td>\n",
              "      <td>1.1</td>\n",
              "      <td>93.994</td>\n",
              "      <td>-36.4</td>\n",
              "      <td>4.857</td>\n",
              "      <td>5191.0</td>\n",
              "      <td>...</td>\n",
              "      <td>1</td>\n",
              "      <td>0</td>\n",
              "      <td>0</td>\n",
              "      <td>0</td>\n",
              "      <td>1</td>\n",
              "      <td>0</td>\n",
              "      <td>0</td>\n",
              "      <td>0</td>\n",
              "      <td>1</td>\n",
              "      <td>0</td>\n",
              "    </tr>\n",
              "    <tr>\n",
              "      <th>2</th>\n",
              "      <td>37</td>\n",
              "      <td>226</td>\n",
              "      <td>1</td>\n",
              "      <td>999</td>\n",
              "      <td>0</td>\n",
              "      <td>1.1</td>\n",
              "      <td>93.994</td>\n",
              "      <td>-36.4</td>\n",
              "      <td>4.857</td>\n",
              "      <td>5191.0</td>\n",
              "      <td>...</td>\n",
              "      <td>1</td>\n",
              "      <td>0</td>\n",
              "      <td>0</td>\n",
              "      <td>0</td>\n",
              "      <td>1</td>\n",
              "      <td>0</td>\n",
              "      <td>0</td>\n",
              "      <td>0</td>\n",
              "      <td>1</td>\n",
              "      <td>0</td>\n",
              "    </tr>\n",
              "    <tr>\n",
              "      <th>3</th>\n",
              "      <td>40</td>\n",
              "      <td>151</td>\n",
              "      <td>1</td>\n",
              "      <td>999</td>\n",
              "      <td>0</td>\n",
              "      <td>1.1</td>\n",
              "      <td>93.994</td>\n",
              "      <td>-36.4</td>\n",
              "      <td>4.857</td>\n",
              "      <td>5191.0</td>\n",
              "      <td>...</td>\n",
              "      <td>1</td>\n",
              "      <td>0</td>\n",
              "      <td>0</td>\n",
              "      <td>0</td>\n",
              "      <td>1</td>\n",
              "      <td>0</td>\n",
              "      <td>0</td>\n",
              "      <td>0</td>\n",
              "      <td>1</td>\n",
              "      <td>0</td>\n",
              "    </tr>\n",
              "    <tr>\n",
              "      <th>4</th>\n",
              "      <td>56</td>\n",
              "      <td>307</td>\n",
              "      <td>1</td>\n",
              "      <td>999</td>\n",
              "      <td>0</td>\n",
              "      <td>1.1</td>\n",
              "      <td>93.994</td>\n",
              "      <td>-36.4</td>\n",
              "      <td>4.857</td>\n",
              "      <td>5191.0</td>\n",
              "      <td>...</td>\n",
              "      <td>1</td>\n",
              "      <td>0</td>\n",
              "      <td>0</td>\n",
              "      <td>0</td>\n",
              "      <td>1</td>\n",
              "      <td>0</td>\n",
              "      <td>0</td>\n",
              "      <td>0</td>\n",
              "      <td>1</td>\n",
              "      <td>0</td>\n",
              "    </tr>\n",
              "    <tr>\n",
              "      <th>...</th>\n",
              "      <td>...</td>\n",
              "      <td>...</td>\n",
              "      <td>...</td>\n",
              "      <td>...</td>\n",
              "      <td>...</td>\n",
              "      <td>...</td>\n",
              "      <td>...</td>\n",
              "      <td>...</td>\n",
              "      <td>...</td>\n",
              "      <td>...</td>\n",
              "      <td>...</td>\n",
              "      <td>...</td>\n",
              "      <td>...</td>\n",
              "      <td>...</td>\n",
              "      <td>...</td>\n",
              "      <td>...</td>\n",
              "      <td>...</td>\n",
              "      <td>...</td>\n",
              "      <td>...</td>\n",
              "      <td>...</td>\n",
              "      <td>...</td>\n",
              "    </tr>\n",
              "    <tr>\n",
              "      <th>41183</th>\n",
              "      <td>73</td>\n",
              "      <td>334</td>\n",
              "      <td>1</td>\n",
              "      <td>999</td>\n",
              "      <td>0</td>\n",
              "      <td>-1.1</td>\n",
              "      <td>94.767</td>\n",
              "      <td>-50.8</td>\n",
              "      <td>1.028</td>\n",
              "      <td>4963.6</td>\n",
              "      <td>...</td>\n",
              "      <td>0</td>\n",
              "      <td>1</td>\n",
              "      <td>0</td>\n",
              "      <td>0</td>\n",
              "      <td>0</td>\n",
              "      <td>0</td>\n",
              "      <td>0</td>\n",
              "      <td>0</td>\n",
              "      <td>1</td>\n",
              "      <td>0</td>\n",
              "    </tr>\n",
              "    <tr>\n",
              "      <th>41184</th>\n",
              "      <td>46</td>\n",
              "      <td>383</td>\n",
              "      <td>1</td>\n",
              "      <td>999</td>\n",
              "      <td>0</td>\n",
              "      <td>-1.1</td>\n",
              "      <td>94.767</td>\n",
              "      <td>-50.8</td>\n",
              "      <td>1.028</td>\n",
              "      <td>4963.6</td>\n",
              "      <td>...</td>\n",
              "      <td>0</td>\n",
              "      <td>1</td>\n",
              "      <td>0</td>\n",
              "      <td>0</td>\n",
              "      <td>0</td>\n",
              "      <td>0</td>\n",
              "      <td>0</td>\n",
              "      <td>0</td>\n",
              "      <td>1</td>\n",
              "      <td>0</td>\n",
              "    </tr>\n",
              "    <tr>\n",
              "      <th>41185</th>\n",
              "      <td>56</td>\n",
              "      <td>189</td>\n",
              "      <td>2</td>\n",
              "      <td>999</td>\n",
              "      <td>0</td>\n",
              "      <td>-1.1</td>\n",
              "      <td>94.767</td>\n",
              "      <td>-50.8</td>\n",
              "      <td>1.028</td>\n",
              "      <td>4963.6</td>\n",
              "      <td>...</td>\n",
              "      <td>0</td>\n",
              "      <td>1</td>\n",
              "      <td>0</td>\n",
              "      <td>0</td>\n",
              "      <td>0</td>\n",
              "      <td>0</td>\n",
              "      <td>0</td>\n",
              "      <td>0</td>\n",
              "      <td>1</td>\n",
              "      <td>0</td>\n",
              "    </tr>\n",
              "    <tr>\n",
              "      <th>41186</th>\n",
              "      <td>44</td>\n",
              "      <td>442</td>\n",
              "      <td>1</td>\n",
              "      <td>999</td>\n",
              "      <td>0</td>\n",
              "      <td>-1.1</td>\n",
              "      <td>94.767</td>\n",
              "      <td>-50.8</td>\n",
              "      <td>1.028</td>\n",
              "      <td>4963.6</td>\n",
              "      <td>...</td>\n",
              "      <td>0</td>\n",
              "      <td>1</td>\n",
              "      <td>0</td>\n",
              "      <td>0</td>\n",
              "      <td>0</td>\n",
              "      <td>0</td>\n",
              "      <td>0</td>\n",
              "      <td>0</td>\n",
              "      <td>1</td>\n",
              "      <td>0</td>\n",
              "    </tr>\n",
              "    <tr>\n",
              "      <th>41187</th>\n",
              "      <td>74</td>\n",
              "      <td>239</td>\n",
              "      <td>3</td>\n",
              "      <td>999</td>\n",
              "      <td>1</td>\n",
              "      <td>-1.1</td>\n",
              "      <td>94.767</td>\n",
              "      <td>-50.8</td>\n",
              "      <td>1.028</td>\n",
              "      <td>4963.6</td>\n",
              "      <td>...</td>\n",
              "      <td>0</td>\n",
              "      <td>1</td>\n",
              "      <td>0</td>\n",
              "      <td>0</td>\n",
              "      <td>0</td>\n",
              "      <td>0</td>\n",
              "      <td>0</td>\n",
              "      <td>0</td>\n",
              "      <td>0</td>\n",
              "      <td>0</td>\n",
              "    </tr>\n",
              "  </tbody>\n",
              "</table>\n",
              "<p>41176 rows × 53 columns</p>\n",
              "</div>\n",
              "      <button class=\"colab-df-convert\" onclick=\"convertToInteractive('df-2026eff3-d083-47bc-94af-a82300bb752a')\"\n",
              "              title=\"Convert this dataframe to an interactive table.\"\n",
              "              style=\"display:none;\">\n",
              "        \n",
              "  <svg xmlns=\"http://www.w3.org/2000/svg\" height=\"24px\"viewBox=\"0 0 24 24\"\n",
              "       width=\"24px\">\n",
              "    <path d=\"M0 0h24v24H0V0z\" fill=\"none\"/>\n",
              "    <path d=\"M18.56 5.44l.94 2.06.94-2.06 2.06-.94-2.06-.94-.94-2.06-.94 2.06-2.06.94zm-11 1L8.5 8.5l.94-2.06 2.06-.94-2.06-.94L8.5 2.5l-.94 2.06-2.06.94zm10 10l.94 2.06.94-2.06 2.06-.94-2.06-.94-.94-2.06-.94 2.06-2.06.94z\"/><path d=\"M17.41 7.96l-1.37-1.37c-.4-.4-.92-.59-1.43-.59-.52 0-1.04.2-1.43.59L10.3 9.45l-7.72 7.72c-.78.78-.78 2.05 0 2.83L4 21.41c.39.39.9.59 1.41.59.51 0 1.02-.2 1.41-.59l7.78-7.78 2.81-2.81c.8-.78.8-2.07 0-2.86zM5.41 20L4 18.59l7.72-7.72 1.47 1.35L5.41 20z\"/>\n",
              "  </svg>\n",
              "      </button>\n",
              "      \n",
              "  <style>\n",
              "    .colab-df-container {\n",
              "      display:flex;\n",
              "      flex-wrap:wrap;\n",
              "      gap: 12px;\n",
              "    }\n",
              "\n",
              "    .colab-df-convert {\n",
              "      background-color: #E8F0FE;\n",
              "      border: none;\n",
              "      border-radius: 50%;\n",
              "      cursor: pointer;\n",
              "      display: none;\n",
              "      fill: #1967D2;\n",
              "      height: 32px;\n",
              "      padding: 0 0 0 0;\n",
              "      width: 32px;\n",
              "    }\n",
              "\n",
              "    .colab-df-convert:hover {\n",
              "      background-color: #E2EBFA;\n",
              "      box-shadow: 0px 1px 2px rgba(60, 64, 67, 0.3), 0px 1px 3px 1px rgba(60, 64, 67, 0.15);\n",
              "      fill: #174EA6;\n",
              "    }\n",
              "\n",
              "    [theme=dark] .colab-df-convert {\n",
              "      background-color: #3B4455;\n",
              "      fill: #D2E3FC;\n",
              "    }\n",
              "\n",
              "    [theme=dark] .colab-df-convert:hover {\n",
              "      background-color: #434B5C;\n",
              "      box-shadow: 0px 1px 3px 1px rgba(0, 0, 0, 0.15);\n",
              "      filter: drop-shadow(0px 1px 2px rgba(0, 0, 0, 0.3));\n",
              "      fill: #FFFFFF;\n",
              "    }\n",
              "  </style>\n",
              "\n",
              "      <script>\n",
              "        const buttonEl =\n",
              "          document.querySelector('#df-2026eff3-d083-47bc-94af-a82300bb752a button.colab-df-convert');\n",
              "        buttonEl.style.display =\n",
              "          google.colab.kernel.accessAllowed ? 'block' : 'none';\n",
              "\n",
              "        async function convertToInteractive(key) {\n",
              "          const element = document.querySelector('#df-2026eff3-d083-47bc-94af-a82300bb752a');\n",
              "          const dataTable =\n",
              "            await google.colab.kernel.invokeFunction('convertToInteractive',\n",
              "                                                     [key], {});\n",
              "          if (!dataTable) return;\n",
              "\n",
              "          const docLinkHtml = 'Like what you see? Visit the ' +\n",
              "            '<a target=\"_blank\" href=https://colab.research.google.com/notebooks/data_table.ipynb>data table notebook</a>'\n",
              "            + ' to learn more about interactive tables.';\n",
              "          element.innerHTML = '';\n",
              "          dataTable['output_type'] = 'display_data';\n",
              "          await google.colab.output.renderOutput(dataTable, element);\n",
              "          const docLink = document.createElement('div');\n",
              "          docLink.innerHTML = docLinkHtml;\n",
              "          element.appendChild(docLink);\n",
              "        }\n",
              "      </script>\n",
              "    </div>\n",
              "  </div>\n",
              "  "
            ]
          },
          "metadata": {},
          "execution_count": 99
        }
      ]
    },
    {
      "cell_type": "code",
      "source": [
        "y1"
      ],
      "metadata": {
        "colab": {
          "base_uri": "https://localhost:8080/"
        },
        "id": "D6Kc9TKKzZer",
        "outputId": "65751f5b-fd89-416a-e434-2385dacffbe2"
      },
      "execution_count": null,
      "outputs": [
        {
          "output_type": "execute_result",
          "data": {
            "text/plain": [
              "0        0\n",
              "1        0\n",
              "2        0\n",
              "3        0\n",
              "4        0\n",
              "        ..\n",
              "41183    1\n",
              "41184    0\n",
              "41185    0\n",
              "41186    1\n",
              "41187    0\n",
              "Name: y_yes, Length: 41176, dtype: uint8"
            ]
          },
          "metadata": {},
          "execution_count": 100
        }
      ]
    },
    {
      "cell_type": "code",
      "source": [
        "from sklearn.model_selection import train_test_split\n",
        "X_train, X_test, y_train, y_test = train_test_split(X1, y1, test_size = 0.3, random_state = 42)"
      ],
      "metadata": {
        "id": "9v6EfPdezZng"
      },
      "execution_count": null,
      "outputs": []
    },
    {
      "cell_type": "code",
      "source": [
        "#pip install lightgbm\n",
        "import lightgbm as lgb \n",
        "clf = lgb.LGBMClassifier(boosting_type='gbdt',max_depth=5,learning_rate=0.1,n_estimators=5)\n",
        "clf.fit(X_train, y_train)\n",
        "y_pred=clf.predict(X_test)"
      ],
      "metadata": {
        "id": "RQXUIqWezZtV"
      },
      "execution_count": null,
      "outputs": []
    },
    {
      "cell_type": "markdown",
      "source": [
        "Ahora veamos el accuracy de LIGHTGBM"
      ],
      "metadata": {
        "id": "7OQSLIejz4OV"
      }
    },
    {
      "cell_type": "code",
      "source": [
        "from sklearn.metrics import accuracy_score\n",
        "accuracy=accuracy_score(y_pred, y_test)\n",
        "print('LightGBM Model accuracy score: {0:0.4f}'.format(accuracy_score(y_test, y_pred)))"
      ],
      "metadata": {
        "colab": {
          "base_uri": "https://localhost:8080/"
        },
        "id": "0kNv4pV9zyxF",
        "outputId": "4e3701f2-ab8e-4d51-811e-01689cc2f729"
      },
      "execution_count": null,
      "outputs": [
        {
          "output_type": "stream",
          "name": "stdout",
          "text": [
            "LightGBM Model accuracy score: 0.8847\n"
          ]
        }
      ]
    },
    {
      "cell_type": "markdown",
      "source": [
        "Por último probemos aplicar el AdaBoost"
      ],
      "metadata": {
        "id": "uu6vDu2M0CIN"
      }
    },
    {
      "cell_type": "code",
      "source": [
        "from sklearn.ensemble import AdaBoostClassifier\n",
        "from sklearn import datasets\n",
        "from sklearn.model_selection import train_test_split\n",
        "from sklearn import metrics"
      ],
      "metadata": {
        "id": "4IUlJWM40CXG"
      },
      "execution_count": null,
      "outputs": []
    },
    {
      "cell_type": "code",
      "source": [
        "from sklearn.model_selection import train_test_split\n",
        "X_train, X_test, y_train, y_test = train_test_split(X1, y1, random_state = 0)"
      ],
      "metadata": {
        "id": "K9DkK7kp0DHH"
      },
      "execution_count": null,
      "outputs": []
    },
    {
      "cell_type": "code",
      "source": [
        "from sklearn.tree import DecisionTreeClassifier\n",
        "tree = DecisionTreeClassifier()\n",
        "tree.fit(X_train, y_train)\n",
        "tree.score(X_test, y_test)"
      ],
      "metadata": {
        "colab": {
          "base_uri": "https://localhost:8080/"
        },
        "id": "xvtI2o-p0DQA",
        "outputId": "ba4d7ee8-d169-4de5-ec38-88d05f394b62"
      },
      "execution_count": null,
      "outputs": [
        {
          "output_type": "execute_result",
          "data": {
            "text/plain": [
              "0.8869244219933942"
            ]
          },
          "metadata": {},
          "execution_count": 107
        }
      ]
    },
    {
      "cell_type": "code",
      "source": [
        "from sklearn.ensemble import GradientBoostingRegressor\n",
        "from sklearn.ensemble import GradientBoostingClassifier"
      ],
      "metadata": {
        "id": "fpEMhS4c0DY_"
      },
      "execution_count": null,
      "outputs": []
    },
    {
      "cell_type": "code",
      "source": [
        "gbrt = GradientBoostingClassifier(random_state = 42,learning_rate=0.1,n_estimators=50)\n",
        "gbrt.fit(X_train, y_train)\n",
        "gbrt.score(X_test, y_test)"
      ],
      "metadata": {
        "colab": {
          "base_uri": "https://localhost:8080/"
        },
        "id": "DlgbIVW50Wmo",
        "outputId": "0c42db74-2502-460b-d30f-d66cd7d98c61"
      },
      "execution_count": null,
      "outputs": [
        {
          "output_type": "execute_result",
          "data": {
            "text/plain": [
              "0.9138333009520109"
            ]
          },
          "metadata": {},
          "execution_count": 111
        }
      ]
    },
    {
      "cell_type": "markdown",
      "source": [
        "## 9. CONCLUSIONES"
      ],
      "metadata": {
        "id": "P4pBmX5b8fK-"
      }
    },
    {
      "cell_type": "markdown",
      "source": [
        ""
      ],
      "metadata": {
        "id": "8sgCfVD1nW1a"
      }
    }
  ],
  "metadata": {
    "kernelspec": {
      "display_name": "Python 3 (ipykernel)",
      "language": "python",
      "name": "python3"
    },
    "language_info": {
      "codemirror_mode": {
        "name": "ipython",
        "version": 3
      },
      "file_extension": ".py",
      "mimetype": "text/x-python",
      "name": "python",
      "nbconvert_exporter": "python",
      "pygments_lexer": "ipython3",
      "version": "3.8.12"
    },
    "varInspector": {
      "cols": {
        "lenName": 16,
        "lenType": 16,
        "lenVar": 40
      },
      "kernels_config": {
        "python": {
          "delete_cmd_postfix": "",
          "delete_cmd_prefix": "del ",
          "library": "var_list.py",
          "varRefreshCmd": "print(var_dic_list())"
        },
        "r": {
          "delete_cmd_postfix": ") ",
          "delete_cmd_prefix": "rm(",
          "library": "var_list.r",
          "varRefreshCmd": "cat(var_dic_list()) "
        }
      },
      "types_to_exclude": [
        "module",
        "function",
        "builtin_function_or_method",
        "instance",
        "_Feature"
      ],
      "window_display": false
    },
    "colab": {
      "name": "CoderHouse- PRJ -  Bank Marketing_ESP.ipynb",
      "provenance": [],
      "collapsed_sections": [],
      "include_colab_link": true
    }
  },
  "nbformat": 4,
  "nbformat_minor": 0
}