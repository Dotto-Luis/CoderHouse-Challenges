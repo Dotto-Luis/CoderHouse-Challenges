{
  "nbformat": 4,
  "nbformat_minor": 0,
  "metadata": {
    "colab": {
      "name": "Funciones_Dotto.ipynb",
      "provenance": [],
      "collapsed_sections": [],
      "include_colab_link": true
    },
    "kernelspec": {
      "name": "python3",
      "display_name": "Python 3"
    },
    "language_info": {
      "name": "python"
    }
  },
  "cells": [
    {
      "cell_type": "markdown",
      "metadata": {
        "id": "view-in-github",
        "colab_type": "text"
      },
      "source": [
        "<a href=\"https://colab.research.google.com/github/Dotto-Luis/CoderHouse-Challenges/blob/main/Funciones_Dotto.ipynb\" target=\"_parent\"><img src=\"https://colab.research.google.com/assets/colab-badge.svg\" alt=\"Open In Colab\"/></a>"
      ]
    },
    {
      "cell_type": "markdown",
      "source": [
        "#1. Escribir una funcion para calcular el factorial de un numero cualquiera."
      ],
      "metadata": {
        "id": "QB6-HNGvfICv"
      }
    },
    {
      "cell_type": "code",
      "source": [
        "#codigo nuevo\n",
        "def factorial(a):\n",
        "  res = 1\n",
        "  count =  1\n",
        "  while count <= a:\n",
        "    res *= count\n",
        "    count += 1\n",
        "  print('El factorial de ', a, 'es', res)\n",
        "\n",
        "factorial(9)\n",
        "factorial(8)\n",
        "factorial(0)"
      ],
      "metadata": {
        "colab": {
          "base_uri": "https://localhost:8080/"
        },
        "id": "YMoBB7TYCrpr",
        "outputId": "35f13e27-0bd7-4322-dd1d-c61f59b06181"
      },
      "execution_count": null,
      "outputs": [
        {
          "output_type": "stream",
          "name": "stdout",
          "text": [
            "El factorial de  9 es 362880\n",
            "El factorial de  8 es 40320\n",
            "El factorial de  0 es 1\n"
          ]
        }
      ]
    },
    {
      "cell_type": "code",
      "source": [
        "#Codigo anterior\n",
        "#Cristhian - 19/12 18:24\n",
        "#hola Luis, muy bien! Noto que modificaste la función para recibir parámetros de la forma suma(a,b). Lo cuál es perfecto. Noté que no hiciste lo mismo con la función de factorial. Quedaría pendiente escribir la función factorial con parámetros (es decir factorial(x) ) para que quede perfecto tu desafío \n",
        "\n",
        "def factorial():\n",
        "  try:  \n",
        "    count = 1\n",
        "    a = int(input('Escribe un numero positivo: '))\n",
        "\n",
        "    if a >= 0: #se agrega un igual para incluir factorial de 0!\n",
        "      for i in range(1,a+1):\n",
        "          count *= i\n",
        "      print ('El factorial de '+str(a) + ' es: '+str(count))\n",
        "    else:\n",
        "      print('!No has cumplido la consigna!, por favor coloca un numero positivo :D')\n",
        "  except:\n",
        "      print('!No has cumplido la consigna!, por favor coloca un numero positivo :D')\n",
        "if __name__ == '__main__':\n",
        "  factorial()"
      ],
      "metadata": {
        "colab": {
          "base_uri": "https://localhost:8080/"
        },
        "id": "F1fagPVTdJkp",
        "outputId": "073dee6d-c8ac-4e79-b620-255b4af5751f"
      },
      "execution_count": null,
      "outputs": [
        {
          "output_type": "stream",
          "name": "stdout",
          "text": [
            "Escribe un numero positivo: 9\n",
            "El factorial de 9 es: 362880\n"
          ]
        }
      ]
    },
    {
      "cell_type": "markdown",
      "source": [
        "#2. Escribir una funcion para calcular la suma de una serie comenzando por un numero cualquiera y terminando en otro numero que debe ser mayor al primero."
      ],
      "metadata": {
        "id": "kRXhvqbcfMaE"
      }
    },
    {
      "cell_type": "code",
      "source": [
        "def suma(a,b):\n",
        "    count = 0\n",
        "    if b > a:\n",
        "      for i in range(a,b+1):\n",
        "          count += i\n",
        "      print ('La suma de la serie es: '+str(count))\n",
        "    else:\n",
        "      print('No has cumplido la consigna!')\n",
        "\n",
        "c = suma(-5,5)\n",
        "print(c)"
      ],
      "metadata": {
        "colab": {
          "base_uri": "https://localhost:8080/"
        },
        "id": "s6I3UCQI7W8s",
        "outputId": "bc6d5b52-9f67-474f-bb0e-5b0ae50783dc"
      },
      "execution_count": null,
      "outputs": [
        {
          "output_type": "stream",
          "name": "stdout",
          "text": [
            "La suma de la serie es: 0\n",
            "None\n"
          ]
        }
      ]
    },
    {
      "cell_type": "code",
      "source": [
        ""
      ],
      "metadata": {
        "id": "GWmrbEbGSExj"
      },
      "execution_count": null,
      "outputs": []
    }
  ]
}