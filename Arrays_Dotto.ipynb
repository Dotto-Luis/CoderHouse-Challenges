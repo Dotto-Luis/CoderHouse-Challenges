{
  "nbformat": 4,
  "nbformat_minor": 0,
  "metadata": {
    "colab": {
      "name": "Arrays_Dotto.ipynb",
      "provenance": [],
      "collapsed_sections": [],
      "include_colab_link": true
    },
    "kernelspec": {
      "name": "python3",
      "display_name": "Python 3"
    },
    "language_info": {
      "name": "python"
    }
  },
  "cells": [
    {
      "cell_type": "markdown",
      "metadata": {
        "id": "view-in-github",
        "colab_type": "text"
      },
      "source": [
        "<a href=\"https://colab.research.google.com/github/Dotto-Luis/CoderHouse-Challenges/blob/main/Arrays_Dotto.ipynb\" target=\"_parent\"><img src=\"https://colab.research.google.com/assets/colab-badge.svg\" alt=\"Open In Colab\"/></a>"
      ]
    },
    {
      "cell_type": "code",
      "source": [
        "import numpy as np #importamos librerias\n",
        "from google.colab import drive\n",
        "import math\n",
        "import pandas as pd"
      ],
      "metadata": {
        "id": "ZnSRjKzRU56Q"
      },
      "execution_count": 44,
      "outputs": []
    },
    {
      "cell_type": "markdown",
      "source": [
        "#1.Generar un array aleatorio de 100 elementos. Calcular la mediana correspondiente.\n",
        "\n"
      ],
      "metadata": {
        "id": "QB6-HNGvfICv"
      }
    },
    {
      "cell_type": "code",
      "source": [
        "array_random = np.random.randint(100, size=(1,100))\n",
        "print(\"Mediana del array : \", np.median(array_random))"
      ],
      "metadata": {
        "colab": {
          "base_uri": "https://localhost:8080/"
        },
        "id": "F1fagPVTdJkp",
        "outputId": "70caf02c-fb0a-4891-9c4f-07c85db6ae6e"
      },
      "execution_count": 45,
      "outputs": [
        {
          "output_type": "stream",
          "name": "stdout",
          "text": [
            "Mediana del array :  53.5\n"
          ]
        }
      ]
    },
    {
      "cell_type": "markdown",
      "source": [
        "#2. Recordar los ejercicios con funciones para cálculo de factorial y suma de serie de la Clase 02. Repetir ambos ejercicios, pero ahora utilizar las nuevas operaciones aprendidas con los ndarrays."
      ],
      "metadata": {
        "id": "kRXhvqbcfMaE"
      }
    },
    {
      "cell_type": "code",
      "source": [
        "#1. Sumar serie\n",
        "def suma(a,b):\n",
        "  if b>a:\n",
        "    print(np.array(sum(range(a,b))))\n",
        "  else:\n",
        "    print('B tiene que ser mayor a A')\n",
        "\n",
        "suma(5,2)\n",
        "suma(7,9)"
      ],
      "metadata": {
        "colab": {
          "base_uri": "https://localhost:8080/"
        },
        "id": "1jtNrBNW2LKj",
        "outputId": "f48818a6-3ff9-4442-9dd0-3e35d4420515"
      },
      "execution_count": 46,
      "outputs": [
        {
          "output_type": "stream",
          "name": "stdout",
          "text": [
            "B tiene que ser mayor a A\n",
            "15\n"
          ]
        }
      ]
    },
    {
      "cell_type": "code",
      "source": [
        "#2. Factorial de una serie\n",
        "def factorial(f):\n",
        "  print(np.prod(range(1,f+1)))\n",
        "\n",
        "factorial(7)\n",
        "factorial(9)"
      ],
      "metadata": {
        "colab": {
          "base_uri": "https://localhost:8080/"
        },
        "id": "o0SYH2qbewF7",
        "outputId": "97c0992e-3798-4e80-c840-51f1e54682c6"
      },
      "execution_count": 47,
      "outputs": [
        {
          "output_type": "stream",
          "name": "stdout",
          "text": [
            "5040\n",
            "362880\n"
          ]
        }
      ]
    },
    {
      "cell_type": "markdown",
      "source": [
        "#3. En este [link](https://docs.google.com/spreadsheets/d/15Stnum8mI9QdwF9ZiPFCe3_qG9XyZyNzmOSIDunzPjA/view) se provee un archivo con los resultados de la Encuesta de Sueldos de Openqube de Febrero 2020 (https://sueldos.openqube.io/encuesta-sueldos-2020.02/ ), Calcular y comparar media y mediana de los sueldos netos.\n"
      ],
      "metadata": {
        "id": "RJtRuCWAYoUc"
      }
    },
    {
      "cell_type": "code",
      "source": [
        "from numpy import loadtxt\n",
        "drive.mount('/content/gdrive/') #permitimos acceso al drive\n",
        "path = '/content/gdrive/MyDrive/Colab Notebooks/Salarios Openqube - 2020.02.csv' #asigno la ruta a una variable\n",
        "x = pd.read_csv(path, header=0, usecols=['Salario mensual NETO (en tu moneda local)']).values #leo el archivo y lo coloco en la variable x\n",
        "print(x)"
      ],
      "metadata": {
        "colab": {
          "base_uri": "https://localhost:8080/"
        },
        "id": "X-g9jsyRXBA0",
        "outputId": "ef4b088d-7c03-43fb-adf0-5a1416835e36"
      },
      "execution_count": 48,
      "outputs": [
        {
          "output_type": "stream",
          "name": "stdout",
          "text": [
            "Drive already mounted at /content/gdrive/; to attempt to forcibly remount, call drive.mount(\"/content/gdrive/\", force_remount=True).\n",
            "[[ 43000.]\n",
            " [ 63000.]\n",
            " [127000.]\n",
            " ...\n",
            " [ 97000.]\n",
            " [ 71000.]\n",
            " [ 65000.]]\n"
          ]
        }
      ]
    },
    {
      "cell_type": "code",
      "source": [
        "#data = df.filter([\"Salario mensual NETO (en tu moneda local)\"]) #filtro por la columna que me solicitan informacion y la coloco en una variable\n",
        "\n",
        "print('La media es : ', np.mean(x)) \n",
        "print('La mediana es : ', np.median(x))"
      ],
      "metadata": {
        "id": "SmBjNmx-HgFJ",
        "colab": {
          "base_uri": "https://localhost:8080/"
        },
        "outputId": "c87e75ff-d0a7-46aa-a6f1-c1c52388d7ba"
      },
      "execution_count": 49,
      "outputs": [
        {
          "output_type": "stream",
          "name": "stdout",
          "text": [
            "La media es :  149134.67456513853\n",
            "La mediana es :  78000.0\n"
          ]
        }
      ]
    }
  ]
}