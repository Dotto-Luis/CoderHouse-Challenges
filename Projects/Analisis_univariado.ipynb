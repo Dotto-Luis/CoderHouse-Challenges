{
 "cells": [
  {
   "cell_type": "markdown",
   "id": "189cc161-98f8-48cb-b076-ca114198b24d",
   "metadata": {},
   "source": [
    "# Realizar un pequeño análisis univariado de datos, teniendo en cuenta las características de las observaciones. Generar al menos 3 gráficos asociados."
   ]
  },
  {
   "cell_type": "code",
   "execution_count": 13,
   "id": "8832c5df-cb99-44c8-a3c9-fa0d92dc8f23",
   "metadata": {},
   "outputs": [],
   "source": [
    "import pandas as pd\n",
    "import seaborn as sns\n",
    "import plotly.express as px\n",
    "from matplotlib import pyplot as plt\n",
    "import numpy as np\n",
    "import scipy \n",
    "from funpymodeling.exploratory import profiling_num #pip install funpymodeling==0.1.7"
   ]
  },
  {
   "cell_type": "markdown",
   "id": "246f9361-5ce6-4aa6-ab79-b062edb5a785",
   "metadata": {
    "jp-MarkdownHeadingCollapsed": true,
    "tags": []
   },
   "source": [
    "## Prices (dataset) - lineplot data\\year"
   ]
  },
  {
   "cell_type": "code",
   "execution_count": 3,
   "id": "47dc2685-ffdf-4865-ad7d-a0f62263b423",
   "metadata": {},
   "outputs": [
    {
     "data": {
      "text/html": [
       "<div>\n",
       "<style scoped>\n",
       "    .dataframe tbody tr th:only-of-type {\n",
       "        vertical-align: middle;\n",
       "    }\n",
       "\n",
       "    .dataframe tbody tr th {\n",
       "        vertical-align: top;\n",
       "    }\n",
       "\n",
       "    .dataframe thead th {\n",
       "        text-align: right;\n",
       "    }\n",
       "</style>\n",
       "<table border=\"1\" class=\"dataframe\">\n",
       "  <thead>\n",
       "    <tr style=\"text-align: right;\">\n",
       "      <th></th>\n",
       "      <th>date</th>\n",
       "      <th>symbol</th>\n",
       "      <th>open</th>\n",
       "      <th>close</th>\n",
       "      <th>low</th>\n",
       "      <th>high</th>\n",
       "      <th>volume</th>\n",
       "    </tr>\n",
       "  </thead>\n",
       "  <tbody>\n",
       "    <tr>\n",
       "      <th>0</th>\n",
       "      <td>2016-01-05</td>\n",
       "      <td>WLTW</td>\n",
       "      <td>123.430000</td>\n",
       "      <td>125.839996</td>\n",
       "      <td>122.309998</td>\n",
       "      <td>126.250000</td>\n",
       "      <td>2163600.0</td>\n",
       "    </tr>\n",
       "    <tr>\n",
       "      <th>1</th>\n",
       "      <td>2016-01-06</td>\n",
       "      <td>WLTW</td>\n",
       "      <td>125.239998</td>\n",
       "      <td>119.980003</td>\n",
       "      <td>119.940002</td>\n",
       "      <td>125.540001</td>\n",
       "      <td>2386400.0</td>\n",
       "    </tr>\n",
       "    <tr>\n",
       "      <th>2</th>\n",
       "      <td>2016-01-07</td>\n",
       "      <td>WLTW</td>\n",
       "      <td>116.379997</td>\n",
       "      <td>114.949997</td>\n",
       "      <td>114.930000</td>\n",
       "      <td>119.739998</td>\n",
       "      <td>2489500.0</td>\n",
       "    </tr>\n",
       "    <tr>\n",
       "      <th>3</th>\n",
       "      <td>2016-01-08</td>\n",
       "      <td>WLTW</td>\n",
       "      <td>115.480003</td>\n",
       "      <td>116.620003</td>\n",
       "      <td>113.500000</td>\n",
       "      <td>117.440002</td>\n",
       "      <td>2006300.0</td>\n",
       "    </tr>\n",
       "    <tr>\n",
       "      <th>4</th>\n",
       "      <td>2016-01-11</td>\n",
       "      <td>WLTW</td>\n",
       "      <td>117.010002</td>\n",
       "      <td>114.970001</td>\n",
       "      <td>114.089996</td>\n",
       "      <td>117.330002</td>\n",
       "      <td>1408600.0</td>\n",
       "    </tr>\n",
       "    <tr>\n",
       "      <th>...</th>\n",
       "      <td>...</td>\n",
       "      <td>...</td>\n",
       "      <td>...</td>\n",
       "      <td>...</td>\n",
       "      <td>...</td>\n",
       "      <td>...</td>\n",
       "      <td>...</td>\n",
       "    </tr>\n",
       "    <tr>\n",
       "      <th>851259</th>\n",
       "      <td>2016-12-30</td>\n",
       "      <td>ZBH</td>\n",
       "      <td>103.309998</td>\n",
       "      <td>103.199997</td>\n",
       "      <td>102.849998</td>\n",
       "      <td>103.930000</td>\n",
       "      <td>973800.0</td>\n",
       "    </tr>\n",
       "    <tr>\n",
       "      <th>851260</th>\n",
       "      <td>2016-12-30</td>\n",
       "      <td>ZION</td>\n",
       "      <td>43.070000</td>\n",
       "      <td>43.040001</td>\n",
       "      <td>42.689999</td>\n",
       "      <td>43.310001</td>\n",
       "      <td>1938100.0</td>\n",
       "    </tr>\n",
       "    <tr>\n",
       "      <th>851261</th>\n",
       "      <td>2016-12-30</td>\n",
       "      <td>ZTS</td>\n",
       "      <td>53.639999</td>\n",
       "      <td>53.529999</td>\n",
       "      <td>53.270000</td>\n",
       "      <td>53.740002</td>\n",
       "      <td>1701200.0</td>\n",
       "    </tr>\n",
       "    <tr>\n",
       "      <th>851262</th>\n",
       "      <td>2016-12-30</td>\n",
       "      <td>AIV</td>\n",
       "      <td>44.730000</td>\n",
       "      <td>45.450001</td>\n",
       "      <td>44.410000</td>\n",
       "      <td>45.590000</td>\n",
       "      <td>1380900.0</td>\n",
       "    </tr>\n",
       "    <tr>\n",
       "      <th>851263</th>\n",
       "      <td>2016-12-30</td>\n",
       "      <td>FTV</td>\n",
       "      <td>54.200001</td>\n",
       "      <td>53.630001</td>\n",
       "      <td>53.389999</td>\n",
       "      <td>54.480000</td>\n",
       "      <td>705100.0</td>\n",
       "    </tr>\n",
       "  </tbody>\n",
       "</table>\n",
       "<p>851264 rows × 7 columns</p>\n",
       "</div>"
      ],
      "text/plain": [
       "              date symbol        open       close         low        high  \\\n",
       "0       2016-01-05   WLTW  123.430000  125.839996  122.309998  126.250000   \n",
       "1       2016-01-06   WLTW  125.239998  119.980003  119.940002  125.540001   \n",
       "2       2016-01-07   WLTW  116.379997  114.949997  114.930000  119.739998   \n",
       "3       2016-01-08   WLTW  115.480003  116.620003  113.500000  117.440002   \n",
       "4       2016-01-11   WLTW  117.010002  114.970001  114.089996  117.330002   \n",
       "...            ...    ...         ...         ...         ...         ...   \n",
       "851259  2016-12-30    ZBH  103.309998  103.199997  102.849998  103.930000   \n",
       "851260  2016-12-30   ZION   43.070000   43.040001   42.689999   43.310001   \n",
       "851261  2016-12-30    ZTS   53.639999   53.529999   53.270000   53.740002   \n",
       "851262  2016-12-30    AIV   44.730000   45.450001   44.410000   45.590000   \n",
       "851263  2016-12-30    FTV   54.200001   53.630001   53.389999   54.480000   \n",
       "\n",
       "           volume  \n",
       "0       2163600.0  \n",
       "1       2386400.0  \n",
       "2       2489500.0  \n",
       "3       2006300.0  \n",
       "4       1408600.0  \n",
       "...           ...  \n",
       "851259   973800.0  \n",
       "851260  1938100.0  \n",
       "851261  1701200.0  \n",
       "851262  1380900.0  \n",
       "851263   705100.0  \n",
       "\n",
       "[851264 rows x 7 columns]"
      ]
     },
     "execution_count": 3,
     "metadata": {},
     "output_type": "execute_result"
    }
   ],
   "source": [
    "prices = pd.read_csv('prices-split-adjusted.csv')\n",
    "prices"
   ]
  },
  {
   "cell_type": "code",
   "execution_count": 5,
   "id": "66254406-f467-4bbd-a526-96dc40001a73",
   "metadata": {},
   "outputs": [
    {
     "data": {
      "text/html": [
       "<div>\n",
       "<style scoped>\n",
       "    .dataframe tbody tr th:only-of-type {\n",
       "        vertical-align: middle;\n",
       "    }\n",
       "\n",
       "    .dataframe tbody tr th {\n",
       "        vertical-align: top;\n",
       "    }\n",
       "\n",
       "    .dataframe thead th {\n",
       "        text-align: right;\n",
       "    }\n",
       "</style>\n",
       "<table border=\"1\" class=\"dataframe\">\n",
       "  <thead>\n",
       "    <tr style=\"text-align: right;\">\n",
       "      <th></th>\n",
       "      <th>variable</th>\n",
       "      <th>mean</th>\n",
       "      <th>std_dev</th>\n",
       "      <th>variation_coef</th>\n",
       "      <th>p_0.01</th>\n",
       "      <th>p_0.05</th>\n",
       "      <th>p_0.25</th>\n",
       "      <th>p_0.5</th>\n",
       "      <th>p_0.75</th>\n",
       "      <th>p_0.95</th>\n",
       "      <th>p_0.99</th>\n",
       "    </tr>\n",
       "  </thead>\n",
       "  <tbody>\n",
       "    <tr>\n",
       "      <th>0</th>\n",
       "      <td>open</td>\n",
       "      <td>6.499362e+01</td>\n",
       "      <td>7.520389e+01</td>\n",
       "      <td>1.157097</td>\n",
       "      <td>7.82</td>\n",
       "      <td>14.36</td>\n",
       "      <td>3.127000e+01</td>\n",
       "      <td>4.846000e+01</td>\n",
       "      <td>7.512000e+01</td>\n",
       "      <td>1.546500e+02</td>\n",
       "      <td>3.688274e+02</td>\n",
       "    </tr>\n",
       "    <tr>\n",
       "      <th>1</th>\n",
       "      <td>close</td>\n",
       "      <td>6.501191e+01</td>\n",
       "      <td>7.520122e+01</td>\n",
       "      <td>1.156730</td>\n",
       "      <td>7.82</td>\n",
       "      <td>14.37</td>\n",
       "      <td>3.129278e+01</td>\n",
       "      <td>4.848000e+01</td>\n",
       "      <td>7.514000e+01</td>\n",
       "      <td>1.546694e+02</td>\n",
       "      <td>3.687374e+02</td>\n",
       "    </tr>\n",
       "    <tr>\n",
       "      <th>2</th>\n",
       "      <td>low</td>\n",
       "      <td>6.433654e+01</td>\n",
       "      <td>7.445952e+01</td>\n",
       "      <td>1.157344</td>\n",
       "      <td>7.69</td>\n",
       "      <td>14.17</td>\n",
       "      <td>3.094000e+01</td>\n",
       "      <td>4.797000e+01</td>\n",
       "      <td>7.440000e+01</td>\n",
       "      <td>1.530400e+02</td>\n",
       "      <td>3.650948e+02</td>\n",
       "    </tr>\n",
       "    <tr>\n",
       "      <th>3</th>\n",
       "      <td>high</td>\n",
       "      <td>6.563975e+01</td>\n",
       "      <td>7.590686e+01</td>\n",
       "      <td>1.156416</td>\n",
       "      <td>7.94</td>\n",
       "      <td>14.56</td>\n",
       "      <td>3.162000e+01</td>\n",
       "      <td>4.896000e+01</td>\n",
       "      <td>7.585000e+01</td>\n",
       "      <td>1.562000e+02</td>\n",
       "      <td>3.724200e+02</td>\n",
       "    </tr>\n",
       "    <tr>\n",
       "      <th>4</th>\n",
       "      <td>volume</td>\n",
       "      <td>5.415113e+06</td>\n",
       "      <td>1.249468e+07</td>\n",
       "      <td>2.307372</td>\n",
       "      <td>248600.00</td>\n",
       "      <td>476300.00</td>\n",
       "      <td>1.221500e+06</td>\n",
       "      <td>2.476250e+06</td>\n",
       "      <td>5.222500e+06</td>\n",
       "      <td>1.801397e+07</td>\n",
       "      <td>4.992493e+07</td>\n",
       "    </tr>\n",
       "  </tbody>\n",
       "</table>\n",
       "</div>"
      ],
      "text/plain": [
       "  variable          mean       std_dev  variation_coef     p_0.01     p_0.05  \\\n",
       "0     open  6.499362e+01  7.520389e+01        1.157097       7.82      14.36   \n",
       "1    close  6.501191e+01  7.520122e+01        1.156730       7.82      14.37   \n",
       "2      low  6.433654e+01  7.445952e+01        1.157344       7.69      14.17   \n",
       "3     high  6.563975e+01  7.590686e+01        1.156416       7.94      14.56   \n",
       "4   volume  5.415113e+06  1.249468e+07        2.307372  248600.00  476300.00   \n",
       "\n",
       "         p_0.25         p_0.5        p_0.75        p_0.95        p_0.99  \n",
       "0  3.127000e+01  4.846000e+01  7.512000e+01  1.546500e+02  3.688274e+02  \n",
       "1  3.129278e+01  4.848000e+01  7.514000e+01  1.546694e+02  3.687374e+02  \n",
       "2  3.094000e+01  4.797000e+01  7.440000e+01  1.530400e+02  3.650948e+02  \n",
       "3  3.162000e+01  4.896000e+01  7.585000e+01  1.562000e+02  3.724200e+02  \n",
       "4  1.221500e+06  2.476250e+06  5.222500e+06  1.801397e+07  4.992493e+07  "
      ]
     },
     "execution_count": 5,
     "metadata": {},
     "output_type": "execute_result"
    }
   ],
   "source": [
    "profiling_num(prices)"
   ]
  },
  {
   "cell_type": "code",
   "execution_count": 6,
   "id": "17fa67ca-3003-4446-b5e9-9b943daf006c",
   "metadata": {},
   "outputs": [
    {
     "data": {
      "text/html": [
       "<div>\n",
       "<style scoped>\n",
       "    .dataframe tbody tr th:only-of-type {\n",
       "        vertical-align: middle;\n",
       "    }\n",
       "\n",
       "    .dataframe tbody tr th {\n",
       "        vertical-align: top;\n",
       "    }\n",
       "\n",
       "    .dataframe thead th {\n",
       "        text-align: right;\n",
       "    }\n",
       "</style>\n",
       "<table border=\"1\" class=\"dataframe\">\n",
       "  <thead>\n",
       "    <tr style=\"text-align: right;\">\n",
       "      <th></th>\n",
       "      <th>open</th>\n",
       "      <th>close</th>\n",
       "      <th>low</th>\n",
       "      <th>high</th>\n",
       "      <th>volume</th>\n",
       "    </tr>\n",
       "  </thead>\n",
       "  <tbody>\n",
       "    <tr>\n",
       "      <th>count</th>\n",
       "      <td>851264.000000</td>\n",
       "      <td>851264.000000</td>\n",
       "      <td>851264.000000</td>\n",
       "      <td>851264.000000</td>\n",
       "      <td>8.512640e+05</td>\n",
       "    </tr>\n",
       "    <tr>\n",
       "      <th>mean</th>\n",
       "      <td>64.993618</td>\n",
       "      <td>65.011913</td>\n",
       "      <td>64.336541</td>\n",
       "      <td>65.639748</td>\n",
       "      <td>5.415113e+06</td>\n",
       "    </tr>\n",
       "    <tr>\n",
       "      <th>std</th>\n",
       "      <td>75.203893</td>\n",
       "      <td>75.201216</td>\n",
       "      <td>74.459518</td>\n",
       "      <td>75.906861</td>\n",
       "      <td>1.249468e+07</td>\n",
       "    </tr>\n",
       "    <tr>\n",
       "      <th>min</th>\n",
       "      <td>1.660000</td>\n",
       "      <td>1.590000</td>\n",
       "      <td>1.500000</td>\n",
       "      <td>1.810000</td>\n",
       "      <td>0.000000e+00</td>\n",
       "    </tr>\n",
       "    <tr>\n",
       "      <th>25%</th>\n",
       "      <td>31.270000</td>\n",
       "      <td>31.292776</td>\n",
       "      <td>30.940001</td>\n",
       "      <td>31.620001</td>\n",
       "      <td>1.221500e+06</td>\n",
       "    </tr>\n",
       "    <tr>\n",
       "      <th>50%</th>\n",
       "      <td>48.459999</td>\n",
       "      <td>48.480000</td>\n",
       "      <td>47.970001</td>\n",
       "      <td>48.959999</td>\n",
       "      <td>2.476250e+06</td>\n",
       "    </tr>\n",
       "    <tr>\n",
       "      <th>75%</th>\n",
       "      <td>75.120003</td>\n",
       "      <td>75.139999</td>\n",
       "      <td>74.400002</td>\n",
       "      <td>75.849998</td>\n",
       "      <td>5.222500e+06</td>\n",
       "    </tr>\n",
       "    <tr>\n",
       "      <th>max</th>\n",
       "      <td>1584.439941</td>\n",
       "      <td>1578.130005</td>\n",
       "      <td>1549.939941</td>\n",
       "      <td>1600.930054</td>\n",
       "      <td>8.596434e+08</td>\n",
       "    </tr>\n",
       "  </tbody>\n",
       "</table>\n",
       "</div>"
      ],
      "text/plain": [
       "                open          close            low           high  \\\n",
       "count  851264.000000  851264.000000  851264.000000  851264.000000   \n",
       "mean       64.993618      65.011913      64.336541      65.639748   \n",
       "std        75.203893      75.201216      74.459518      75.906861   \n",
       "min         1.660000       1.590000       1.500000       1.810000   \n",
       "25%        31.270000      31.292776      30.940001      31.620001   \n",
       "50%        48.459999      48.480000      47.970001      48.959999   \n",
       "75%        75.120003      75.139999      74.400002      75.849998   \n",
       "max      1584.439941    1578.130005    1549.939941    1600.930054   \n",
       "\n",
       "             volume  \n",
       "count  8.512640e+05  \n",
       "mean   5.415113e+06  \n",
       "std    1.249468e+07  \n",
       "min    0.000000e+00  \n",
       "25%    1.221500e+06  \n",
       "50%    2.476250e+06  \n",
       "75%    5.222500e+06  \n",
       "max    8.596434e+08  "
      ]
     },
     "execution_count": 6,
     "metadata": {},
     "output_type": "execute_result"
    }
   ],
   "source": [
    "prices.describe()"
   ]
  },
  {
   "cell_type": "code",
   "execution_count": 67,
   "id": "5fe9831f-8bef-4f4e-9b87-48f008989ff1",
   "metadata": {},
   "outputs": [],
   "source": [
    "prices['date']=pd.to_datetime(prices['date'])"
   ]
  },
  {
   "cell_type": "code",
   "execution_count": 81,
   "id": "4097736d-bbad-4c4b-9712-eb2ab375b5eb",
   "metadata": {},
   "outputs": [
    {
     "data": {
      "text/plain": [
       "<AxesSubplot:xlabel='date'>"
      ]
     },
     "execution_count": 81,
     "metadata": {},
     "output_type": "execute_result"
    },
    {
     "data": {
      "image/png": "[encoded data removed]",
      "text/plain": [
       "<Figure size 1440x504 with 1 Axes>"
      ]
     },
     "metadata": {
      "needs_background": "light"
     },
     "output_type": "display_data"
    }
   ],
   "source": [
    "monthly_prices =prices.groupby(prices['date'].dt.to_period('Y')).size()\n",
    "fig = plt.figure(figsize =(20, 7))\n",
    "monthly_prices.plot.line()"
   ]
  },
  {
   "cell_type": "code",
   "execution_count": 74,
   "id": "869c2f97-6206-4420-999a-6dfa03205832",
   "metadata": {},
   "outputs": [
    {
     "data": {
      "text/plain": [
       "DescribeResult(nobs=84, minmax=(8891, 11523), mean=10134.095238095239, variance=359453.1956397017, skewness=-0.08730619161903307, kurtosis=-0.6060180852337562)"
      ]
     },
     "execution_count": 74,
     "metadata": {},
     "output_type": "execute_result"
    }
   ],
   "source": [
    "scipy.stats.describe(monthly_prices)"
   ]
  },
  {
   "cell_type": "code",
   "execution_count": 75,
   "id": "9d698c50-6cb6-4f58-b06c-783664cd3836",
   "metadata": {},
   "outputs": [
    {
     "data": {
      "text/plain": [
       "10116.45328370534"
      ]
     },
     "execution_count": 75,
     "metadata": {},
     "output_type": "execute_result"
    }
   ],
   "source": [
    "scipy.stats.gmean(monthly_prices) # Media geometrica"
   ]
  },
  {
   "cell_type": "code",
   "execution_count": 76,
   "id": "334f3870-ec08-4528-b6a4-c0eb09ad850c",
   "metadata": {},
   "outputs": [
    {
     "data": {
      "text/plain": [
       "10098.695747590265"
      ]
     },
     "execution_count": 76,
     "metadata": {},
     "output_type": "execute_result"
    }
   ],
   "source": [
    "scipy.stats.hmean(monthly_prices) # Media armonica"
   ]
  },
  {
   "cell_type": "code",
   "execution_count": 77,
   "id": "07470794-cedf-4948-b660-4895a6ea8da2",
   "metadata": {},
   "outputs": [
    {
     "data": {
      "text/plain": [
       "ModeResult(mode=array([9870]), count=array([9]))"
      ]
     },
     "execution_count": 77,
     "metadata": {},
     "output_type": "execute_result"
    }
   ],
   "source": [
    "scipy.stats.mode(monthly_prices) # Moda"
   ]
  },
  {
   "cell_type": "markdown",
   "id": "3c75f6b8-560d-454a-a59f-adea2f6d8a1b",
   "metadata": {
    "tags": []
   },
   "source": [
    "## Securities (dataset) - Treemap/pyplot sub-sector industria de las empresas en el NYSE"
   ]
  },
  {
   "cell_type": "code",
   "execution_count": 9,
   "id": "6d677521-6d01-4a80-8d5e-6d154055212e",
   "metadata": {},
   "outputs": [
    {
     "data": {
      "text/html": [
       "<div>\n",
       "<style scoped>\n",
       "    .dataframe tbody tr th:only-of-type {\n",
       "        vertical-align: middle;\n",
       "    }\n",
       "\n",
       "    .dataframe tbody tr th {\n",
       "        vertical-align: top;\n",
       "    }\n",
       "\n",
       "    .dataframe thead th {\n",
       "        text-align: right;\n",
       "    }\n",
       "</style>\n",
       "<table border=\"1\" class=\"dataframe\">\n",
       "  <thead>\n",
       "    <tr style=\"text-align: right;\">\n",
       "      <th></th>\n",
       "      <th>Ticker symbol</th>\n",
       "      <th>Security</th>\n",
       "      <th>SEC filings</th>\n",
       "      <th>GICS Sector</th>\n",
       "      <th>GICS Sub Industry</th>\n",
       "      <th>Address of Headquarters</th>\n",
       "      <th>Date first added</th>\n",
       "      <th>CIK</th>\n",
       "    </tr>\n",
       "  </thead>\n",
       "  <tbody>\n",
       "    <tr>\n",
       "      <th>0</th>\n",
       "      <td>MMM</td>\n",
       "      <td>3M Company</td>\n",
       "      <td>reports</td>\n",
       "      <td>Industrials</td>\n",
       "      <td>Industrial Conglomerates</td>\n",
       "      <td>St. Paul, Minnesota</td>\n",
       "      <td>NaN</td>\n",
       "      <td>66740</td>\n",
       "    </tr>\n",
       "    <tr>\n",
       "      <th>1</th>\n",
       "      <td>ABT</td>\n",
       "      <td>Abbott Laboratories</td>\n",
       "      <td>reports</td>\n",
       "      <td>Health Care</td>\n",
       "      <td>Health Care Equipment</td>\n",
       "      <td>North Chicago, Illinois</td>\n",
       "      <td>1964-03-31</td>\n",
       "      <td>1800</td>\n",
       "    </tr>\n",
       "    <tr>\n",
       "      <th>2</th>\n",
       "      <td>ABBV</td>\n",
       "      <td>AbbVie</td>\n",
       "      <td>reports</td>\n",
       "      <td>Health Care</td>\n",
       "      <td>Pharmaceuticals</td>\n",
       "      <td>North Chicago, Illinois</td>\n",
       "      <td>2012-12-31</td>\n",
       "      <td>1551152</td>\n",
       "    </tr>\n",
       "    <tr>\n",
       "      <th>3</th>\n",
       "      <td>ACN</td>\n",
       "      <td>Accenture plc</td>\n",
       "      <td>reports</td>\n",
       "      <td>Information Technology</td>\n",
       "      <td>IT Consulting &amp; Other Services</td>\n",
       "      <td>Dublin, Ireland</td>\n",
       "      <td>2011-07-06</td>\n",
       "      <td>1467373</td>\n",
       "    </tr>\n",
       "    <tr>\n",
       "      <th>4</th>\n",
       "      <td>ATVI</td>\n",
       "      <td>Activision Blizzard</td>\n",
       "      <td>reports</td>\n",
       "      <td>Information Technology</td>\n",
       "      <td>Home Entertainment Software</td>\n",
       "      <td>Santa Monica, California</td>\n",
       "      <td>2015-08-31</td>\n",
       "      <td>718877</td>\n",
       "    </tr>\n",
       "    <tr>\n",
       "      <th>...</th>\n",
       "      <td>...</td>\n",
       "      <td>...</td>\n",
       "      <td>...</td>\n",
       "      <td>...</td>\n",
       "      <td>...</td>\n",
       "      <td>...</td>\n",
       "      <td>...</td>\n",
       "      <td>...</td>\n",
       "    </tr>\n",
       "    <tr>\n",
       "      <th>500</th>\n",
       "      <td>YHOO</td>\n",
       "      <td>Yahoo Inc.</td>\n",
       "      <td>reports</td>\n",
       "      <td>Information Technology</td>\n",
       "      <td>Internet Software &amp; Services</td>\n",
       "      <td>Sunnyvale, California</td>\n",
       "      <td>NaN</td>\n",
       "      <td>1011006</td>\n",
       "    </tr>\n",
       "    <tr>\n",
       "      <th>501</th>\n",
       "      <td>YUM</td>\n",
       "      <td>Yum! Brands Inc</td>\n",
       "      <td>reports</td>\n",
       "      <td>Consumer Discretionary</td>\n",
       "      <td>Restaurants</td>\n",
       "      <td>Louisville, Kentucky</td>\n",
       "      <td>1997-10-06</td>\n",
       "      <td>1041061</td>\n",
       "    </tr>\n",
       "    <tr>\n",
       "      <th>502</th>\n",
       "      <td>ZBH</td>\n",
       "      <td>Zimmer Biomet Holdings</td>\n",
       "      <td>reports</td>\n",
       "      <td>Health Care</td>\n",
       "      <td>Health Care Equipment</td>\n",
       "      <td>Warsaw, Indiana</td>\n",
       "      <td>NaN</td>\n",
       "      <td>1136869</td>\n",
       "    </tr>\n",
       "    <tr>\n",
       "      <th>503</th>\n",
       "      <td>ZION</td>\n",
       "      <td>Zions Bancorp</td>\n",
       "      <td>reports</td>\n",
       "      <td>Financials</td>\n",
       "      <td>Regional Banks</td>\n",
       "      <td>Salt Lake City, Utah</td>\n",
       "      <td>NaN</td>\n",
       "      <td>109380</td>\n",
       "    </tr>\n",
       "    <tr>\n",
       "      <th>504</th>\n",
       "      <td>ZTS</td>\n",
       "      <td>Zoetis</td>\n",
       "      <td>reports</td>\n",
       "      <td>Health Care</td>\n",
       "      <td>Pharmaceuticals</td>\n",
       "      <td>Florham Park, New Jersey</td>\n",
       "      <td>2013-06-21</td>\n",
       "      <td>1555280</td>\n",
       "    </tr>\n",
       "  </tbody>\n",
       "</table>\n",
       "<p>505 rows × 8 columns</p>\n",
       "</div>"
      ],
      "text/plain": [
       "    Ticker symbol                Security SEC filings             GICS Sector  \\\n",
       "0             MMM              3M Company     reports             Industrials   \n",
       "1             ABT     Abbott Laboratories     reports             Health Care   \n",
       "2            ABBV                  AbbVie     reports             Health Care   \n",
       "3             ACN           Accenture plc     reports  Information Technology   \n",
       "4            ATVI     Activision Blizzard     reports  Information Technology   \n",
       "..            ...                     ...         ...                     ...   \n",
       "500          YHOO              Yahoo Inc.     reports  Information Technology   \n",
       "501           YUM         Yum! Brands Inc     reports  Consumer Discretionary   \n",
       "502           ZBH  Zimmer Biomet Holdings     reports             Health Care   \n",
       "503          ZION           Zions Bancorp     reports              Financials   \n",
       "504           ZTS                  Zoetis     reports             Health Care   \n",
       "\n",
       "                  GICS Sub Industry   Address of Headquarters  \\\n",
       "0          Industrial Conglomerates       St. Paul, Minnesota   \n",
       "1             Health Care Equipment   North Chicago, Illinois   \n",
       "2                   Pharmaceuticals   North Chicago, Illinois   \n",
       "3    IT Consulting & Other Services           Dublin, Ireland   \n",
       "4       Home Entertainment Software  Santa Monica, California   \n",
       "..                              ...                       ...   \n",
       "500    Internet Software & Services     Sunnyvale, California   \n",
       "501                     Restaurants      Louisville, Kentucky   \n",
       "502           Health Care Equipment           Warsaw, Indiana   \n",
       "503                  Regional Banks      Salt Lake City, Utah   \n",
       "504                 Pharmaceuticals  Florham Park, New Jersey   \n",
       "\n",
       "    Date first added      CIK  \n",
       "0                NaN    66740  \n",
       "1         1964-03-31     1800  \n",
       "2         2012-12-31  1551152  \n",
       "3         2011-07-06  1467373  \n",
       "4         2015-08-31   718877  \n",
       "..               ...      ...  \n",
       "500              NaN  1011006  \n",
       "501       1997-10-06  1041061  \n",
       "502              NaN  1136869  \n",
       "503              NaN   109380  \n",
       "504       2013-06-21  1555280  \n",
       "\n",
       "[505 rows x 8 columns]"
      ]
     },
     "execution_count": 9,
     "metadata": {},
     "output_type": "execute_result"
    }
   ],
   "source": [
    "securities = pd.read_csv('securities.csv')\n",
    "securities"
   ]
  },
  {
   "cell_type": "code",
   "execution_count": 10,
   "id": "d7b830b4-f1e5-4a05-91f5-17f52296e0b7",
   "metadata": {},
   "outputs": [
    {
     "data": {
      "text/html": [
       "<div>\n",
       "<style scoped>\n",
       "    .dataframe tbody tr th:only-of-type {\n",
       "        vertical-align: middle;\n",
       "    }\n",
       "\n",
       "    .dataframe tbody tr th {\n",
       "        vertical-align: top;\n",
       "    }\n",
       "\n",
       "    .dataframe thead th {\n",
       "        text-align: right;\n",
       "    }\n",
       "</style>\n",
       "<table border=\"1\" class=\"dataframe\">\n",
       "  <thead>\n",
       "    <tr style=\"text-align: right;\">\n",
       "      <th></th>\n",
       "      <th>variable</th>\n",
       "      <th>mean</th>\n",
       "      <th>std_dev</th>\n",
       "      <th>variation_coef</th>\n",
       "      <th>p_0.01</th>\n",
       "      <th>p_0.05</th>\n",
       "      <th>p_0.25</th>\n",
       "      <th>p_0.5</th>\n",
       "      <th>p_0.75</th>\n",
       "      <th>p_0.95</th>\n",
       "      <th>p_0.99</th>\n",
       "    </tr>\n",
       "  </thead>\n",
       "  <tbody>\n",
       "    <tr>\n",
       "      <th>0</th>\n",
       "      <td>CIK</td>\n",
       "      <td>707448.966337</td>\n",
       "      <td>514437.49491</td>\n",
       "      <td>0.727173</td>\n",
       "      <td>4906.32</td>\n",
       "      <td>15100.8</td>\n",
       "      <td>86312.0</td>\n",
       "      <td>831001.0</td>\n",
       "      <td>1075531.0</td>\n",
       "      <td>1523844.0</td>\n",
       "      <td>1635938.76</td>\n",
       "    </tr>\n",
       "  </tbody>\n",
       "</table>\n",
       "</div>"
      ],
      "text/plain": [
       "  variable           mean       std_dev  variation_coef   p_0.01   p_0.05  \\\n",
       "0      CIK  707448.966337  514437.49491        0.727173  4906.32  15100.8   \n",
       "\n",
       "    p_0.25     p_0.5     p_0.75     p_0.95      p_0.99  \n",
       "0  86312.0  831001.0  1075531.0  1523844.0  1635938.76  "
      ]
     },
     "execution_count": 10,
     "metadata": {},
     "output_type": "execute_result"
    }
   ],
   "source": [
    "profiling_num(securities)"
   ]
  },
  {
   "cell_type": "code",
   "execution_count": 12,
   "id": "2b1c1392-e89a-4317-a024-2c9d38039cf8",
   "metadata": {},
   "outputs": [
    {
     "data": {
      "text/html": [
       "<div>\n",
       "<style scoped>\n",
       "    .dataframe tbody tr th:only-of-type {\n",
       "        vertical-align: middle;\n",
       "    }\n",
       "\n",
       "    .dataframe tbody tr th {\n",
       "        vertical-align: top;\n",
       "    }\n",
       "\n",
       "    .dataframe thead th {\n",
       "        text-align: right;\n",
       "    }\n",
       "</style>\n",
       "<table border=\"1\" class=\"dataframe\">\n",
       "  <thead>\n",
       "    <tr style=\"text-align: right;\">\n",
       "      <th></th>\n",
       "      <th>CIK</th>\n",
       "    </tr>\n",
       "  </thead>\n",
       "  <tbody>\n",
       "    <tr>\n",
       "      <th>count</th>\n",
       "      <td>5.050000e+02</td>\n",
       "    </tr>\n",
       "    <tr>\n",
       "      <th>mean</th>\n",
       "      <td>7.074490e+05</td>\n",
       "    </tr>\n",
       "    <tr>\n",
       "      <th>std</th>\n",
       "      <td>5.144375e+05</td>\n",
       "    </tr>\n",
       "    <tr>\n",
       "      <th>min</th>\n",
       "      <td>1.800000e+03</td>\n",
       "    </tr>\n",
       "    <tr>\n",
       "      <th>25%</th>\n",
       "      <td>8.631200e+04</td>\n",
       "    </tr>\n",
       "    <tr>\n",
       "      <th>50%</th>\n",
       "      <td>8.310010e+05</td>\n",
       "    </tr>\n",
       "    <tr>\n",
       "      <th>75%</th>\n",
       "      <td>1.075531e+06</td>\n",
       "    </tr>\n",
       "    <tr>\n",
       "      <th>max</th>\n",
       "      <td>1.659166e+06</td>\n",
       "    </tr>\n",
       "  </tbody>\n",
       "</table>\n",
       "</div>"
      ],
      "text/plain": [
       "                CIK\n",
       "count  5.050000e+02\n",
       "mean   7.074490e+05\n",
       "std    5.144375e+05\n",
       "min    1.800000e+03\n",
       "25%    8.631200e+04\n",
       "50%    8.310010e+05\n",
       "75%    1.075531e+06\n",
       "max    1.659166e+06"
      ]
     },
     "execution_count": 12,
     "metadata": {},
     "output_type": "execute_result"
    }
   ],
   "source": [
    "securities.describe()"
   ]
  },
  {
   "cell_type": "code",
   "execution_count": 82,
   "id": "26af3b43-c5fb-4e5d-84b5-ebe816d9fc66",
   "metadata": {},
   "outputs": [
    {
     "data": {
      "text/html": [
       "<div>\n",
       "<style scoped>\n",
       "    .dataframe tbody tr th:only-of-type {\n",
       "        vertical-align: middle;\n",
       "    }\n",
       "\n",
       "    .dataframe tbody tr th {\n",
       "        vertical-align: top;\n",
       "    }\n",
       "\n",
       "    .dataframe thead th {\n",
       "        text-align: right;\n",
       "    }\n",
       "</style>\n",
       "<table border=\"1\" class=\"dataframe\">\n",
       "  <thead>\n",
       "    <tr style=\"text-align: right;\">\n",
       "      <th></th>\n",
       "      <th>Ticker symbol</th>\n",
       "    </tr>\n",
       "    <tr>\n",
       "      <th>GICS Sector</th>\n",
       "      <th></th>\n",
       "    </tr>\n",
       "  </thead>\n",
       "  <tbody>\n",
       "    <tr>\n",
       "      <th>Consumer Discretionary</th>\n",
       "      <td>85</td>\n",
       "    </tr>\n",
       "    <tr>\n",
       "      <th>Consumer Staples</th>\n",
       "      <td>37</td>\n",
       "    </tr>\n",
       "    <tr>\n",
       "      <th>Energy</th>\n",
       "      <td>36</td>\n",
       "    </tr>\n",
       "    <tr>\n",
       "      <th>Financials</th>\n",
       "      <td>64</td>\n",
       "    </tr>\n",
       "    <tr>\n",
       "      <th>Health Care</th>\n",
       "      <td>59</td>\n",
       "    </tr>\n",
       "    <tr>\n",
       "      <th>Industrials</th>\n",
       "      <td>69</td>\n",
       "    </tr>\n",
       "    <tr>\n",
       "      <th>Information Technology</th>\n",
       "      <td>68</td>\n",
       "    </tr>\n",
       "    <tr>\n",
       "      <th>Materials</th>\n",
       "      <td>25</td>\n",
       "    </tr>\n",
       "    <tr>\n",
       "      <th>Real Estate</th>\n",
       "      <td>29</td>\n",
       "    </tr>\n",
       "    <tr>\n",
       "      <th>Telecommunications Services</th>\n",
       "      <td>5</td>\n",
       "    </tr>\n",
       "    <tr>\n",
       "      <th>Utilities</th>\n",
       "      <td>28</td>\n",
       "    </tr>\n",
       "  </tbody>\n",
       "</table>\n",
       "</div>"
      ],
      "text/plain": [
       "                             Ticker symbol\n",
       "GICS Sector                               \n",
       "Consumer Discretionary                  85\n",
       "Consumer Staples                        37\n",
       "Energy                                  36\n",
       "Financials                              64\n",
       "Health Care                             59\n",
       "Industrials                             69\n",
       "Information Technology                  68\n",
       "Materials                               25\n",
       "Real Estate                             29\n",
       "Telecommunications Services              5\n",
       "Utilities                               28"
      ]
     },
     "execution_count": 82,
     "metadata": {},
     "output_type": "execute_result"
    }
   ],
   "source": [
    "df_prueba = df[['GICS Sector','Ticker symbol']]\n",
    "df2 = df_prueba.groupby('GICS Sector').agg('count')\n",
    "#pie_borough = pie_borough.rename(columns={'DATE': 'Frecuencia'})\n",
    "df2"
   ]
  },
  {
   "cell_type": "code",
   "execution_count": 19,
   "id": "fb3e8054-30a0-4446-8622-6f44882812dd",
   "metadata": {},
   "outputs": [],
   "source": [
    "labels = df2.index"
   ]
  },
  {
   "cell_type": "code",
   "execution_count": 20,
   "id": "69ba87dd-b896-40e4-92dc-f05d8dee6f3c",
   "metadata": {},
   "outputs": [
    {
     "name": "stdout",
     "output_type": "stream",
     "text": [
      "Index(['Consumer Discretionary', 'Consumer Staples', 'Energy', 'Financials',\n",
      "       'Health Care', 'Industrials', 'Information Technology', 'Materials',\n",
      "       'Real Estate', 'Telecommunications Services', 'Utilities'],\n",
      "      dtype='object', name='GICS Sector')\n"
     ]
    }
   ],
   "source": [
    "print(labels)"
   ]
  },
  {
   "cell_type": "code",
   "execution_count": 30,
   "id": "73763bc3-a4e1-4290-a25a-4f184a028643",
   "metadata": {},
   "outputs": [
    {
     "data": {
      "text/html": [
       "<div>\n",
       "<style scoped>\n",
       "    .dataframe tbody tr th:only-of-type {\n",
       "        vertical-align: middle;\n",
       "    }\n",
       "\n",
       "    .dataframe tbody tr th {\n",
       "        vertical-align: top;\n",
       "    }\n",
       "\n",
       "    .dataframe thead th {\n",
       "        text-align: right;\n",
       "    }\n",
       "</style>\n",
       "<table border=\"1\" class=\"dataframe\">\n",
       "  <thead>\n",
       "    <tr style=\"text-align: right;\">\n",
       "      <th></th>\n",
       "      <th>Ticker symbol</th>\n",
       "    </tr>\n",
       "    <tr>\n",
       "      <th>GICS Sector</th>\n",
       "      <th></th>\n",
       "    </tr>\n",
       "  </thead>\n",
       "  <tbody>\n",
       "    <tr>\n",
       "      <th>Consumer Discretionary</th>\n",
       "      <td>85</td>\n",
       "    </tr>\n",
       "    <tr>\n",
       "      <th>Consumer Staples</th>\n",
       "      <td>37</td>\n",
       "    </tr>\n",
       "    <tr>\n",
       "      <th>Energy</th>\n",
       "      <td>36</td>\n",
       "    </tr>\n",
       "    <tr>\n",
       "      <th>Financials</th>\n",
       "      <td>64</td>\n",
       "    </tr>\n",
       "    <tr>\n",
       "      <th>Health Care</th>\n",
       "      <td>59</td>\n",
       "    </tr>\n",
       "    <tr>\n",
       "      <th>Industrials</th>\n",
       "      <td>69</td>\n",
       "    </tr>\n",
       "    <tr>\n",
       "      <th>Information Technology</th>\n",
       "      <td>68</td>\n",
       "    </tr>\n",
       "    <tr>\n",
       "      <th>Materials</th>\n",
       "      <td>25</td>\n",
       "    </tr>\n",
       "    <tr>\n",
       "      <th>Real Estate</th>\n",
       "      <td>29</td>\n",
       "    </tr>\n",
       "    <tr>\n",
       "      <th>Telecommunications Services</th>\n",
       "      <td>5</td>\n",
       "    </tr>\n",
       "    <tr>\n",
       "      <th>Utilities</th>\n",
       "      <td>28</td>\n",
       "    </tr>\n",
       "  </tbody>\n",
       "</table>\n",
       "</div>"
      ],
      "text/plain": [
       "                             Ticker symbol\n",
       "GICS Sector                               \n",
       "Consumer Discretionary                  85\n",
       "Consumer Staples                        37\n",
       "Energy                                  36\n",
       "Financials                              64\n",
       "Health Care                             59\n",
       "Industrials                             69\n",
       "Information Technology                  68\n",
       "Materials                               25\n",
       "Real Estate                             29\n",
       "Telecommunications Services              5\n",
       "Utilities                               28"
      ]
     },
     "execution_count": 30,
     "metadata": {},
     "output_type": "execute_result"
    }
   ],
   "source": [
    "df2 = df_prueba.groupby('GICS Sector').agg('count')\n",
    "df2"
   ]
  },
  {
   "cell_type": "code",
   "execution_count": 83,
   "id": "6feadef8-3516-4fad-bac5-a424ba5db2ce",
   "metadata": {},
   "outputs": [
    {
     "data": {
      "application/vnd.plotly.v1+json": {
       "config": {
        "plotlyServerURL": "https://plot.ly"
       },
       "data": [
        {
         "domain": {
          "x": [
           0,
           1
          ],
          "y": [
           0,
           1
          ]
         },
         "hovertemplate": "GICS Sector=%{label}<br>Ticker symbol=%{value}<extra></extra>",
         "labels": [
          "Consumer Discretionary",
          "Consumer Staples",
          "Energy",
          "Financials",
          "Health Care",
          "Industrials",
          "Information Technology",
          "Materials",
          "Real Estate",
          "Telecommunications Services",
          "Utilities"
         ],
         "legendgroup": "",
         "name": "",
         "showlegend": true,
         "type": "pie",
         "values": [
          85,
          37,
          36,
          64,
          59,
          69,
          68,
          25,
          29,
          5,
          28
         ]
        }
       ],
       "layout": {
        "autosize": true,
        "legend": {
         "tracegroupgap": 0
        },
        "template": {
         "data": {
          "bar": [
           {
            "error_x": {
             "color": "#2a3f5f"
            },
            "error_y": {
             "color": "#2a3f5f"
            },
            "marker": {
             "line": {
              "color": "#E5ECF6",
              "width": 0.5
             },
             "pattern": {
              "fillmode": "overlay",
              "size": 10,
              "solidity": 0.2
             }
            },
            "type": "bar"
           }
          ],
          "barpolar": [
           {
            "marker": {
             "line": {
              "color": "#E5ECF6",
              "width": 0.5
             },
             "pattern": {
              "fillmode": "overlay",
              "size": 10,
              "solidity": 0.2
             }
            },
            "type": "barpolar"
           }
          ],
          "carpet": [
           {
            "aaxis": {
             "endlinecolor": "#2a3f5f",
             "gridcolor": "white",
             "linecolor": "white",
             "minorgridcolor": "white",
             "startlinecolor": "#2a3f5f"
            },
            "baxis": {
             "endlinecolor": "#2a3f5f",
             "gridcolor": "white",
             "linecolor": "white",
             "minorgridcolor": "white",
             "startlinecolor": "#2a3f5f"
            },
            "type": "carpet"
           }
          ],
          "choropleth": [
           {
            "colorbar": {
             "outlinewidth": 0,
             "ticks": ""
            },
            "type": "choropleth"
           }
          ],
          "contour": [
           {
            "colorbar": {
             "outlinewidth": 0,
             "ticks": ""
            },
            "colorscale": [
             [
              0,
              "#0d0887"
             ],
             [
              0.1111111111111111,
              "#46039f"
             ],
             [
              0.2222222222222222,
              "#7201a8"
             ],
             [
              0.3333333333333333,
              "#9c179e"
             ],
             [
              0.4444444444444444,
              "#bd3786"
             ],
             [
              0.5555555555555556,
              "#d8576b"
             ],
             [
              0.6666666666666666,
              "#ed7953"
             ],
             [
              0.7777777777777778,
              "#fb9f3a"
             ],
             [
              0.8888888888888888,
              "#fdca26"
             ],
             [
              1,
              "#f0f921"
             ]
            ],
            "type": "contour"
           }
          ],
          "contourcarpet": [
           {
            "colorbar": {
             "outlinewidth": 0,
             "ticks": ""
            },
            "type": "contourcarpet"
           }
          ],
          "heatmap": [
           {
            "colorbar": {
             "outlinewidth": 0,
             "ticks": ""
            },
            "colorscale": [
             [
              0,
              "#0d0887"
             ],
             [
              0.1111111111111111,
              "#46039f"
             ],
             [
              0.2222222222222222,
              "#7201a8"
             ],
             [
              0.3333333333333333,
              "#9c179e"
             ],
             [
              0.4444444444444444,
              "#bd3786"
             ],
             [
              0.5555555555555556,
              "#d8576b"
             ],
             [
              0.6666666666666666,
              "#ed7953"
             ],
             [
              0.7777777777777778,
              "#fb9f3a"
             ],
             [
              0.8888888888888888,
              "#fdca26"
             ],
             [
              1,
              "#f0f921"
             ]
            ],
            "type": "heatmap"
           }
          ],
          "heatmapgl": [
           {
            "colorbar": {
             "outlinewidth": 0,
             "ticks": ""
            },
            "colorscale": [
             [
              0,
              "#0d0887"
             ],
             [
              0.1111111111111111,
              "#46039f"
             ],
             [
              0.2222222222222222,
              "#7201a8"
             ],
             [
              0.3333333333333333,
              "#9c179e"
             ],
             [
              0.4444444444444444,
              "#bd3786"
             ],
             [
              0.5555555555555556,
              "#d8576b"
             ],
             [
              0.6666666666666666,
              "#ed7953"
             ],
             [
              0.7777777777777778,
              "#fb9f3a"
             ],
             [
              0.8888888888888888,
              "#fdca26"
             ],
             [
              1,
              "#f0f921"
             ]
            ],
            "type": "heatmapgl"
           }
          ],
          "histogram": [
           {
            "marker": {
             "pattern": {
              "fillmode": "overlay",
              "size": 10,
              "solidity": 0.2
             }
            },
            "type": "histogram"
           }
          ],
          "histogram2d": [
           {
            "colorbar": {
             "outlinewidth": 0,
             "ticks": ""
            },
            "colorscale": [
             [
              0,
              "#0d0887"
             ],
             [
              0.1111111111111111,
              "#46039f"
             ],
             [
              0.2222222222222222,
              "#7201a8"
             ],
             [
              0.3333333333333333,
              "#9c179e"
             ],
             [
              0.4444444444444444,
              "#bd3786"
             ],
             [
              0.5555555555555556,
              "#d8576b"
             ],
             [
              0.6666666666666666,
              "#ed7953"
             ],
             [
              0.7777777777777778,
              "#fb9f3a"
             ],
             [
              0.8888888888888888,
              "#fdca26"
             ],
             [
              1,
              "#f0f921"
             ]
            ],
            "type": "histogram2d"
           }
          ],
          "histogram2dcontour": [
           {
            "colorbar": {
             "outlinewidth": 0,
             "ticks": ""
            },
            "colorscale": [
             [
              0,
              "#0d0887"
             ],
             [
              0.1111111111111111,
              "#46039f"
             ],
             [
              0.2222222222222222,
              "#7201a8"
             ],
             [
              0.3333333333333333,
              "#9c179e"
             ],
             [
              0.4444444444444444,
              "#bd3786"
             ],
             [
              0.5555555555555556,
              "#d8576b"
             ],
             [
              0.6666666666666666,
              "#ed7953"
             ],
             [
              0.7777777777777778,
              "#fb9f3a"
             ],
             [
              0.8888888888888888,
              "#fdca26"
             ],
             [
              1,
              "#f0f921"
             ]
            ],
            "type": "histogram2dcontour"
           }
          ],
          "mesh3d": [
           {
            "colorbar": {
             "outlinewidth": 0,
             "ticks": ""
            },
            "type": "mesh3d"
           }
          ],
          "parcoords": [
           {
            "line": {
             "colorbar": {
              "outlinewidth": 0,
              "ticks": ""
             }
            },
            "type": "parcoords"
           }
          ],
          "pie": [
           {
            "automargin": true,
            "type": "pie"
           }
          ],
          "scatter": [
           {
            "fillpattern": {
             "fillmode": "overlay",
             "size": 10,
             "solidity": 0.2
            },
            "type": "scatter"
           }
          ],
          "scatter3d": [
           {
            "line": {
             "colorbar": {
              "outlinewidth": 0,
              "ticks": ""
             }
            },
            "marker": {
             "colorbar": {
              "outlinewidth": 0,
              "ticks": ""
             }
            },
            "type": "scatter3d"
           }
          ],
          "scattercarpet": [
           {
            "marker": {
             "colorbar": {
              "outlinewidth": 0,
              "ticks": ""
             }
            },
            "type": "scattercarpet"
           }
          ],
          "scattergeo": [
           {
            "marker": {
             "colorbar": {
              "outlinewidth": 0,
              "ticks": ""
             }
            },
            "type": "scattergeo"
           }
          ],
          "scattergl": [
           {
            "marker": {
             "colorbar": {
              "outlinewidth": 0,
              "ticks": ""
             }
            },
            "type": "scattergl"
           }
          ],
          "scattermapbox": [
           {
            "marker": {
             "colorbar": {
              "outlinewidth": 0,
              "ticks": ""
             }
            },
            "type": "scattermapbox"
           }
          ],
          "scatterpolar": [
           {
            "marker": {
             "colorbar": {
              "outlinewidth": 0,
              "ticks": ""
             }
            },
            "type": "scatterpolar"
           }
          ],
          "scatterpolargl": [
           {
            "marker": {
             "colorbar": {
              "outlinewidth": 0,
              "ticks": ""
             }
            },
            "type": "scatterpolargl"
           }
          ],
          "scatterternary": [
           {
            "marker": {
             "colorbar": {
              "outlinewidth": 0,
              "ticks": ""
             }
            },
            "type": "scatterternary"
           }
          ],
          "surface": [
           {
            "colorbar": {
             "outlinewidth": 0,
             "ticks": ""
            },
            "colorscale": [
             [
              0,
              "#0d0887"
             ],
             [
              0.1111111111111111,
              "#46039f"
             ],
             [
              0.2222222222222222,
              "#7201a8"
             ],
             [
              0.3333333333333333,
              "#9c179e"
             ],
             [
              0.4444444444444444,
              "#bd3786"
             ],
             [
              0.5555555555555556,
              "#d8576b"
             ],
             [
              0.6666666666666666,
              "#ed7953"
             ],
             [
              0.7777777777777778,
              "#fb9f3a"
             ],
             [
              0.8888888888888888,
              "#fdca26"
             ],
             [
              1,
              "#f0f921"
             ]
            ],
            "type": "surface"
           }
          ],
          "table": [
           {
            "cells": {
             "fill": {
              "color": "#EBF0F8"
             },
             "line": {
              "color": "white"
             }
            },
            "header": {
             "fill": {
              "color": "#C8D4E3"
             },
             "line": {
              "color": "white"
             }
            },
            "type": "table"
           }
          ]
         },
         "layout": {
          "annotationdefaults": {
           "arrowcolor": "#2a3f5f",
           "arrowhead": 0,
           "arrowwidth": 1
          },
          "autotypenumbers": "strict",
          "coloraxis": {
           "colorbar": {
            "outlinewidth": 0,
            "ticks": ""
           }
          },
          "colorscale": {
           "diverging": [
            [
             0,
             "#8e0152"
            ],
            [
             0.1,
             "#c51b7d"
            ],
            [
             0.2,
             "#de77ae"
            ],
            [
             0.3,
             "#f1b6da"
            ],
            [
             0.4,
             "#fde0ef"
            ],
            [
             0.5,
             "#f7f7f7"
            ],
            [
             0.6,
             "#e6f5d0"
            ],
            [
             0.7,
             "#b8e186"
            ],
            [
             0.8,
             "#7fbc41"
            ],
            [
             0.9,
             "#4d9221"
            ],
            [
             1,
             "#276419"
            ]
           ],
           "sequential": [
            [
             0,
             "#0d0887"
            ],
            [
             0.1111111111111111,
             "#46039f"
            ],
            [
             0.2222222222222222,
             "#7201a8"
            ],
            [
             0.3333333333333333,
             "#9c179e"
            ],
            [
             0.4444444444444444,
             "#bd3786"
            ],
            [
             0.5555555555555556,
             "#d8576b"
            ],
            [
             0.6666666666666666,
             "#ed7953"
            ],
            [
             0.7777777777777778,
             "#fb9f3a"
            ],
            [
             0.8888888888888888,
             "#fdca26"
            ],
            [
             1,
             "#f0f921"
            ]
           ],
           "sequentialminus": [
            [
             0,
             "#0d0887"
            ],
            [
             0.1111111111111111,
             "#46039f"
            ],
            [
             0.2222222222222222,
             "#7201a8"
            ],
            [
             0.3333333333333333,
             "#9c179e"
            ],
            [
             0.4444444444444444,
             "#bd3786"
            ],
            [
             0.5555555555555556,
             "#d8576b"
            ],
            [
             0.6666666666666666,
             "#ed7953"
            ],
            [
             0.7777777777777778,
             "#fb9f3a"
            ],
            [
             0.8888888888888888,
             "#fdca26"
            ],
            [
             1,
             "#f0f921"
            ]
           ]
          },
          "colorway": [
           "#636efa",
           "#EF553B",
           "#00cc96",
           "#ab63fa",
           "#FFA15A",
           "#19d3f3",
           "#FF6692",
           "#B6E880",
           "#FF97FF",
           "#FECB52"
          ],
          "font": {
           "color": "#2a3f5f"
          },
          "geo": {
           "bgcolor": "white",
           "lakecolor": "white",
           "landcolor": "#E5ECF6",
           "showlakes": true,
           "showland": true,
           "subunitcolor": "white"
          },
          "hoverlabel": {
           "align": "left"
          },
          "hovermode": "closest",
          "mapbox": {
           "style": "light"
          },
          "paper_bgcolor": "white",
          "plot_bgcolor": "#E5ECF6",
          "polar": {
           "angularaxis": {
            "gridcolor": "white",
            "linecolor": "white",
            "ticks": ""
           },
           "bgcolor": "#E5ECF6",
           "radialaxis": {
            "gridcolor": "white",
            "linecolor": "white",
            "ticks": ""
           }
          },
          "scene": {
           "xaxis": {
            "backgroundcolor": "#E5ECF6",
            "gridcolor": "white",
            "gridwidth": 2,
            "linecolor": "white",
            "showbackground": true,
            "ticks": "",
            "zerolinecolor": "white"
           },
           "yaxis": {
            "backgroundcolor": "#E5ECF6",
            "gridcolor": "white",
            "gridwidth": 2,
            "linecolor": "white",
            "showbackground": true,
            "ticks": "",
            "zerolinecolor": "white"
           },
           "zaxis": {
            "backgroundcolor": "#E5ECF6",
            "gridcolor": "white",
            "gridwidth": 2,
            "linecolor": "white",
            "showbackground": true,
            "ticks": "",
            "zerolinecolor": "white"
           }
          },
          "shapedefaults": {
           "line": {
            "color": "#2a3f5f"
           }
          },
          "ternary": {
           "aaxis": {
            "gridcolor": "white",
            "linecolor": "white",
            "ticks": ""
           },
           "baxis": {
            "gridcolor": "white",
            "linecolor": "white",
            "ticks": ""
           },
           "bgcolor": "#E5ECF6",
           "caxis": {
            "gridcolor": "white",
            "linecolor": "white",
            "ticks": ""
           }
          },
          "title": {
           "x": 0.05
          },
          "xaxis": {
           "automargin": true,
           "gridcolor": "white",
           "linecolor": "white",
           "ticks": "",
           "title": {
            "standoff": 15
           },
           "zerolinecolor": "white",
           "zerolinewidth": 2
          },
          "yaxis": {
           "automargin": true,
           "gridcolor": "white",
           "linecolor": "white",
           "ticks": "",
           "title": {
            "standoff": 15
           },
           "zerolinecolor": "white",
           "zerolinewidth": 2
          }
         }
        },
        "title": {
         "text": "Piechart Boroughs"
        }
       }
      },
      "image/png": "[encoded data removed]",
      "text/html": [
       "<div>                            <div id=\"6ed34372-d228-42e6-96ad-37b09b754996\" class=\"plotly-graph-div\" style=\"height:525px; width:100%;\"></div>            <script type=\"text/javascript\">                require([\"plotly\"], function(Plotly) {                    window.PLOTLYENV=window.PLOTLYENV || {};                                    if (document.getElementById(\"6ed34372-d228-42e6-96ad-37b09b754996\")) {                    Plotly.newPlot(                        \"6ed34372-d228-42e6-96ad-37b09b754996\",                        [{\"domain\":{\"x\":[0.0,1.0],\"y\":[0.0,1.0]},\"hovertemplate\":\"GICS Sector=%{label}<br>Ticker symbol=%{value}<extra></extra>\",\"labels\":[\"Consumer Discretionary\",\"Consumer Staples\",\"Energy\",\"Financials\",\"Health Care\",\"Industrials\",\"Information Technology\",\"Materials\",\"Real Estate\",\"Telecommunications Services\",\"Utilities\"],\"legendgroup\":\"\",\"name\":\"\",\"showlegend\":true,\"values\":[85,37,36,64,59,69,68,25,29,5,28],\"type\":\"pie\"}],                        {\"template\":{\"data\":{\"histogram2dcontour\":[{\"type\":\"histogram2dcontour\",\"colorbar\":{\"outlinewidth\":0,\"ticks\":\"\"},\"colorscale\":[[0.0,\"#0d0887\"],[0.1111111111111111,\"#46039f\"],[0.2222222222222222,\"#7201a8\"],[0.3333333333333333,\"#9c179e\"],[0.4444444444444444,\"#bd3786\"],[0.5555555555555556,\"#d8576b\"],[0.6666666666666666,\"#ed7953\"],[0.7777777777777778,\"#fb9f3a\"],[0.8888888888888888,\"#fdca26\"],[1.0,\"#f0f921\"]]}],\"choropleth\":[{\"type\":\"choropleth\",\"colorbar\":{\"outlinewidth\":0,\"ticks\":\"\"}}],\"histogram2d\":[{\"type\":\"histogram2d\",\"colorbar\":{\"outlinewidth\":0,\"ticks\":\"\"},\"colorscale\":[[0.0,\"#0d0887\"],[0.1111111111111111,\"#46039f\"],[0.2222222222222222,\"#7201a8\"],[0.3333333333333333,\"#9c179e\"],[0.4444444444444444,\"#bd3786\"],[0.5555555555555556,\"#d8576b\"],[0.6666666666666666,\"#ed7953\"],[0.7777777777777778,\"#fb9f3a\"],[0.8888888888888888,\"#fdca26\"],[1.0,\"#f0f921\"]]}],\"heatmap\":[{\"type\":\"heatmap\",\"colorbar\":{\"outlinewidth\":0,\"ticks\":\"\"},\"colorscale\":[[0.0,\"#0d0887\"],[0.1111111111111111,\"#46039f\"],[0.2222222222222222,\"#7201a8\"],[0.3333333333333333,\"#9c179e\"],[0.4444444444444444,\"#bd3786\"],[0.5555555555555556,\"#d8576b\"],[0.6666666666666666,\"#ed7953\"],[0.7777777777777778,\"#fb9f3a\"],[0.8888888888888888,\"#fdca26\"],[1.0,\"#f0f921\"]]}],\"heatmapgl\":[{\"type\":\"heatmapgl\",\"colorbar\":{\"outlinewidth\":0,\"ticks\":\"\"},\"colorscale\":[[0.0,\"#0d0887\"],[0.1111111111111111,\"#46039f\"],[0.2222222222222222,\"#7201a8\"],[0.3333333333333333,\"#9c179e\"],[0.4444444444444444,\"#bd3786\"],[0.5555555555555556,\"#d8576b\"],[0.6666666666666666,\"#ed7953\"],[0.7777777777777778,\"#fb9f3a\"],[0.8888888888888888,\"#fdca26\"],[1.0,\"#f0f921\"]]}],\"contourcarpet\":[{\"type\":\"contourcarpet\",\"colorbar\":{\"outlinewidth\":0,\"ticks\":\"\"}}],\"contour\":[{\"type\":\"contour\",\"colorbar\":{\"outlinewidth\":0,\"ticks\":\"\"},\"colorscale\":[[0.0,\"#0d0887\"],[0.1111111111111111,\"#46039f\"],[0.2222222222222222,\"#7201a8\"],[0.3333333333333333,\"#9c179e\"],[0.4444444444444444,\"#bd3786\"],[0.5555555555555556,\"#d8576b\"],[0.6666666666666666,\"#ed7953\"],[0.7777777777777778,\"#fb9f3a\"],[0.8888888888888888,\"#fdca26\"],[1.0,\"#f0f921\"]]}],\"surface\":[{\"type\":\"surface\",\"colorbar\":{\"outlinewidth\":0,\"ticks\":\"\"},\"colorscale\":[[0.0,\"#0d0887\"],[0.1111111111111111,\"#46039f\"],[0.2222222222222222,\"#7201a8\"],[0.3333333333333333,\"#9c179e\"],[0.4444444444444444,\"#bd3786\"],[0.5555555555555556,\"#d8576b\"],[0.6666666666666666,\"#ed7953\"],[0.7777777777777778,\"#fb9f3a\"],[0.8888888888888888,\"#fdca26\"],[1.0,\"#f0f921\"]]}],\"mesh3d\":[{\"type\":\"mesh3d\",\"colorbar\":{\"outlinewidth\":0,\"ticks\":\"\"}}],\"scatter\":[{\"fillpattern\":{\"fillmode\":\"overlay\",\"size\":10,\"solidity\":0.2},\"type\":\"scatter\"}],\"parcoords\":[{\"type\":\"parcoords\",\"line\":{\"colorbar\":{\"outlinewidth\":0,\"ticks\":\"\"}}}],\"scatterpolargl\":[{\"type\":\"scatterpolargl\",\"marker\":{\"colorbar\":{\"outlinewidth\":0,\"ticks\":\"\"}}}],\"bar\":[{\"error_x\":{\"color\":\"#2a3f5f\"},\"error_y\":{\"color\":\"#2a3f5f\"},\"marker\":{\"line\":{\"color\":\"#E5ECF6\",\"width\":0.5},\"pattern\":{\"fillmode\":\"overlay\",\"size\":10,\"solidity\":0.2}},\"type\":\"bar\"}],\"scattergeo\":[{\"type\":\"scattergeo\",\"marker\":{\"colorbar\":{\"outlinewidth\":0,\"ticks\":\"\"}}}],\"scatterpolar\":[{\"type\":\"scatterpolar\",\"marker\":{\"colorbar\":{\"outlinewidth\":0,\"ticks\":\"\"}}}],\"histogram\":[{\"marker\":{\"pattern\":{\"fillmode\":\"overlay\",\"size\":10,\"solidity\":0.2}},\"type\":\"histogram\"}],\"scattergl\":[{\"type\":\"scattergl\",\"marker\":{\"colorbar\":{\"outlinewidth\":0,\"ticks\":\"\"}}}],\"scatter3d\":[{\"type\":\"scatter3d\",\"line\":{\"colorbar\":{\"outlinewidth\":0,\"ticks\":\"\"}},\"marker\":{\"colorbar\":{\"outlinewidth\":0,\"ticks\":\"\"}}}],\"scattermapbox\":[{\"type\":\"scattermapbox\",\"marker\":{\"colorbar\":{\"outlinewidth\":0,\"ticks\":\"\"}}}],\"scatterternary\":[{\"type\":\"scatterternary\",\"marker\":{\"colorbar\":{\"outlinewidth\":0,\"ticks\":\"\"}}}],\"scattercarpet\":[{\"type\":\"scattercarpet\",\"marker\":{\"colorbar\":{\"outlinewidth\":0,\"ticks\":\"\"}}}],\"carpet\":[{\"aaxis\":{\"endlinecolor\":\"#2a3f5f\",\"gridcolor\":\"white\",\"linecolor\":\"white\",\"minorgridcolor\":\"white\",\"startlinecolor\":\"#2a3f5f\"},\"baxis\":{\"endlinecolor\":\"#2a3f5f\",\"gridcolor\":\"white\",\"linecolor\":\"white\",\"minorgridcolor\":\"white\",\"startlinecolor\":\"#2a3f5f\"},\"type\":\"carpet\"}],\"table\":[{\"cells\":{\"fill\":{\"color\":\"#EBF0F8\"},\"line\":{\"color\":\"white\"}},\"header\":{\"fill\":{\"color\":\"#C8D4E3\"},\"line\":{\"color\":\"white\"}},\"type\":\"table\"}],\"barpolar\":[{\"marker\":{\"line\":{\"color\":\"#E5ECF6\",\"width\":0.5},\"pattern\":{\"fillmode\":\"overlay\",\"size\":10,\"solidity\":0.2}},\"type\":\"barpolar\"}],\"pie\":[{\"automargin\":true,\"type\":\"pie\"}]},\"layout\":{\"autotypenumbers\":\"strict\",\"colorway\":[\"#636efa\",\"#EF553B\",\"#00cc96\",\"#ab63fa\",\"#FFA15A\",\"#19d3f3\",\"#FF6692\",\"#B6E880\",\"#FF97FF\",\"#FECB52\"],\"font\":{\"color\":\"#2a3f5f\"},\"hovermode\":\"closest\",\"hoverlabel\":{\"align\":\"left\"},\"paper_bgcolor\":\"white\",\"plot_bgcolor\":\"#E5ECF6\",\"polar\":{\"bgcolor\":\"#E5ECF6\",\"angularaxis\":{\"gridcolor\":\"white\",\"linecolor\":\"white\",\"ticks\":\"\"},\"radialaxis\":{\"gridcolor\":\"white\",\"linecolor\":\"white\",\"ticks\":\"\"}},\"ternary\":{\"bgcolor\":\"#E5ECF6\",\"aaxis\":{\"gridcolor\":\"white\",\"linecolor\":\"white\",\"ticks\":\"\"},\"baxis\":{\"gridcolor\":\"white\",\"linecolor\":\"white\",\"ticks\":\"\"},\"caxis\":{\"gridcolor\":\"white\",\"linecolor\":\"white\",\"ticks\":\"\"}},\"coloraxis\":{\"colorbar\":{\"outlinewidth\":0,\"ticks\":\"\"}},\"colorscale\":{\"sequential\":[[0.0,\"#0d0887\"],[0.1111111111111111,\"#46039f\"],[0.2222222222222222,\"#7201a8\"],[0.3333333333333333,\"#9c179e\"],[0.4444444444444444,\"#bd3786\"],[0.5555555555555556,\"#d8576b\"],[0.6666666666666666,\"#ed7953\"],[0.7777777777777778,\"#fb9f3a\"],[0.8888888888888888,\"#fdca26\"],[1.0,\"#f0f921\"]],\"sequentialminus\":[[0.0,\"#0d0887\"],[0.1111111111111111,\"#46039f\"],[0.2222222222222222,\"#7201a8\"],[0.3333333333333333,\"#9c179e\"],[0.4444444444444444,\"#bd3786\"],[0.5555555555555556,\"#d8576b\"],[0.6666666666666666,\"#ed7953\"],[0.7777777777777778,\"#fb9f3a\"],[0.8888888888888888,\"#fdca26\"],[1.0,\"#f0f921\"]],\"diverging\":[[0,\"#8e0152\"],[0.1,\"#c51b7d\"],[0.2,\"#de77ae\"],[0.3,\"#f1b6da\"],[0.4,\"#fde0ef\"],[0.5,\"#f7f7f7\"],[0.6,\"#e6f5d0\"],[0.7,\"#b8e186\"],[0.8,\"#7fbc41\"],[0.9,\"#4d9221\"],[1,\"#276419\"]]},\"xaxis\":{\"gridcolor\":\"white\",\"linecolor\":\"white\",\"ticks\":\"\",\"title\":{\"standoff\":15},\"zerolinecolor\":\"white\",\"automargin\":true,\"zerolinewidth\":2},\"yaxis\":{\"gridcolor\":\"white\",\"linecolor\":\"white\",\"ticks\":\"\",\"title\":{\"standoff\":15},\"zerolinecolor\":\"white\",\"automargin\":true,\"zerolinewidth\":2},\"scene\":{\"xaxis\":{\"backgroundcolor\":\"#E5ECF6\",\"gridcolor\":\"white\",\"linecolor\":\"white\",\"showbackground\":true,\"ticks\":\"\",\"zerolinecolor\":\"white\",\"gridwidth\":2},\"yaxis\":{\"backgroundcolor\":\"#E5ECF6\",\"gridcolor\":\"white\",\"linecolor\":\"white\",\"showbackground\":true,\"ticks\":\"\",\"zerolinecolor\":\"white\",\"gridwidth\":2},\"zaxis\":{\"backgroundcolor\":\"#E5ECF6\",\"gridcolor\":\"white\",\"linecolor\":\"white\",\"showbackground\":true,\"ticks\":\"\",\"zerolinecolor\":\"white\",\"gridwidth\":2}},\"shapedefaults\":{\"line\":{\"color\":\"#2a3f5f\"}},\"annotationdefaults\":{\"arrowcolor\":\"#2a3f5f\",\"arrowhead\":0,\"arrowwidth\":1},\"geo\":{\"bgcolor\":\"white\",\"landcolor\":\"#E5ECF6\",\"subunitcolor\":\"white\",\"showland\":true,\"showlakes\":true,\"lakecolor\":\"white\"},\"title\":{\"x\":0.05},\"mapbox\":{\"style\":\"light\"}}},\"legend\":{\"tracegroupgap\":0},\"title\":{\"text\":\"Piechart Boroughs\"}},                        {\"responsive\": true}                    ).then(function(){\n",
       "                            \n",
       "var gd = document.getElementById('6ed34372-d228-42e6-96ad-37b09b754996');\n",
       "var x = new MutationObserver(function (mutations, observer) {{\n",
       "        var display = window.getComputedStyle(gd).display;\n",
       "        if (!display || display === 'none') {{\n",
       "            console.log([gd, 'removed!']);\n",
       "            Plotly.purge(gd);\n",
       "            observer.disconnect();\n",
       "        }}\n",
       "}});\n",
       "\n",
       "// Listen for the removal of the full notebook cells\n",
       "var notebookContainer = gd.closest('#notebook-container');\n",
       "if (notebookContainer) {{\n",
       "    x.observe(notebookContainer, {childList: true});\n",
       "}}\n",
       "\n",
       "// Listen for the clearing of the current output cell\n",
       "var outputEl = gd.closest('.output');\n",
       "if (outputEl) {{\n",
       "    x.observe(outputEl, {childList: true});\n",
       "}}\n",
       "\n",
       "                        })                };                });            </script>        </div>"
      ]
     },
     "metadata": {},
     "output_type": "display_data"
    }
   ],
   "source": [
    "df_prueba=df[['GICS Sector','Ticker symbol']]\n",
    "pie_borough = df_prueba.groupby('GICS Sector').agg('count')\n",
    "pie_borough\n",
    "\n",
    "import plotly.express as px\n",
    "fig = px.pie(pie_borough, values='Ticker symbol', \\\n",
    "             names=pie_borough.index, title='Piechart Boroughs')\n",
    "fig.show()"
   ]
  },
  {
   "cell_type": "markdown",
   "id": "677fa279-5085-42c3-a36d-d01ea07c866e",
   "metadata": {},
   "source": [
    "## Fundamentals (dataset)"
   ]
  },
  {
   "cell_type": "code",
   "execution_count": 14,
   "id": "575379a6-dc5d-4050-9ab1-f269eab90a0f",
   "metadata": {},
   "outputs": [
    {
     "data": {
      "text/html": [
       "<div>\n",
       "<style scoped>\n",
       "    .dataframe tbody tr th:only-of-type {\n",
       "        vertical-align: middle;\n",
       "    }\n",
       "\n",
       "    .dataframe tbody tr th {\n",
       "        vertical-align: top;\n",
       "    }\n",
       "\n",
       "    .dataframe thead th {\n",
       "        text-align: right;\n",
       "    }\n",
       "</style>\n",
       "<table border=\"1\" class=\"dataframe\">\n",
       "  <thead>\n",
       "    <tr style=\"text-align: right;\">\n",
       "      <th></th>\n",
       "      <th>Unnamed: 0</th>\n",
       "      <th>Ticker Symbol</th>\n",
       "      <th>Period Ending</th>\n",
       "      <th>Accounts Payable</th>\n",
       "      <th>Accounts Receivable</th>\n",
       "      <th>Add'l income/expense items</th>\n",
       "      <th>After Tax ROE</th>\n",
       "      <th>Capital Expenditures</th>\n",
       "      <th>Capital Surplus</th>\n",
       "      <th>Cash Ratio</th>\n",
       "      <th>...</th>\n",
       "      <th>Total Current Assets</th>\n",
       "      <th>Total Current Liabilities</th>\n",
       "      <th>Total Equity</th>\n",
       "      <th>Total Liabilities</th>\n",
       "      <th>Total Liabilities &amp; Equity</th>\n",
       "      <th>Total Revenue</th>\n",
       "      <th>Treasury Stock</th>\n",
       "      <th>For Year</th>\n",
       "      <th>Earnings Per Share</th>\n",
       "      <th>Estimated Shares Outstanding</th>\n",
       "    </tr>\n",
       "  </thead>\n",
       "  <tbody>\n",
       "    <tr>\n",
       "      <th>0</th>\n",
       "      <td>0</td>\n",
       "      <td>AAL</td>\n",
       "      <td>2012-12-31</td>\n",
       "      <td>3.068000e+09</td>\n",
       "      <td>-222000000.0</td>\n",
       "      <td>-1.961000e+09</td>\n",
       "      <td>23.0</td>\n",
       "      <td>-1.888000e+09</td>\n",
       "      <td>4.695000e+09</td>\n",
       "      <td>53.0</td>\n",
       "      <td>...</td>\n",
       "      <td>7.072000e+09</td>\n",
       "      <td>9.011000e+09</td>\n",
       "      <td>-7.987000e+09</td>\n",
       "      <td>2.489100e+10</td>\n",
       "      <td>1.690400e+10</td>\n",
       "      <td>2.485500e+10</td>\n",
       "      <td>-367000000.0</td>\n",
       "      <td>2012.0</td>\n",
       "      <td>-5.60</td>\n",
       "      <td>3.350000e+08</td>\n",
       "    </tr>\n",
       "    <tr>\n",
       "      <th>1</th>\n",
       "      <td>1</td>\n",
       "      <td>AAL</td>\n",
       "      <td>2013-12-31</td>\n",
       "      <td>4.975000e+09</td>\n",
       "      <td>-93000000.0</td>\n",
       "      <td>-2.723000e+09</td>\n",
       "      <td>67.0</td>\n",
       "      <td>-3.114000e+09</td>\n",
       "      <td>1.059200e+10</td>\n",
       "      <td>75.0</td>\n",
       "      <td>...</td>\n",
       "      <td>1.432300e+10</td>\n",
       "      <td>1.380600e+10</td>\n",
       "      <td>-2.731000e+09</td>\n",
       "      <td>4.500900e+10</td>\n",
       "      <td>4.227800e+10</td>\n",
       "      <td>2.674300e+10</td>\n",
       "      <td>0.0</td>\n",
       "      <td>2013.0</td>\n",
       "      <td>-11.25</td>\n",
       "      <td>1.630222e+08</td>\n",
       "    </tr>\n",
       "    <tr>\n",
       "      <th>2</th>\n",
       "      <td>2</td>\n",
       "      <td>AAL</td>\n",
       "      <td>2014-12-31</td>\n",
       "      <td>4.668000e+09</td>\n",
       "      <td>-160000000.0</td>\n",
       "      <td>-1.500000e+08</td>\n",
       "      <td>143.0</td>\n",
       "      <td>-5.311000e+09</td>\n",
       "      <td>1.513500e+10</td>\n",
       "      <td>60.0</td>\n",
       "      <td>...</td>\n",
       "      <td>1.175000e+10</td>\n",
       "      <td>1.340400e+10</td>\n",
       "      <td>2.021000e+09</td>\n",
       "      <td>4.120400e+10</td>\n",
       "      <td>4.322500e+10</td>\n",
       "      <td>4.265000e+10</td>\n",
       "      <td>0.0</td>\n",
       "      <td>2014.0</td>\n",
       "      <td>4.02</td>\n",
       "      <td>7.169154e+08</td>\n",
       "    </tr>\n",
       "    <tr>\n",
       "      <th>3</th>\n",
       "      <td>3</td>\n",
       "      <td>AAL</td>\n",
       "      <td>2015-12-31</td>\n",
       "      <td>5.102000e+09</td>\n",
       "      <td>352000000.0</td>\n",
       "      <td>-7.080000e+08</td>\n",
       "      <td>135.0</td>\n",
       "      <td>-6.151000e+09</td>\n",
       "      <td>1.159100e+10</td>\n",
       "      <td>51.0</td>\n",
       "      <td>...</td>\n",
       "      <td>9.985000e+09</td>\n",
       "      <td>1.360500e+10</td>\n",
       "      <td>5.635000e+09</td>\n",
       "      <td>4.278000e+10</td>\n",
       "      <td>4.841500e+10</td>\n",
       "      <td>4.099000e+10</td>\n",
       "      <td>0.0</td>\n",
       "      <td>2015.0</td>\n",
       "      <td>11.39</td>\n",
       "      <td>6.681299e+08</td>\n",
       "    </tr>\n",
       "    <tr>\n",
       "      <th>4</th>\n",
       "      <td>4</td>\n",
       "      <td>AAP</td>\n",
       "      <td>2012-12-29</td>\n",
       "      <td>2.409453e+09</td>\n",
       "      <td>-89482000.0</td>\n",
       "      <td>6.000000e+05</td>\n",
       "      <td>32.0</td>\n",
       "      <td>-2.711820e+08</td>\n",
       "      <td>5.202150e+08</td>\n",
       "      <td>23.0</td>\n",
       "      <td>...</td>\n",
       "      <td>3.184200e+09</td>\n",
       "      <td>2.559638e+09</td>\n",
       "      <td>1.210694e+09</td>\n",
       "      <td>3.403120e+09</td>\n",
       "      <td>4.613814e+09</td>\n",
       "      <td>6.205003e+09</td>\n",
       "      <td>-27095000.0</td>\n",
       "      <td>2012.0</td>\n",
       "      <td>5.29</td>\n",
       "      <td>7.328355e+07</td>\n",
       "    </tr>\n",
       "    <tr>\n",
       "      <th>...</th>\n",
       "      <td>...</td>\n",
       "      <td>...</td>\n",
       "      <td>...</td>\n",
       "      <td>...</td>\n",
       "      <td>...</td>\n",
       "      <td>...</td>\n",
       "      <td>...</td>\n",
       "      <td>...</td>\n",
       "      <td>...</td>\n",
       "      <td>...</td>\n",
       "      <td>...</td>\n",
       "      <td>...</td>\n",
       "      <td>...</td>\n",
       "      <td>...</td>\n",
       "      <td>...</td>\n",
       "      <td>...</td>\n",
       "      <td>...</td>\n",
       "      <td>...</td>\n",
       "      <td>...</td>\n",
       "      <td>...</td>\n",
       "      <td>...</td>\n",
       "    </tr>\n",
       "    <tr>\n",
       "      <th>1776</th>\n",
       "      <td>1776</td>\n",
       "      <td>ZION</td>\n",
       "      <td>2015-12-31</td>\n",
       "      <td>0.000000e+00</td>\n",
       "      <td>0.0</td>\n",
       "      <td>-2.530000e+06</td>\n",
       "      <td>4.0</td>\n",
       "      <td>-1.573610e+08</td>\n",
       "      <td>0.000000e+00</td>\n",
       "      <td>NaN</td>\n",
       "      <td>...</td>\n",
       "      <td>0.000000e+00</td>\n",
       "      <td>0.000000e+00</td>\n",
       "      <td>7.507519e+09</td>\n",
       "      <td>5.216201e+10</td>\n",
       "      <td>5.966952e+10</td>\n",
       "      <td>2.210591e+09</td>\n",
       "      <td>0.0</td>\n",
       "      <td>2015.0</td>\n",
       "      <td>1.20</td>\n",
       "      <td>2.578925e+08</td>\n",
       "    </tr>\n",
       "    <tr>\n",
       "      <th>1777</th>\n",
       "      <td>1777</td>\n",
       "      <td>ZTS</td>\n",
       "      <td>2013-12-31</td>\n",
       "      <td>1.381000e+09</td>\n",
       "      <td>-99000000.0</td>\n",
       "      <td>9.000000e+06</td>\n",
       "      <td>54.0</td>\n",
       "      <td>-1.840000e+08</td>\n",
       "      <td>8.780000e+08</td>\n",
       "      <td>43.0</td>\n",
       "      <td>...</td>\n",
       "      <td>3.357000e+09</td>\n",
       "      <td>1.415000e+09</td>\n",
       "      <td>9.400000e+08</td>\n",
       "      <td>5.618000e+09</td>\n",
       "      <td>6.558000e+09</td>\n",
       "      <td>4.561000e+09</td>\n",
       "      <td>0.0</td>\n",
       "      <td>2013.0</td>\n",
       "      <td>1.01</td>\n",
       "      <td>4.990099e+08</td>\n",
       "    </tr>\n",
       "    <tr>\n",
       "      <th>1778</th>\n",
       "      <td>1778</td>\n",
       "      <td>ZTS</td>\n",
       "      <td>2014-12-31</td>\n",
       "      <td>1.071000e+09</td>\n",
       "      <td>69000000.0</td>\n",
       "      <td>-7.000000e+06</td>\n",
       "      <td>44.0</td>\n",
       "      <td>-1.800000e+08</td>\n",
       "      <td>9.580000e+08</td>\n",
       "      <td>81.0</td>\n",
       "      <td>...</td>\n",
       "      <td>3.465000e+09</td>\n",
       "      <td>1.086000e+09</td>\n",
       "      <td>1.311000e+09</td>\n",
       "      <td>5.277000e+09</td>\n",
       "      <td>6.588000e+09</td>\n",
       "      <td>4.785000e+09</td>\n",
       "      <td>0.0</td>\n",
       "      <td>2014.0</td>\n",
       "      <td>1.16</td>\n",
       "      <td>5.025862e+08</td>\n",
       "    </tr>\n",
       "    <tr>\n",
       "      <th>1779</th>\n",
       "      <td>1779</td>\n",
       "      <td>ZTS</td>\n",
       "      <td>2015-12-31</td>\n",
       "      <td>1.313000e+09</td>\n",
       "      <td>-58000000.0</td>\n",
       "      <td>-8.100000e+07</td>\n",
       "      <td>32.0</td>\n",
       "      <td>-2.240000e+08</td>\n",
       "      <td>1.012000e+09</td>\n",
       "      <td>65.0</td>\n",
       "      <td>...</td>\n",
       "      <td>3.830000e+09</td>\n",
       "      <td>1.781000e+09</td>\n",
       "      <td>1.068000e+09</td>\n",
       "      <td>6.845000e+09</td>\n",
       "      <td>7.913000e+09</td>\n",
       "      <td>4.765000e+09</td>\n",
       "      <td>-203000000.0</td>\n",
       "      <td>2015.0</td>\n",
       "      <td>0.68</td>\n",
       "      <td>4.985294e+08</td>\n",
       "    </tr>\n",
       "    <tr>\n",
       "      <th>1780</th>\n",
       "      <td>1780</td>\n",
       "      <td>ZTS</td>\n",
       "      <td>2016-12-31</td>\n",
       "      <td>1.076000e+09</td>\n",
       "      <td>15000000.0</td>\n",
       "      <td>2.000000e+06</td>\n",
       "      <td>55.0</td>\n",
       "      <td>-2.160000e+08</td>\n",
       "      <td>1.024000e+09</td>\n",
       "      <td>65.0</td>\n",
       "      <td>...</td>\n",
       "      <td>3.390000e+09</td>\n",
       "      <td>1.117000e+09</td>\n",
       "      <td>1.487000e+09</td>\n",
       "      <td>6.162000e+09</td>\n",
       "      <td>7.649000e+09</td>\n",
       "      <td>4.888000e+09</td>\n",
       "      <td>-421000000.0</td>\n",
       "      <td>NaN</td>\n",
       "      <td>NaN</td>\n",
       "      <td>NaN</td>\n",
       "    </tr>\n",
       "  </tbody>\n",
       "</table>\n",
       "<p>1781 rows × 79 columns</p>\n",
       "</div>"
      ],
      "text/plain": [
       "      Unnamed: 0 Ticker Symbol Period Ending  Accounts Payable  \\\n",
       "0              0           AAL    2012-12-31      3.068000e+09   \n",
       "1              1           AAL    2013-12-31      4.975000e+09   \n",
       "2              2           AAL    2014-12-31      4.668000e+09   \n",
       "3              3           AAL    2015-12-31      5.102000e+09   \n",
       "4              4           AAP    2012-12-29      2.409453e+09   \n",
       "...          ...           ...           ...               ...   \n",
       "1776        1776          ZION    2015-12-31      0.000000e+00   \n",
       "1777        1777           ZTS    2013-12-31      1.381000e+09   \n",
       "1778        1778           ZTS    2014-12-31      1.071000e+09   \n",
       "1779        1779           ZTS    2015-12-31      1.313000e+09   \n",
       "1780        1780           ZTS    2016-12-31      1.076000e+09   \n",
       "\n",
       "      Accounts Receivable  Add'l income/expense items  After Tax ROE  \\\n",
       "0            -222000000.0               -1.961000e+09           23.0   \n",
       "1             -93000000.0               -2.723000e+09           67.0   \n",
       "2            -160000000.0               -1.500000e+08          143.0   \n",
       "3             352000000.0               -7.080000e+08          135.0   \n",
       "4             -89482000.0                6.000000e+05           32.0   \n",
       "...                   ...                         ...            ...   \n",
       "1776                  0.0               -2.530000e+06            4.0   \n",
       "1777          -99000000.0                9.000000e+06           54.0   \n",
       "1778           69000000.0               -7.000000e+06           44.0   \n",
       "1779          -58000000.0               -8.100000e+07           32.0   \n",
       "1780           15000000.0                2.000000e+06           55.0   \n",
       "\n",
       "      Capital Expenditures  Capital Surplus  Cash Ratio  ...  \\\n",
       "0            -1.888000e+09     4.695000e+09        53.0  ...   \n",
       "1            -3.114000e+09     1.059200e+10        75.0  ...   \n",
       "2            -5.311000e+09     1.513500e+10        60.0  ...   \n",
       "3            -6.151000e+09     1.159100e+10        51.0  ...   \n",
       "4            -2.711820e+08     5.202150e+08        23.0  ...   \n",
       "...                    ...              ...         ...  ...   \n",
       "1776         -1.573610e+08     0.000000e+00         NaN  ...   \n",
       "1777         -1.840000e+08     8.780000e+08        43.0  ...   \n",
       "1778         -1.800000e+08     9.580000e+08        81.0  ...   \n",
       "1779         -2.240000e+08     1.012000e+09        65.0  ...   \n",
       "1780         -2.160000e+08     1.024000e+09        65.0  ...   \n",
       "\n",
       "      Total Current Assets  Total Current Liabilities  Total Equity  \\\n",
       "0             7.072000e+09               9.011000e+09 -7.987000e+09   \n",
       "1             1.432300e+10               1.380600e+10 -2.731000e+09   \n",
       "2             1.175000e+10               1.340400e+10  2.021000e+09   \n",
       "3             9.985000e+09               1.360500e+10  5.635000e+09   \n",
       "4             3.184200e+09               2.559638e+09  1.210694e+09   \n",
       "...                    ...                        ...           ...   \n",
       "1776          0.000000e+00               0.000000e+00  7.507519e+09   \n",
       "1777          3.357000e+09               1.415000e+09  9.400000e+08   \n",
       "1778          3.465000e+09               1.086000e+09  1.311000e+09   \n",
       "1779          3.830000e+09               1.781000e+09  1.068000e+09   \n",
       "1780          3.390000e+09               1.117000e+09  1.487000e+09   \n",
       "\n",
       "      Total Liabilities  Total Liabilities & Equity  Total Revenue  \\\n",
       "0          2.489100e+10                1.690400e+10   2.485500e+10   \n",
       "1          4.500900e+10                4.227800e+10   2.674300e+10   \n",
       "2          4.120400e+10                4.322500e+10   4.265000e+10   \n",
       "3          4.278000e+10                4.841500e+10   4.099000e+10   \n",
       "4          3.403120e+09                4.613814e+09   6.205003e+09   \n",
       "...                 ...                         ...            ...   \n",
       "1776       5.216201e+10                5.966952e+10   2.210591e+09   \n",
       "1777       5.618000e+09                6.558000e+09   4.561000e+09   \n",
       "1778       5.277000e+09                6.588000e+09   4.785000e+09   \n",
       "1779       6.845000e+09                7.913000e+09   4.765000e+09   \n",
       "1780       6.162000e+09                7.649000e+09   4.888000e+09   \n",
       "\n",
       "      Treasury Stock  For Year  Earnings Per Share  \\\n",
       "0       -367000000.0    2012.0               -5.60   \n",
       "1                0.0    2013.0              -11.25   \n",
       "2                0.0    2014.0                4.02   \n",
       "3                0.0    2015.0               11.39   \n",
       "4        -27095000.0    2012.0                5.29   \n",
       "...              ...       ...                 ...   \n",
       "1776             0.0    2015.0                1.20   \n",
       "1777             0.0    2013.0                1.01   \n",
       "1778             0.0    2014.0                1.16   \n",
       "1779    -203000000.0    2015.0                0.68   \n",
       "1780    -421000000.0       NaN                 NaN   \n",
       "\n",
       "      Estimated Shares Outstanding  \n",
       "0                     3.350000e+08  \n",
       "1                     1.630222e+08  \n",
       "2                     7.169154e+08  \n",
       "3                     6.681299e+08  \n",
       "4                     7.328355e+07  \n",
       "...                            ...  \n",
       "1776                  2.578925e+08  \n",
       "1777                  4.990099e+08  \n",
       "1778                  5.025862e+08  \n",
       "1779                  4.985294e+08  \n",
       "1780                           NaN  \n",
       "\n",
       "[1781 rows x 79 columns]"
      ]
     },
     "execution_count": 14,
     "metadata": {},
     "output_type": "execute_result"
    }
   ],
   "source": [
    "fundamentals = pd.read_csv('fundamentals.csv')\n",
    "fundamentals"
   ]
  },
  {
   "cell_type": "code",
   "execution_count": 15,
   "id": "b8aecb64-c2d2-469b-bea7-d748834f20b2",
   "metadata": {},
   "outputs": [
    {
     "data": {
      "text/html": [
       "<div>\n",
       "<style scoped>\n",
       "    .dataframe tbody tr th:only-of-type {\n",
       "        vertical-align: middle;\n",
       "    }\n",
       "\n",
       "    .dataframe tbody tr th {\n",
       "        vertical-align: top;\n",
       "    }\n",
       "\n",
       "    .dataframe thead th {\n",
       "        text-align: right;\n",
       "    }\n",
       "</style>\n",
       "<table border=\"1\" class=\"dataframe\">\n",
       "  <thead>\n",
       "    <tr style=\"text-align: right;\">\n",
       "      <th></th>\n",
       "      <th>Unnamed: 0</th>\n",
       "      <th>Accounts Payable</th>\n",
       "      <th>Accounts Receivable</th>\n",
       "      <th>Add'l income/expense items</th>\n",
       "      <th>After Tax ROE</th>\n",
       "      <th>Capital Expenditures</th>\n",
       "      <th>Capital Surplus</th>\n",
       "      <th>Cash Ratio</th>\n",
       "      <th>Cash and Cash Equivalents</th>\n",
       "      <th>Changes in Inventories</th>\n",
       "      <th>...</th>\n",
       "      <th>Total Current Assets</th>\n",
       "      <th>Total Current Liabilities</th>\n",
       "      <th>Total Equity</th>\n",
       "      <th>Total Liabilities</th>\n",
       "      <th>Total Liabilities &amp; Equity</th>\n",
       "      <th>Total Revenue</th>\n",
       "      <th>Treasury Stock</th>\n",
       "      <th>For Year</th>\n",
       "      <th>Earnings Per Share</th>\n",
       "      <th>Estimated Shares Outstanding</th>\n",
       "    </tr>\n",
       "  </thead>\n",
       "  <tbody>\n",
       "    <tr>\n",
       "      <th>count</th>\n",
       "      <td>1781.000000</td>\n",
       "      <td>1.781000e+03</td>\n",
       "      <td>1.781000e+03</td>\n",
       "      <td>1.781000e+03</td>\n",
       "      <td>1781.000000</td>\n",
       "      <td>1.781000e+03</td>\n",
       "      <td>1.781000e+03</td>\n",
       "      <td>1482.000000</td>\n",
       "      <td>1.781000e+03</td>\n",
       "      <td>1.781000e+03</td>\n",
       "      <td>...</td>\n",
       "      <td>1.781000e+03</td>\n",
       "      <td>1.781000e+03</td>\n",
       "      <td>1.781000e+03</td>\n",
       "      <td>1.781000e+03</td>\n",
       "      <td>1.781000e+03</td>\n",
       "      <td>1.781000e+03</td>\n",
       "      <td>1.781000e+03</td>\n",
       "      <td>1608.000000</td>\n",
       "      <td>1562.000000</td>\n",
       "      <td>1.562000e+03</td>\n",
       "    </tr>\n",
       "    <tr>\n",
       "      <th>mean</th>\n",
       "      <td>890.000000</td>\n",
       "      <td>4.673418e+09</td>\n",
       "      <td>-6.353484e+07</td>\n",
       "      <td>6.908940e+07</td>\n",
       "      <td>43.601348</td>\n",
       "      <td>-1.251925e+09</td>\n",
       "      <td>5.351784e+09</td>\n",
       "      <td>74.457490</td>\n",
       "      <td>8.521399e+09</td>\n",
       "      <td>-6.787749e+07</td>\n",
       "      <td>...</td>\n",
       "      <td>6.726349e+09</td>\n",
       "      <td>4.699919e+09</td>\n",
       "      <td>1.188846e+10</td>\n",
       "      <td>4.380420e+10</td>\n",
       "      <td>5.569266e+10</td>\n",
       "      <td>2.029154e+10</td>\n",
       "      <td>-3.951522e+09</td>\n",
       "      <td>2013.305348</td>\n",
       "      <td>3.353707</td>\n",
       "      <td>6.024244e+08</td>\n",
       "    </tr>\n",
       "    <tr>\n",
       "      <th>std</th>\n",
       "      <td>514.274732</td>\n",
       "      <td>1.406047e+10</td>\n",
       "      <td>7.562794e+08</td>\n",
       "      <td>6.848143e+08</td>\n",
       "      <td>233.924028</td>\n",
       "      <td>2.979963e+09</td>\n",
       "      <td>1.133977e+10</td>\n",
       "      <td>102.298374</td>\n",
       "      <td>5.432105e+10</td>\n",
       "      <td>3.903369e+08</td>\n",
       "      <td>...</td>\n",
       "      <td>1.344800e+10</td>\n",
       "      <td>9.538832e+09</td>\n",
       "      <td>2.584429e+10</td>\n",
       "      <td>1.817039e+11</td>\n",
       "      <td>2.033612e+11</td>\n",
       "      <td>4.095355e+10</td>\n",
       "      <td>1.407047e+10</td>\n",
       "      <td>19.953135</td>\n",
       "      <td>4.695896</td>\n",
       "      <td>1.142585e+09</td>\n",
       "    </tr>\n",
       "    <tr>\n",
       "      <th>min</th>\n",
       "      <td>0.000000</td>\n",
       "      <td>0.000000e+00</td>\n",
       "      <td>-6.452000e+09</td>\n",
       "      <td>-6.768000e+09</td>\n",
       "      <td>0.000000</td>\n",
       "      <td>-3.798500e+10</td>\n",
       "      <td>-7.215000e+08</td>\n",
       "      <td>0.000000</td>\n",
       "      <td>2.100000e+04</td>\n",
       "      <td>-5.562000e+09</td>\n",
       "      <td>...</td>\n",
       "      <td>0.000000e+00</td>\n",
       "      <td>0.000000e+00</td>\n",
       "      <td>-1.324400e+10</td>\n",
       "      <td>2.577000e+06</td>\n",
       "      <td>2.705000e+06</td>\n",
       "      <td>1.514000e+06</td>\n",
       "      <td>-2.297340e+11</td>\n",
       "      <td>1215.000000</td>\n",
       "      <td>-61.200000</td>\n",
       "      <td>-1.513945e+09</td>\n",
       "    </tr>\n",
       "    <tr>\n",
       "      <th>25%</th>\n",
       "      <td>445.000000</td>\n",
       "      <td>5.160000e+08</td>\n",
       "      <td>-1.040000e+08</td>\n",
       "      <td>-2.638000e+06</td>\n",
       "      <td>10.000000</td>\n",
       "      <td>-1.151200e+09</td>\n",
       "      <td>4.791000e+08</td>\n",
       "      <td>17.000000</td>\n",
       "      <td>3.088000e+08</td>\n",
       "      <td>-5.400000e+07</td>\n",
       "      <td>...</td>\n",
       "      <td>1.044178e+09</td>\n",
       "      <td>5.640760e+08</td>\n",
       "      <td>2.201492e+09</td>\n",
       "      <td>3.843300e+09</td>\n",
       "      <td>6.552689e+09</td>\n",
       "      <td>3.714000e+09</td>\n",
       "      <td>-3.040895e+09</td>\n",
       "      <td>2013.000000</td>\n",
       "      <td>1.590000</td>\n",
       "      <td>1.493318e+08</td>\n",
       "    </tr>\n",
       "    <tr>\n",
       "      <th>50%</th>\n",
       "      <td>890.000000</td>\n",
       "      <td>1.334000e+09</td>\n",
       "      <td>-1.830000e+07</td>\n",
       "      <td>2.000000e+06</td>\n",
       "      <td>16.000000</td>\n",
       "      <td>-3.580000e+08</td>\n",
       "      <td>1.997080e+09</td>\n",
       "      <td>41.000000</td>\n",
       "      <td>8.625900e+08</td>\n",
       "      <td>0.000000e+00</td>\n",
       "      <td>...</td>\n",
       "      <td>2.747200e+09</td>\n",
       "      <td>1.701500e+09</td>\n",
       "      <td>4.983000e+09</td>\n",
       "      <td>9.141000e+09</td>\n",
       "      <td>1.517000e+10</td>\n",
       "      <td>8.023200e+09</td>\n",
       "      <td>-3.068350e+08</td>\n",
       "      <td>2014.000000</td>\n",
       "      <td>2.810000</td>\n",
       "      <td>2.929409e+08</td>\n",
       "    </tr>\n",
       "    <tr>\n",
       "      <th>75%</th>\n",
       "      <td>1335.000000</td>\n",
       "      <td>3.246000e+09</td>\n",
       "      <td>7.816000e+06</td>\n",
       "      <td>3.359200e+07</td>\n",
       "      <td>26.000000</td>\n",
       "      <td>-1.291000e+08</td>\n",
       "      <td>5.735000e+09</td>\n",
       "      <td>90.000000</td>\n",
       "      <td>2.310000e+09</td>\n",
       "      <td>0.000000e+00</td>\n",
       "      <td>...</td>\n",
       "      <td>6.162000e+09</td>\n",
       "      <td>4.381000e+09</td>\n",
       "      <td>1.080900e+10</td>\n",
       "      <td>2.389700e+10</td>\n",
       "      <td>3.599710e+10</td>\n",
       "      <td>1.748600e+10</td>\n",
       "      <td>0.000000e+00</td>\n",
       "      <td>2015.000000</td>\n",
       "      <td>4.590000</td>\n",
       "      <td>5.492163e+08</td>\n",
       "    </tr>\n",
       "    <tr>\n",
       "      <th>max</th>\n",
       "      <td>1780.000000</td>\n",
       "      <td>2.069390e+11</td>\n",
       "      <td>2.266400e+10</td>\n",
       "      <td>1.416200e+10</td>\n",
       "      <td>5789.000000</td>\n",
       "      <td>5.000000e+06</td>\n",
       "      <td>1.082880e+11</td>\n",
       "      <td>1041.000000</td>\n",
       "      <td>7.281110e+11</td>\n",
       "      <td>3.755000e+09</td>\n",
       "      <td>...</td>\n",
       "      <td>1.396600e+11</td>\n",
       "      <td>9.028100e+10</td>\n",
       "      <td>2.562050e+11</td>\n",
       "      <td>2.340547e+12</td>\n",
       "      <td>2.572274e+12</td>\n",
       "      <td>4.856510e+11</td>\n",
       "      <td>0.000000e+00</td>\n",
       "      <td>2016.000000</td>\n",
       "      <td>50.090000</td>\n",
       "      <td>1.610769e+10</td>\n",
       "    </tr>\n",
       "  </tbody>\n",
       "</table>\n",
       "<p>8 rows × 77 columns</p>\n",
       "</div>"
      ],
      "text/plain": [
       "        Unnamed: 0  Accounts Payable  Accounts Receivable  \\\n",
       "count  1781.000000      1.781000e+03         1.781000e+03   \n",
       "mean    890.000000      4.673418e+09        -6.353484e+07   \n",
       "std     514.274732      1.406047e+10         7.562794e+08   \n",
       "min       0.000000      0.000000e+00        -6.452000e+09   \n",
       "25%     445.000000      5.160000e+08        -1.040000e+08   \n",
       "50%     890.000000      1.334000e+09        -1.830000e+07   \n",
       "75%    1335.000000      3.246000e+09         7.816000e+06   \n",
       "max    1780.000000      2.069390e+11         2.266400e+10   \n",
       "\n",
       "       Add'l income/expense items  After Tax ROE  Capital Expenditures  \\\n",
       "count                1.781000e+03    1781.000000          1.781000e+03   \n",
       "mean                 6.908940e+07      43.601348         -1.251925e+09   \n",
       "std                  6.848143e+08     233.924028          2.979963e+09   \n",
       "min                 -6.768000e+09       0.000000         -3.798500e+10   \n",
       "25%                 -2.638000e+06      10.000000         -1.151200e+09   \n",
       "50%                  2.000000e+06      16.000000         -3.580000e+08   \n",
       "75%                  3.359200e+07      26.000000         -1.291000e+08   \n",
       "max                  1.416200e+10    5789.000000          5.000000e+06   \n",
       "\n",
       "       Capital Surplus   Cash Ratio  Cash and Cash Equivalents  \\\n",
       "count     1.781000e+03  1482.000000               1.781000e+03   \n",
       "mean      5.351784e+09    74.457490               8.521399e+09   \n",
       "std       1.133977e+10   102.298374               5.432105e+10   \n",
       "min      -7.215000e+08     0.000000               2.100000e+04   \n",
       "25%       4.791000e+08    17.000000               3.088000e+08   \n",
       "50%       1.997080e+09    41.000000               8.625900e+08   \n",
       "75%       5.735000e+09    90.000000               2.310000e+09   \n",
       "max       1.082880e+11  1041.000000               7.281110e+11   \n",
       "\n",
       "       Changes in Inventories  ...  Total Current Assets  \\\n",
       "count            1.781000e+03  ...          1.781000e+03   \n",
       "mean            -6.787749e+07  ...          6.726349e+09   \n",
       "std              3.903369e+08  ...          1.344800e+10   \n",
       "min             -5.562000e+09  ...          0.000000e+00   \n",
       "25%             -5.400000e+07  ...          1.044178e+09   \n",
       "50%              0.000000e+00  ...          2.747200e+09   \n",
       "75%              0.000000e+00  ...          6.162000e+09   \n",
       "max              3.755000e+09  ...          1.396600e+11   \n",
       "\n",
       "       Total Current Liabilities  Total Equity  Total Liabilities  \\\n",
       "count               1.781000e+03  1.781000e+03       1.781000e+03   \n",
       "mean                4.699919e+09  1.188846e+10       4.380420e+10   \n",
       "std                 9.538832e+09  2.584429e+10       1.817039e+11   \n",
       "min                 0.000000e+00 -1.324400e+10       2.577000e+06   \n",
       "25%                 5.640760e+08  2.201492e+09       3.843300e+09   \n",
       "50%                 1.701500e+09  4.983000e+09       9.141000e+09   \n",
       "75%                 4.381000e+09  1.080900e+10       2.389700e+10   \n",
       "max                 9.028100e+10  2.562050e+11       2.340547e+12   \n",
       "\n",
       "       Total Liabilities & Equity  Total Revenue  Treasury Stock     For Year  \\\n",
       "count                1.781000e+03   1.781000e+03    1.781000e+03  1608.000000   \n",
       "mean                 5.569266e+10   2.029154e+10   -3.951522e+09  2013.305348   \n",
       "std                  2.033612e+11   4.095355e+10    1.407047e+10    19.953135   \n",
       "min                  2.705000e+06   1.514000e+06   -2.297340e+11  1215.000000   \n",
       "25%                  6.552689e+09   3.714000e+09   -3.040895e+09  2013.000000   \n",
       "50%                  1.517000e+10   8.023200e+09   -3.068350e+08  2014.000000   \n",
       "75%                  3.599710e+10   1.748600e+10    0.000000e+00  2015.000000   \n",
       "max                  2.572274e+12   4.856510e+11    0.000000e+00  2016.000000   \n",
       "\n",
       "       Earnings Per Share  Estimated Shares Outstanding  \n",
       "count         1562.000000                  1.562000e+03  \n",
       "mean             3.353707                  6.024244e+08  \n",
       "std              4.695896                  1.142585e+09  \n",
       "min            -61.200000                 -1.513945e+09  \n",
       "25%              1.590000                  1.493318e+08  \n",
       "50%              2.810000                  2.929409e+08  \n",
       "75%              4.590000                  5.492163e+08  \n",
       "max             50.090000                  1.610769e+10  \n",
       "\n",
       "[8 rows x 77 columns]"
      ]
     },
     "execution_count": 15,
     "metadata": {},
     "output_type": "execute_result"
    }
   ],
   "source": [
    "fundamentals.describe()"
   ]
  },
  {
   "cell_type": "code",
   "execution_count": 16,
   "id": "717b6037-58fd-4aab-82d9-badca2b38a2a",
   "metadata": {},
   "outputs": [
    {
     "data": {
      "text/html": [
       "<div>\n",
       "<style scoped>\n",
       "    .dataframe tbody tr th:only-of-type {\n",
       "        vertical-align: middle;\n",
       "    }\n",
       "\n",
       "    .dataframe tbody tr th {\n",
       "        vertical-align: top;\n",
       "    }\n",
       "\n",
       "    .dataframe thead th {\n",
       "        text-align: right;\n",
       "    }\n",
       "</style>\n",
       "<table border=\"1\" class=\"dataframe\">\n",
       "  <thead>\n",
       "    <tr style=\"text-align: right;\">\n",
       "      <th></th>\n",
       "      <th>variable</th>\n",
       "      <th>mean</th>\n",
       "      <th>std_dev</th>\n",
       "      <th>variation_coef</th>\n",
       "      <th>p_0.01</th>\n",
       "      <th>p_0.05</th>\n",
       "      <th>p_0.25</th>\n",
       "      <th>p_0.5</th>\n",
       "      <th>p_0.75</th>\n",
       "      <th>p_0.95</th>\n",
       "      <th>p_0.99</th>\n",
       "    </tr>\n",
       "  </thead>\n",
       "  <tbody>\n",
       "    <tr>\n",
       "      <th>0</th>\n",
       "      <td>Unnamed: 0</td>\n",
       "      <td>8.900000e+02</td>\n",
       "      <td>5.142747e+02</td>\n",
       "      <td>0.577837</td>\n",
       "      <td>1.780000e+01</td>\n",
       "      <td>8.900000e+01</td>\n",
       "      <td>4.450000e+02</td>\n",
       "      <td>8.900000e+02</td>\n",
       "      <td>1.335000e+03</td>\n",
       "      <td>1.691000e+03</td>\n",
       "      <td>1.762200e+03</td>\n",
       "    </tr>\n",
       "    <tr>\n",
       "      <th>1</th>\n",
       "      <td>Accounts Payable</td>\n",
       "      <td>4.673418e+09</td>\n",
       "      <td>1.406047e+10</td>\n",
       "      <td>3.008606</td>\n",
       "      <td>0.000000e+00</td>\n",
       "      <td>1.413110e+08</td>\n",
       "      <td>5.160000e+08</td>\n",
       "      <td>1.334000e+09</td>\n",
       "      <td>3.246000e+09</td>\n",
       "      <td>1.678800e+10</td>\n",
       "      <td>5.745580e+10</td>\n",
       "    </tr>\n",
       "    <tr>\n",
       "      <th>2</th>\n",
       "      <td>Accounts Receivable</td>\n",
       "      <td>-6.353484e+07</td>\n",
       "      <td>7.562794e+08</td>\n",
       "      <td>-11.903381</td>\n",
       "      <td>-2.246504e+09</td>\n",
       "      <td>-6.230000e+08</td>\n",
       "      <td>-1.040000e+08</td>\n",
       "      <td>-1.830000e+07</td>\n",
       "      <td>7.816000e+06</td>\n",
       "      <td>3.590000e+08</td>\n",
       "      <td>1.455200e+09</td>\n",
       "    </tr>\n",
       "    <tr>\n",
       "      <th>3</th>\n",
       "      <td>Add'l income/expense items</td>\n",
       "      <td>6.908940e+07</td>\n",
       "      <td>6.848143e+08</td>\n",
       "      <td>9.912003</td>\n",
       "      <td>-7.884000e+08</td>\n",
       "      <td>-1.660000e+08</td>\n",
       "      <td>-2.638000e+06</td>\n",
       "      <td>2.000000e+06</td>\n",
       "      <td>3.359200e+07</td>\n",
       "      <td>4.620000e+08</td>\n",
       "      <td>1.605781e+09</td>\n",
       "    </tr>\n",
       "    <tr>\n",
       "      <th>4</th>\n",
       "      <td>After Tax ROE</td>\n",
       "      <td>4.360135e+01</td>\n",
       "      <td>2.339240e+02</td>\n",
       "      <td>5.365064</td>\n",
       "      <td>1.000000e+00</td>\n",
       "      <td>3.000000e+00</td>\n",
       "      <td>1.000000e+01</td>\n",
       "      <td>1.600000e+01</td>\n",
       "      <td>2.600000e+01</td>\n",
       "      <td>8.800000e+01</td>\n",
       "      <td>4.988000e+02</td>\n",
       "    </tr>\n",
       "    <tr>\n",
       "      <th>...</th>\n",
       "      <td>...</td>\n",
       "      <td>...</td>\n",
       "      <td>...</td>\n",
       "      <td>...</td>\n",
       "      <td>...</td>\n",
       "      <td>...</td>\n",
       "      <td>...</td>\n",
       "      <td>...</td>\n",
       "      <td>...</td>\n",
       "      <td>...</td>\n",
       "      <td>...</td>\n",
       "    </tr>\n",
       "    <tr>\n",
       "      <th>72</th>\n",
       "      <td>Total Revenue</td>\n",
       "      <td>2.029154e+10</td>\n",
       "      <td>4.095355e+10</td>\n",
       "      <td>2.018257</td>\n",
       "      <td>7.621852e+08</td>\n",
       "      <td>1.534615e+09</td>\n",
       "      <td>3.714000e+09</td>\n",
       "      <td>8.023200e+09</td>\n",
       "      <td>1.748600e+10</td>\n",
       "      <td>8.971600e+10</td>\n",
       "      <td>1.778298e+11</td>\n",
       "    </tr>\n",
       "    <tr>\n",
       "      <th>73</th>\n",
       "      <td>Treasury Stock</td>\n",
       "      <td>-3.951522e+09</td>\n",
       "      <td>1.407047e+10</td>\n",
       "      <td>-3.560772</td>\n",
       "      <td>-4.227860e+10</td>\n",
       "      <td>-1.764000e+10</td>\n",
       "      <td>-3.040895e+09</td>\n",
       "      <td>-3.068350e+08</td>\n",
       "      <td>0.000000e+00</td>\n",
       "      <td>0.000000e+00</td>\n",
       "      <td>0.000000e+00</td>\n",
       "    </tr>\n",
       "    <tr>\n",
       "      <th>74</th>\n",
       "      <td>For Year</td>\n",
       "      <td>2.013305e+03</td>\n",
       "      <td>1.995314e+01</td>\n",
       "      <td>0.009911</td>\n",
       "      <td>2.012000e+03</td>\n",
       "      <td>2.012000e+03</td>\n",
       "      <td>2.013000e+03</td>\n",
       "      <td>2.014000e+03</td>\n",
       "      <td>2.015000e+03</td>\n",
       "      <td>2.016000e+03</td>\n",
       "      <td>2.016000e+03</td>\n",
       "    </tr>\n",
       "    <tr>\n",
       "      <th>75</th>\n",
       "      <td>Earnings Per Share</td>\n",
       "      <td>3.353707e+00</td>\n",
       "      <td>4.695896e+00</td>\n",
       "      <td>1.400211</td>\n",
       "      <td>-5.209600e+00</td>\n",
       "      <td>-2.000000e-01</td>\n",
       "      <td>1.590000e+00</td>\n",
       "      <td>2.810000e+00</td>\n",
       "      <td>4.590000e+00</td>\n",
       "      <td>8.695000e+00</td>\n",
       "      <td>1.557110e+01</td>\n",
       "    </tr>\n",
       "    <tr>\n",
       "      <th>76</th>\n",
       "      <td>Estimated Shares Outstanding</td>\n",
       "      <td>6.024244e+08</td>\n",
       "      <td>1.142585e+09</td>\n",
       "      <td>1.896644</td>\n",
       "      <td>3.659114e+07</td>\n",
       "      <td>6.999742e+07</td>\n",
       "      <td>1.493318e+08</td>\n",
       "      <td>2.929409e+08</td>\n",
       "      <td>5.492163e+08</td>\n",
       "      <td>1.933960e+09</td>\n",
       "      <td>5.678718e+09</td>\n",
       "    </tr>\n",
       "  </tbody>\n",
       "</table>\n",
       "<p>77 rows × 11 columns</p>\n",
       "</div>"
      ],
      "text/plain": [
       "                        variable          mean       std_dev  variation_coef  \\\n",
       "0                     Unnamed: 0  8.900000e+02  5.142747e+02        0.577837   \n",
       "1               Accounts Payable  4.673418e+09  1.406047e+10        3.008606   \n",
       "2            Accounts Receivable -6.353484e+07  7.562794e+08      -11.903381   \n",
       "3     Add'l income/expense items  6.908940e+07  6.848143e+08        9.912003   \n",
       "4                  After Tax ROE  4.360135e+01  2.339240e+02        5.365064   \n",
       "..                           ...           ...           ...             ...   \n",
       "72                 Total Revenue  2.029154e+10  4.095355e+10        2.018257   \n",
       "73                Treasury Stock -3.951522e+09  1.407047e+10       -3.560772   \n",
       "74                      For Year  2.013305e+03  1.995314e+01        0.009911   \n",
       "75            Earnings Per Share  3.353707e+00  4.695896e+00        1.400211   \n",
       "76  Estimated Shares Outstanding  6.024244e+08  1.142585e+09        1.896644   \n",
       "\n",
       "          p_0.01        p_0.05        p_0.25         p_0.5        p_0.75  \\\n",
       "0   1.780000e+01  8.900000e+01  4.450000e+02  8.900000e+02  1.335000e+03   \n",
       "1   0.000000e+00  1.413110e+08  5.160000e+08  1.334000e+09  3.246000e+09   \n",
       "2  -2.246504e+09 -6.230000e+08 -1.040000e+08 -1.830000e+07  7.816000e+06   \n",
       "3  -7.884000e+08 -1.660000e+08 -2.638000e+06  2.000000e+06  3.359200e+07   \n",
       "4   1.000000e+00  3.000000e+00  1.000000e+01  1.600000e+01  2.600000e+01   \n",
       "..           ...           ...           ...           ...           ...   \n",
       "72  7.621852e+08  1.534615e+09  3.714000e+09  8.023200e+09  1.748600e+10   \n",
       "73 -4.227860e+10 -1.764000e+10 -3.040895e+09 -3.068350e+08  0.000000e+00   \n",
       "74  2.012000e+03  2.012000e+03  2.013000e+03  2.014000e+03  2.015000e+03   \n",
       "75 -5.209600e+00 -2.000000e-01  1.590000e+00  2.810000e+00  4.590000e+00   \n",
       "76  3.659114e+07  6.999742e+07  1.493318e+08  2.929409e+08  5.492163e+08   \n",
       "\n",
       "          p_0.95        p_0.99  \n",
       "0   1.691000e+03  1.762200e+03  \n",
       "1   1.678800e+10  5.745580e+10  \n",
       "2   3.590000e+08  1.455200e+09  \n",
       "3   4.620000e+08  1.605781e+09  \n",
       "4   8.800000e+01  4.988000e+02  \n",
       "..           ...           ...  \n",
       "72  8.971600e+10  1.778298e+11  \n",
       "73  0.000000e+00  0.000000e+00  \n",
       "74  2.016000e+03  2.016000e+03  \n",
       "75  8.695000e+00  1.557110e+01  \n",
       "76  1.933960e+09  5.678718e+09  \n",
       "\n",
       "[77 rows x 11 columns]"
      ]
     },
     "execution_count": 16,
     "metadata": {},
     "output_type": "execute_result"
    }
   ],
   "source": [
    "profiling_num(fundamentals)"
   ]
  },
  {
   "cell_type": "code",
   "execution_count": null,
   "id": "253677bf-012e-435d-bb47-268343ac25cd",
   "metadata": {},
   "outputs": [],
   "source": []
  }
 ],
 "metadata": {
  "kernelspec": {
   "display_name": "Python 3 (ipykernel)",
   "language": "python",
   "name": "python3"
  },
  "language_info": {
   "codemirror_mode": {
    "name": "ipython",
    "version": 3
   },
   "file_extension": ".py",
   "mimetype": "text/x-python",
   "name": "python",
   "nbconvert_exporter": "python",
   "pygments_lexer": "ipython3",
   "version": "3.8.12"
  }
 },
 "nbformat": 4,
 "nbformat_minor": 5
}
